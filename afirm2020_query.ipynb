{
  "nbformat": 4,
  "nbformat_minor": 0,
  "metadata": {
    "colab": {
      "name": "afirm2020-query.ipynb",
      "provenance": [],
      "collapsed_sections": [],
      "include_colab_link": true
    },
    "kernelspec": {
      "name": "python3",
      "display_name": "Python 3"
    }
  },
  "cells": [
    {
      "cell_type": "markdown",
      "metadata": {
        "id": "view-in-github",
        "colab_type": "text"
      },
      "source": [
        "<a href=\"https://colab.research.google.com/github/castorini/anserini-notebooks-afirm2020/blob/master/afirm2020_query.ipynb\" target=\"_parent\"><img src=\"https://colab.research.google.com/assets/colab-badge.svg\" alt=\"Open In Colab\"/></a>"
      ]
    },
    {
      "cell_type": "markdown",
      "metadata": {
        "id": "URfNSXe6L8sH",
        "colab_type": "text"
      },
      "source": [
        "# Querying\n",
        "\n",
        "In this exercise, we are going to first interactively query the index and then produce a TREC run with [Pyserini](https://github.com/castorini/pyserini), the Python interface to Anserini."
      ]
    },
    {
      "cell_type": "markdown",
      "metadata": {
        "id": "m1y2srQHdOA3",
        "colab_type": "text"
      },
      "source": [
        "## Setup"
      ]
    },
    {
      "cell_type": "markdown",
      "metadata": {
        "id": "hoP7jph2d78z",
        "colab_type": "text"
      },
      "source": [
        "Install Python dependencies:"
      ]
    },
    {
      "cell_type": "code",
      "metadata": {
        "id": "IFGfQRYFMO2A",
        "colab_type": "code",
        "colab": {}
      },
      "source": [
        "%%capture\n",
        "\n",
        "# Note that we're using an experimental TestPyPI release, not the stable release in PyPI\n",
        "!pip install pyjnius==1.2\n",
        "!pip install -i https://test.pypi.org/simple/ pyserini==0.6.1.post1\n",
        "\n",
        "import os\n",
        "os.environ[\"JAVA_HOME\"] = \"/usr/lib/jvm/java-11-openjdk-amd64\""
      ],
      "execution_count": 0,
      "outputs": []
    },
    {
      "cell_type": "markdown",
      "metadata": {
        "id": "z0HQz3QLd-9_",
        "colab_type": "text"
      },
      "source": [
        "Fix known issue with pyjnius (see [this explanation](https://github.com/castorini/pyserini/blob/master/README.md#known-issues) for details):"
      ]
    },
    {
      "cell_type": "code",
      "metadata": {
        "id": "eKT2WWp2eEJy",
        "colab_type": "code",
        "colab": {}
      },
      "source": [
        "%%capture\n",
        "\n",
        "!mkdir -p /usr/lib/jvm/java-1.11.0-openjdk-amd64/jre/lib/amd64/server/\n",
        "!ln -s /usr/lib/jvm/java-1.11.0-openjdk-amd64/lib/server/libjvm.so /usr/lib/jvm/java-1.11.0-openjdk-amd64/jre/lib/amd64/server/libjvm.so"
      ],
      "execution_count": 0,
      "outputs": []
    },
    {
      "cell_type": "markdown",
      "metadata": {
        "id": "lnqt7w1sU4Dv",
        "colab_type": "text"
      },
      "source": [
        "Let's pull the Anserini jar:"
      ]
    },
    {
      "cell_type": "code",
      "metadata": {
        "id": "h4xSZLdsVS3-",
        "colab_type": "code",
        "colab": {}
      },
      "source": [
        "%%capture\n",
        "\n",
        "!gsutil -m cp gs://afirm2020/anserini-0.6.1-SNAPSHOT-fatjar.jar ."
      ],
      "execution_count": 0,
      "outputs": []
    },
    {
      "cell_type": "markdown",
      "metadata": {
        "id": "1Wcr7BpfVgSg",
        "colab_type": "text"
      },
      "source": [
        "Let's point Pyserini to the Anserini jar that we have just pulled:"
      ]
    },
    {
      "cell_type": "code",
      "metadata": {
        "id": "VuAwdnkpViBH",
        "colab_type": "code",
        "colab": {}
      },
      "source": [
        "os.environ['ANSERINI_CLASSPATH'] = '.'"
      ],
      "execution_count": 0,
      "outputs": []
    },
    {
      "cell_type": "markdown",
      "metadata": {
        "id": "rsEU-U3ketRL",
        "colab_type": "text"
      },
      "source": [
        "## Interactive Querying"
      ]
    },
    {
      "cell_type": "markdown",
      "metadata": {
        "id": "zK1D24DDTWcO",
        "colab_type": "text"
      },
      "source": [
        "Pull the pre-built index from GCS:"
      ]
    },
    {
      "cell_type": "code",
      "metadata": {
        "id": "HU6Vyp4PTY7p",
        "colab_type": "code",
        "colab": {}
      },
      "source": [
        "%%capture\n",
        "\n",
        "!gsutil -m cp -r gs://afirm2020/indexes ."
      ],
      "execution_count": 0,
      "outputs": []
    },
    {
      "cell_type": "code",
      "metadata": {
        "id": "wokA-RljLy0V",
        "colab_type": "code",
        "colab": {}
      },
      "source": [
        "from pyserini.search import pysearch\n",
        "import itertools"
      ],
      "execution_count": 0,
      "outputs": []
    },
    {
      "cell_type": "markdown",
      "metadata": {
        "id": "FO8CncEOcbjq",
        "colab_type": "text"
      },
      "source": [
        "First, let's see what topics are defined for our collection:"
      ]
    },
    {
      "cell_type": "code",
      "metadata": {
        "id": "RSlbbOMecd2d",
        "colab_type": "code",
        "outputId": "a1c92c2e-ede3-401d-d20a-c3b635c3341a",
        "colab": {
          "base_uri": "https://localhost:8080/",
          "height": 411
        }
      },
      "source": [
        "topics = pysearch.get_topics('msmarco_passage_dev_subset')\n",
        "\n",
        "for q in itertools.islice(topics.items(), 20):\n",
        "    print('{} {}'.format(q[0], q[1]['title']))\n",
        "\n",
        "print('\\n{} queries total'.format(len(topics)))"
      ],
      "execution_count": 0,
      "outputs": [
        {
          "output_type": "stream",
          "text": [
            "2 Androgen receptor define\n",
            "1215 3 levels of government in canada and their responsibilities\n",
            "1288 3/5 of 60\n",
            "1576 60x40 slab cost\n",
            "2235 Bethel University was founded in what year\n",
            "2798 Does Suddenlink Carry ESPN3\n",
            "2962 Explain what a bone scan is and what it is used for.\n",
            "4696 Is the Louisiana sales tax 4.75\n",
            "4947 Ludacris Net Worth\n",
            "5925 Sony PS-LX300USB how to connect to pc\n",
            "6217 The hormone that does the opposite of calcitonin is\n",
            "6791 What Does Noel Mean in the Bible\n",
            "7968 When did the earthquake hit San Francisco during the World Series\n",
            "8701 _____ is the ability of cardiac pacemaker cells to spontaneously initiate an electrical impulse without being stimulated from another source, such as a nerve.\n",
            "8714 _____ is the name used to refer to the era of legalized segregation in the united states\n",
            "8798 _______ is a fuel produced by fermenting crops.\n",
            "8854 ________ disparity refers to the slightly different view of the world that each eye receives.cyclopeanbinocularmonoculartrichromatic\n",
            "9083 ____________________ is considered the father of modern medicine.\n",
            "9454 a simple definition for the word bias.\n",
            "9926 about how many fans does mexico soccer team\n",
            "\n",
            "6980 queries total\n"
          ],
          "name": "stdout"
        }
      ]
    },
    {
      "cell_type": "markdown",
      "metadata": {
        "id": "4xMlOOqhe5xp",
        "colab_type": "text"
      },
      "source": [
        "The hits data structure holds the docid, the retrieval score, as well as the document content.\n",
        "Let's look at the top 10 passages for the query `hubble space telescope`:"
      ]
    },
    {
      "cell_type": "code",
      "metadata": {
        "id": "IpsnrIaoMYg_",
        "colab_type": "code",
        "outputId": "2f7fe4fb-91dd-464a-e841-e4c3a47b9f6f",
        "colab": {
          "base_uri": "https://localhost:8080/",
          "height": 950
        }
      },
      "source": [
        "from IPython.core.display import display, HTML\n",
        "\n",
        "searcher = pysearch.SimpleSearcher('indexes/lucene-index.msmarco-passage.pos+docvectors+rawdocs')\n",
        "interactive_hits = searcher.search('hubble space telescope')\n",
        "\n",
        "for i in range(0, 10):\n",
        "    print('Rank: {} | Passage ID: {} | BM25 Score: {}'.format(i+1, interactive_hits[i].docid, interactive_hits[i].score))\n",
        "    display(HTML('<div style=\"font-family: Times New Roman; padding-bottom:10px\">' + interactive_hits[i].content + '</div>'))"
      ],
      "execution_count": 0,
      "outputs": [
        {
          "output_type": "stream",
          "text": [
            "Rank: 1 | Passage ID: 7459250 | BM25 Score: 17.55699920654297\n"
          ],
          "name": "stdout"
        },
        {
          "output_type": "display_data",
          "data": {
            "text/html": [
              "<div style=\"font-family: Times New Roman; padding-bottom:10px\">Hubble Space Telescope. The Hubble Space Telescope is a space telescope that was carried into orbit by a Space Shuttle in 1990 and remains in operation. A 2.4-meter aperture telescope in low Earth orbit, Hubble's four main instruments observe in the near ultraviolet, visible, and near infrared.</div>"
            ],
            "text/plain": [
              "<IPython.core.display.HTML object>"
            ]
          },
          "metadata": {
            "tags": []
          }
        },
        {
          "output_type": "stream",
          "text": [
            "Rank: 2 | Passage ID: 5161596 | BM25 Score: 17.27869987487793\n"
          ],
          "name": "stdout"
        },
        {
          "output_type": "display_data",
          "data": {
            "text/html": [
              "<div style=\"font-family: Times New Roman; padding-bottom:10px\">Beyond Hubble: The Next Generation Space Telescope. Hubble's important mission will come to an end one day in the future. But the telescope's ultimate retirement will not signal the end of our unrivaled view of the universe.Rather, it will mark a new beginning -- and even more amazing discoveries and images from space. For Hubble has a successor.eyond Hubble: The Next Generation Space Telescope. Hubble's important mission will come to an end one day in the future. But the telescope's ultimate retirement will not signal the end of our unrivaled view of the universe.</div>"
            ],
            "text/plain": [
              "<IPython.core.display.HTML object>"
            ]
          },
          "metadata": {
            "tags": []
          }
        },
        {
          "output_type": "stream",
          "text": [
            "Rank: 3 | Passage ID: 5161598 | BM25 Score: 17.200599670410156\n"
          ],
          "name": "stdout"
        },
        {
          "output_type": "display_data",
          "data": {
            "text/html": [
              "<div style=\"font-family: Times New Roman; padding-bottom:10px\">The Hubble Space Telescope (HST) is a space telescope that was launched into low Earth orbit in 1990, and remains in operation.With a 2.4-meter (7.9 ft) mirror, Hubble's four main instruments observe in the near ultraviolet, visible, and near infrared spectra.he Hubble Space Telescope (HST) is a space telescope that was launched into low Earth orbit in 1990, and remains in operation.</div>"
            ],
            "text/plain": [
              "<IPython.core.display.HTML object>"
            ]
          },
          "metadata": {
            "tags": []
          }
        },
        {
          "output_type": "stream",
          "text": [
            "Rank: 4 | Passage ID: 2850821 | BM25 Score: 17.078800201416016\n"
          ],
          "name": "stdout"
        },
        {
          "output_type": "display_data",
          "data": {
            "text/html": [
              "<div style=\"font-family: Times New Roman; padding-bottom:10px\">Hubble Space Telescope. The first element of the program -- and arguably the best known -- is the Hubble Space Telescope (HST). The Hubble telescope was deployed by a NASA Space Shuttle in 1990. A subsequent Shuttle mission in 1993 serviced HST and recovered its full capability.</div>"
            ],
            "text/plain": [
              "<IPython.core.display.HTML object>"
            ]
          },
          "metadata": {
            "tags": []
          }
        },
        {
          "output_type": "stream",
          "text": [
            "Rank: 5 | Passage ID: 6293829 | BM25 Score: 16.884000778198242\n"
          ],
          "name": "stdout"
        },
        {
          "output_type": "display_data",
          "data": {
            "text/html": [
              "<div style=\"font-family: Times New Roman; padding-bottom:10px\">This NASA photo shows the Hubble Space Telescope in May 2009 as Atlantis astronauts release it into space after its fifth and final overhaul. Hubble launched into space on April 24, 1990 and celebrated its 20th birthday in 2010.Credit: NASA.he Hubble is the first telescope specifically designed to be repaired in space by astronauts, while other space telescopes cannot be serviced at all. NASA scientists estimate that the telescope will only be able to keep taking pictures for five more years.</div>"
            ],
            "text/plain": [
              "<IPython.core.display.HTML object>"
            ]
          },
          "metadata": {
            "tags": []
          }
        },
        {
          "output_type": "stream",
          "text": [
            "Rank: 6 | Passage ID: 5161594 | BM25 Score: 16.834800720214844\n"
          ],
          "name": "stdout"
        },
        {
          "output_type": "display_data",
          "data": {
            "text/html": [
              "<div style=\"font-family: Times New Roman; padding-bottom:10px\">The telescope is named after the astronomer Edwin Hubble. Hubble's orbit outside the distortion of Earth's atmosphere allows it to take extremely high-resolution images with negligible background light. Hubble has recorded some of the most detailed visible-light images ever, allowing a deep view into space and time.he Hubble Space Telescope (HST) is a space telescope that was launched into low Earth orbit in 1990, and remains in operation.</div>"
            ],
            "text/plain": [
              "<IPython.core.display.HTML object>"
            ]
          },
          "metadata": {
            "tags": []
          }
        },
        {
          "output_type": "stream",
          "text": [
            "Rank: 7 | Passage ID: 1245535 | BM25 Score: 16.823299407958984\n"
          ],
          "name": "stdout"
        },
        {
          "output_type": "display_data",
          "data": {
            "text/html": [
              "<div style=\"font-family: Times New Roman; padding-bottom:10px\">Hubble Space Telescope. HST Overview. Introduction to Hubble. The Hubble Space Telescope (HST) is a cooperative program of the European Space Agency (ESA) and the National Aeronautics and Space Administration (NASA) to operate a space-based observatory for the benefit of the international astronomical community.</div>"
            ],
            "text/plain": [
              "<IPython.core.display.HTML object>"
            ]
          },
          "metadata": {
            "tags": []
          }
        },
        {
          "output_type": "stream",
          "text": [
            "Rank: 8 | Passage ID: 6293823 | BM25 Score: 16.711700439453125\n"
          ],
          "name": "stdout"
        },
        {
          "output_type": "display_data",
          "data": {
            "text/html": [
              "<div style=\"font-family: Times New Roman; padding-bottom:10px\">About Hubble. The Hubble Space Telescope is a collaboration between ESA and NASA. It's a long-term, space-based observatory. The observations are carried out in visible, infrared and ultraviolet light.bout Hubble. The Hubble Space Telescope is a collaboration between ESA and NASA. It's a long-term, space-based observatory. The observations are carried out in visible, infrared and ultraviolet light.</div>"
            ],
            "text/plain": [
              "<IPython.core.display.HTML object>"
            ]
          },
          "metadata": {
            "tags": []
          }
        },
        {
          "output_type": "stream",
          "text": [
            "Rank: 9 | Passage ID: 4786545 | BM25 Score: 16.60740089416504\n"
          ],
          "name": "stdout"
        },
        {
          "output_type": "display_data",
          "data": {
            "text/html": [
              "<div style=\"font-family: Times New Roman; padding-bottom:10px\">About Hubble. The Hubble Space Telescope is a collaboration between ESA and NASA. It's a long-term, space-based observatory. The observations are carried out in visible, infrared and ultraviolet light.utting a telescope in space is one way of evading this problem. As well as collecting visible light from its orbit high above the atmosphere, the Hubble Space Telescope also observes the infrared and ultraviolet wavelengths that are completely filtered out by the atmosphere.</div>"
            ],
            "text/plain": [
              "<IPython.core.display.HTML object>"
            ]
          },
          "metadata": {
            "tags": []
          }
        },
        {
          "output_type": "stream",
          "text": [
            "Rank: 10 | Passage ID: 7212596 | BM25 Score: 16.604999542236328\n"
          ],
          "name": "stdout"
        },
        {
          "output_type": "display_data",
          "data": {
            "text/html": [
              "<div style=\"font-family: Times New Roman; padding-bottom:10px\">The Hubble Space Telescope has won two Space Achievement Awards from the Space Foundation, for its outreach activities, in 2001 and 2010. There is a replica of the Hubble Space Telescope on the courthouse lawn in Marshfield, Missouri, the hometown of namesake Edwin P. Hubble. Celebration images</div>"
            ],
            "text/plain": [
              "<IPython.core.display.HTML object>"
            ]
          },
          "metadata": {
            "tags": []
          }
        }
      ]
    },
    {
      "cell_type": "markdown",
      "metadata": {
        "id": "ogrmRRfobshT",
        "colab_type": "text"
      },
      "source": [
        "The above example uses default parameters.\n",
        "Let's try setting tuned parameters for this collection:"
      ]
    },
    {
      "cell_type": "code",
      "metadata": {
        "id": "XIP34ZtsCaB5",
        "colab_type": "code",
        "outputId": "83fce249-db7e-4515-8db3-0f85eb747638",
        "colab": {
          "base_uri": "https://localhost:8080/",
          "height": 950
        }
      },
      "source": [
        "searcher.set_bm25_similarity(0.82, 0.68)\n",
        "interactive_hits_tuned = searcher.search('hubble space telescope')\n",
        "\n",
        "for i in range(0, 10):\n",
        "    print('Rank: {} | Passage ID: {} | BM25 Score: {}'.format(i+1, interactive_hits_tuned[i].docid, interactive_hits_tuned[i].score))\n",
        "    display(HTML('<div style=\"font-family: Times New Roman; padding-bottom:10px\">' + interactive_hits[i].content + '</div>'))"
      ],
      "execution_count": 0,
      "outputs": [
        {
          "output_type": "stream",
          "text": [
            "Rank: 1 | Passage ID: 7459250 | BM25 Score: 18.049400329589844\n"
          ],
          "name": "stdout"
        },
        {
          "output_type": "display_data",
          "data": {
            "text/html": [
              "<div style=\"font-family: Times New Roman; padding-bottom:10px\">Hubble Space Telescope. The Hubble Space Telescope is a space telescope that was carried into orbit by a Space Shuttle in 1990 and remains in operation. A 2.4-meter aperture telescope in low Earth orbit, Hubble's four main instruments observe in the near ultraviolet, visible, and near infrared.</div>"
            ],
            "text/plain": [
              "<IPython.core.display.HTML object>"
            ]
          },
          "metadata": {
            "tags": []
          }
        },
        {
          "output_type": "stream",
          "text": [
            "Rank: 2 | Passage ID: 2850821 | BM25 Score: 17.676300048828125\n"
          ],
          "name": "stdout"
        },
        {
          "output_type": "display_data",
          "data": {
            "text/html": [
              "<div style=\"font-family: Times New Roman; padding-bottom:10px\">Beyond Hubble: The Next Generation Space Telescope. Hubble's important mission will come to an end one day in the future. But the telescope's ultimate retirement will not signal the end of our unrivaled view of the universe.Rather, it will mark a new beginning -- and even more amazing discoveries and images from space. For Hubble has a successor.eyond Hubble: The Next Generation Space Telescope. Hubble's important mission will come to an end one day in the future. But the telescope's ultimate retirement will not signal the end of our unrivaled view of the universe.</div>"
            ],
            "text/plain": [
              "<IPython.core.display.HTML object>"
            ]
          },
          "metadata": {
            "tags": []
          }
        },
        {
          "output_type": "stream",
          "text": [
            "Rank: 3 | Passage ID: 5161598 | BM25 Score: 17.472700119018555\n"
          ],
          "name": "stdout"
        },
        {
          "output_type": "display_data",
          "data": {
            "text/html": [
              "<div style=\"font-family: Times New Roman; padding-bottom:10px\">The Hubble Space Telescope (HST) is a space telescope that was launched into low Earth orbit in 1990, and remains in operation.With a 2.4-meter (7.9 ft) mirror, Hubble's four main instruments observe in the near ultraviolet, visible, and near infrared spectra.he Hubble Space Telescope (HST) is a space telescope that was launched into low Earth orbit in 1990, and remains in operation.</div>"
            ],
            "text/plain": [
              "<IPython.core.display.HTML object>"
            ]
          },
          "metadata": {
            "tags": []
          }
        },
        {
          "output_type": "stream",
          "text": [
            "Rank: 4 | Passage ID: 1245535 | BM25 Score: 17.435800552368164\n"
          ],
          "name": "stdout"
        },
        {
          "output_type": "display_data",
          "data": {
            "text/html": [
              "<div style=\"font-family: Times New Roman; padding-bottom:10px\">Hubble Space Telescope. The first element of the program -- and arguably the best known -- is the Hubble Space Telescope (HST). The Hubble telescope was deployed by a NASA Space Shuttle in 1990. A subsequent Shuttle mission in 1993 serviced HST and recovered its full capability.</div>"
            ],
            "text/plain": [
              "<IPython.core.display.HTML object>"
            ]
          },
          "metadata": {
            "tags": []
          }
        },
        {
          "output_type": "stream",
          "text": [
            "Rank: 5 | Passage ID: 5161596 | BM25 Score: 17.278400421142578\n"
          ],
          "name": "stdout"
        },
        {
          "output_type": "display_data",
          "data": {
            "text/html": [
              "<div style=\"font-family: Times New Roman; padding-bottom:10px\">This NASA photo shows the Hubble Space Telescope in May 2009 as Atlantis astronauts release it into space after its fifth and final overhaul. Hubble launched into space on April 24, 1990 and celebrated its 20th birthday in 2010.Credit: NASA.he Hubble is the first telescope specifically designed to be repaired in space by astronauts, while other space telescopes cannot be serviced at all. NASA scientists estimate that the telescope will only be able to keep taking pictures for five more years.</div>"
            ],
            "text/plain": [
              "<IPython.core.display.HTML object>"
            ]
          },
          "metadata": {
            "tags": []
          }
        },
        {
          "output_type": "stream",
          "text": [
            "Rank: 6 | Passage ID: 7212596 | BM25 Score: 17.176700592041016\n"
          ],
          "name": "stdout"
        },
        {
          "output_type": "display_data",
          "data": {
            "text/html": [
              "<div style=\"font-family: Times New Roman; padding-bottom:10px\">The telescope is named after the astronomer Edwin Hubble. Hubble's orbit outside the distortion of Earth's atmosphere allows it to take extremely high-resolution images with negligible background light. Hubble has recorded some of the most detailed visible-light images ever, allowing a deep view into space and time.he Hubble Space Telescope (HST) is a space telescope that was launched into low Earth orbit in 1990, and remains in operation.</div>"
            ],
            "text/plain": [
              "<IPython.core.display.HTML object>"
            ]
          },
          "metadata": {
            "tags": []
          }
        },
        {
          "output_type": "stream",
          "text": [
            "Rank: 7 | Passage ID: 2850825 | BM25 Score: 17.11989974975586\n"
          ],
          "name": "stdout"
        },
        {
          "output_type": "display_data",
          "data": {
            "text/html": [
              "<div style=\"font-family: Times New Roman; padding-bottom:10px\">Hubble Space Telescope. HST Overview. Introduction to Hubble. The Hubble Space Telescope (HST) is a cooperative program of the European Space Agency (ESA) and the National Aeronautics and Space Administration (NASA) to operate a space-based observatory for the benefit of the international astronomical community.</div>"
            ],
            "text/plain": [
              "<IPython.core.display.HTML object>"
            ]
          },
          "metadata": {
            "tags": []
          }
        },
        {
          "output_type": "stream",
          "text": [
            "Rank: 8 | Passage ID: 7459249 | BM25 Score: 17.072599411010742\n"
          ],
          "name": "stdout"
        },
        {
          "output_type": "display_data",
          "data": {
            "text/html": [
              "<div style=\"font-family: Times New Roman; padding-bottom:10px\">About Hubble. The Hubble Space Telescope is a collaboration between ESA and NASA. It's a long-term, space-based observatory. The observations are carried out in visible, infrared and ultraviolet light.bout Hubble. The Hubble Space Telescope is a collaboration between ESA and NASA. It's a long-term, space-based observatory. The observations are carried out in visible, infrared and ultraviolet light.</div>"
            ],
            "text/plain": [
              "<IPython.core.display.HTML object>"
            ]
          },
          "metadata": {
            "tags": []
          }
        },
        {
          "output_type": "stream",
          "text": [
            "Rank: 9 | Passage ID: 6293823 | BM25 Score: 17.049299240112305\n"
          ],
          "name": "stdout"
        },
        {
          "output_type": "display_data",
          "data": {
            "text/html": [
              "<div style=\"font-family: Times New Roman; padding-bottom:10px\">About Hubble. The Hubble Space Telescope is a collaboration between ESA and NASA. It's a long-term, space-based observatory. The observations are carried out in visible, infrared and ultraviolet light.utting a telescope in space is one way of evading this problem. As well as collecting visible light from its orbit high above the atmosphere, the Hubble Space Telescope also observes the infrared and ultraviolet wavelengths that are completely filtered out by the atmosphere.</div>"
            ],
            "text/plain": [
              "<IPython.core.display.HTML object>"
            ]
          },
          "metadata": {
            "tags": []
          }
        },
        {
          "output_type": "stream",
          "text": [
            "Rank: 10 | Passage ID: 5161594 | BM25 Score: 16.98889923095703\n"
          ],
          "name": "stdout"
        },
        {
          "output_type": "display_data",
          "data": {
            "text/html": [
              "<div style=\"font-family: Times New Roman; padding-bottom:10px\">The Hubble Space Telescope has won two Space Achievement Awards from the Space Foundation, for its outreach activities, in 2001 and 2010. There is a replica of the Hubble Space Telescope on the courthouse lawn in Marshfield, Missouri, the hometown of namesake Edwin P. Hubble. Celebration images</div>"
            ],
            "text/plain": [
              "<IPython.core.display.HTML object>"
            ]
          },
          "metadata": {
            "tags": []
          }
        }
      ]
    },
    {
      "cell_type": "markdown",
      "metadata": {
        "id": "mdZeRTf3ClAR",
        "colab_type": "text"
      },
      "source": [
        "Note how the ranking has changed.\n",
        "We can also enable RM3 query expansion to see if it helps with our collection:"
      ]
    },
    {
      "cell_type": "code",
      "metadata": {
        "id": "LH3EVKaTMcgg",
        "colab_type": "code",
        "outputId": "1f5dfcb5-9086-4536-e21e-23115af55da7",
        "colab": {
          "base_uri": "https://localhost:8080/",
          "height": 831
        }
      },
      "source": [
        "searcher.set_rm3_reranker(10, 10, 0.5)\n",
        "interactive_hits_tuned_rm3 = searcher.search('hubble space telescope')\n",
        "\n",
        "for i in range(0, 10):\n",
        "    print('Rank: {} | Passage ID: {} | BM25 Score: {}'.format(i+1, interactive_hits_tuned_rm3[i].docid, interactive_hits_tuned_rm3[i].score))\n",
        "    display(HTML('<div style=\"font-family: Times New Roman; padding-bottom:10px\">' + interactive_hits_tuned_rm3[i].content + '</div>'))"
      ],
      "execution_count": 0,
      "outputs": [
        {
          "output_type": "stream",
          "text": [
            "Rank: 1 | Passage ID: 2850821 | BM25 Score: 5.4944000244140625\n"
          ],
          "name": "stdout"
        },
        {
          "output_type": "display_data",
          "data": {
            "text/html": [
              "<div style=\"font-family: Times New Roman; padding-bottom:10px\">Hubble Space Telescope. The first element of the program -- and arguably the best known -- is the Hubble Space Telescope (HST). The Hubble telescope was deployed by a NASA Space Shuttle in 1990. A subsequent Shuttle mission in 1993 serviced HST and recovered its full capability.</div>"
            ],
            "text/plain": [
              "<IPython.core.display.HTML object>"
            ]
          },
          "metadata": {
            "tags": []
          }
        },
        {
          "output_type": "stream",
          "text": [
            "Rank: 2 | Passage ID: 7459250 | BM25 Score: 5.4899001121521\n"
          ],
          "name": "stdout"
        },
        {
          "output_type": "display_data",
          "data": {
            "text/html": [
              "<div style=\"font-family: Times New Roman; padding-bottom:10px\">Hubble Space Telescope. The Hubble Space Telescope is a space telescope that was carried into orbit by a Space Shuttle in 1990 and remains in operation. A 2.4-meter aperture telescope in low Earth orbit, Hubble's four main instruments observe in the near ultraviolet, visible, and near infrared.</div>"
            ],
            "text/plain": [
              "<IPython.core.display.HTML object>"
            ]
          },
          "metadata": {
            "tags": []
          }
        },
        {
          "output_type": "stream",
          "text": [
            "Rank: 3 | Passage ID: 5161598 | BM25 Score: 5.4415998458862305\n"
          ],
          "name": "stdout"
        },
        {
          "output_type": "display_data",
          "data": {
            "text/html": [
              "<div style=\"font-family: Times New Roman; padding-bottom:10px\">The Hubble Space Telescope (HST) is a space telescope that was launched into low Earth orbit in 1990, and remains in operation.With a 2.4-meter (7.9 ft) mirror, Hubble's four main instruments observe in the near ultraviolet, visible, and near infrared spectra.he Hubble Space Telescope (HST) is a space telescope that was launched into low Earth orbit in 1990, and remains in operation.</div>"
            ],
            "text/plain": [
              "<IPython.core.display.HTML object>"
            ]
          },
          "metadata": {
            "tags": []
          }
        },
        {
          "output_type": "stream",
          "text": [
            "Rank: 4 | Passage ID: 1245535 | BM25 Score: 5.355100154876709\n"
          ],
          "name": "stdout"
        },
        {
          "output_type": "display_data",
          "data": {
            "text/html": [
              "<div style=\"font-family: Times New Roman; padding-bottom:10px\">Hubble Space Telescope. HST Overview. Introduction to Hubble. The Hubble Space Telescope (HST) is a cooperative program of the European Space Agency (ESA) and the National Aeronautics and Space Administration (NASA) to operate a space-based observatory for the benefit of the international astronomical community.</div>"
            ],
            "text/plain": [
              "<IPython.core.display.HTML object>"
            ]
          },
          "metadata": {
            "tags": []
          }
        },
        {
          "output_type": "stream",
          "text": [
            "Rank: 5 | Passage ID: 5161594 | BM25 Score: 5.238800048828125\n"
          ],
          "name": "stdout"
        },
        {
          "output_type": "display_data",
          "data": {
            "text/html": [
              "<div style=\"font-family: Times New Roman; padding-bottom:10px\">The telescope is named after the astronomer Edwin Hubble. Hubble's orbit outside the distortion of Earth's atmosphere allows it to take extremely high-resolution images with negligible background light. Hubble has recorded some of the most detailed visible-light images ever, allowing a deep view into space and time.he Hubble Space Telescope (HST) is a space telescope that was launched into low Earth orbit in 1990, and remains in operation.</div>"
            ],
            "text/plain": [
              "<IPython.core.display.HTML object>"
            ]
          },
          "metadata": {
            "tags": []
          }
        },
        {
          "output_type": "stream",
          "text": [
            "Rank: 6 | Passage ID: 4953234 | BM25 Score: 5.173600196838379\n"
          ],
          "name": "stdout"
        },
        {
          "output_type": "display_data",
          "data": {
            "text/html": [
              "<div style=\"font-family: Times New Roman; padding-bottom:10px\">The Hubble Space Telescope (HST) is a space telescope that was launched into low Earth orbit in 1990, and remains in operation. Although not the first space telescope, Hubble is one of the largest and most versatile, and is well known as both a vital research tool and a public relations boon for astronomy.</div>"
            ],
            "text/plain": [
              "<IPython.core.display.HTML object>"
            ]
          },
          "metadata": {
            "tags": []
          }
        },
        {
          "output_type": "stream",
          "text": [
            "Rank: 7 | Passage ID: 3814658 | BM25 Score: 5.135799884796143\n"
          ],
          "name": "stdout"
        },
        {
          "output_type": "display_data",
          "data": {
            "text/html": [
              "<div style=\"font-family: Times New Roman; padding-bottom:10px\">The Hubble Space Telescope (HST) is a space telescope that was launched into low Earth orbit in 1990, and remains in operation.</div>"
            ],
            "text/plain": [
              "<IPython.core.display.HTML object>"
            ]
          },
          "metadata": {
            "tags": []
          }
        },
        {
          "output_type": "stream",
          "text": [
            "Rank: 8 | Passage ID: 509660 | BM25 Score: 5.13539981842041\n"
          ],
          "name": "stdout"
        },
        {
          "output_type": "display_data",
          "data": {
            "text/html": [
              "<div style=\"font-family: Times New Roman; padding-bottom:10px\">NASA is building another space telescope. It is called the James Webb Space Telescope. It will be bigger than Hubble. Webb will not orbit Earth as Hubble does. Webb will orbit the sun in a spot on the other side of the moon. The Webb telescope will be able to see a different kind of light than the light Hubble sees.</div>"
            ],
            "text/plain": [
              "<IPython.core.display.HTML object>"
            ]
          },
          "metadata": {
            "tags": []
          }
        },
        {
          "output_type": "stream",
          "text": [
            "Rank: 9 | Passage ID: 2850825 | BM25 Score: 5.128300189971924\n"
          ],
          "name": "stdout"
        },
        {
          "output_type": "display_data",
          "data": {
            "text/html": [
              "<div style=\"font-family: Times New Roman; padding-bottom:10px\">The Hubble Space Telescope which was repaired by Nasa Space Shuttle and Astronauts at very great costs. The Hubble area Telescope. It had the main precisely floor incorrect optics of any telescope ever built.</div>"
            ],
            "text/plain": [
              "<IPython.core.display.HTML object>"
            ]
          },
          "metadata": {
            "tags": []
          }
        },
        {
          "output_type": "stream",
          "text": [
            "Rank: 10 | Passage ID: 5161592 | BM25 Score: 5.123700141906738\n"
          ],
          "name": "stdout"
        },
        {
          "output_type": "display_data",
          "data": {
            "text/html": [
              "<div style=\"font-family: Times New Roman; padding-bottom:10px\">The Hubble Space Telescope (HST) is a space telescope that was launched into low Earth orbit in 1990, and remains in operation.With a 2.4-meter (7.9 ft) mirror, Hubble's four main instruments observe in the near ultraviolet, visible, and near infrared spectra.ubble is the only telescope designed to be serviced in space by astronauts. After launch by Space Shuttle Discovery in 1990, four subsequent Space Shuttle missions repaired, upgraded, and replaced systems on the telescope.</div>"
            ],
            "text/plain": [
              "<IPython.core.display.HTML object>"
            ]
          },
          "metadata": {
            "tags": []
          }
        }
      ]
    },
    {
      "cell_type": "markdown",
      "metadata": {
        "id": "fHX_l-5jKZ3P",
        "colab_type": "text"
      },
      "source": [
        "## Batch Retrieval"
      ]
    },
    {
      "cell_type": "markdown",
      "metadata": {
        "id": "k08tEtsmDCyv",
        "colab_type": "text"
      },
      "source": [
        "Previously we interactively queried the index.\n",
        "However, in a typical experimental setting, you would evaluate over a larger number of queries to test different information needs.\n",
        "\n",
        "Let's begin by constructing the dev queries and corresponding query IDs:"
      ]
    },
    {
      "cell_type": "code",
      "metadata": {
        "id": "LpSWU35Bd9Bp",
        "colab_type": "code",
        "colab": {}
      },
      "source": [
        "queries = list([t['title'] for t in topics.values()])\n",
        "qids = list([str(t) for t in topics.keys()])"
      ],
      "execution_count": 0,
      "outputs": []
    },
    {
      "cell_type": "markdown",
      "metadata": {
        "id": "F37KoOfsfCSe",
        "colab_type": "text"
      },
      "source": [
        "Now, let's run all the queries from the dev set.\n",
        "For the sake of speed, let's again only retrieve the top 10 documents for each query:"
      ]
    },
    {
      "cell_type": "code",
      "metadata": {
        "id": "C74qogSKfFtD",
        "colab_type": "code",
        "colab": {}
      },
      "source": [
        "searcher = pysearch.SimpleSearcher('indexes/lucene-index.msmarco-passage.pos+docvectors+rawdocs')\n",
        "bm25_hits = searcher.batch_search(queries, qids, k=10)"
      ],
      "execution_count": 0,
      "outputs": []
    },
    {
      "cell_type": "markdown",
      "metadata": {
        "id": "0HTohrkIO5N2",
        "colab_type": "text"
      },
      "source": [
        "Note that the above runs batch retrieval with untuned BM25.\n",
        "We can repeat with tuned parameters, just like we did for the interactive queries:"
      ]
    },
    {
      "cell_type": "code",
      "metadata": {
        "id": "R6clfMWkD3ZU",
        "colab_type": "code",
        "colab": {}
      },
      "source": [
        "searcher.set_bm25_similarity(0.82, 0.68)\n",
        "bm25_hits_tuned = searcher.batch_search(queries, qids, k=10)"
      ],
      "execution_count": 0,
      "outputs": []
    },
    {
      "cell_type": "markdown",
      "metadata": {
        "id": "mNMa1DKsD1fc",
        "colab_type": "text"
      },
      "source": [
        "Now let's repeat with RM3 query expansion:"
      ]
    },
    {
      "cell_type": "code",
      "metadata": {
        "id": "j9o_IXRTk5mf",
        "colab_type": "code",
        "colab": {}
      },
      "source": [
        "searcher.set_rm3_reranker(10, 10, 0.5)\n",
        "bm25_hits_tuned_rm3 = searcher.batch_search(queries, qids, k=10)"
      ],
      "execution_count": 0,
      "outputs": []
    },
    {
      "cell_type": "markdown",
      "metadata": {
        "id": "tU1jjvYfKYgA",
        "colab_type": "text"
      },
      "source": [
        "## Evaluation\n",
        "\n",
        "A crucial component of information retrieval research is evaluation and metrics.\n",
        "The most common tool used to achieve this goal is `trec_eval` developed by [NIST](https://www.nist.gov/).\n",
        "\n",
        "`trec_eval` defines a number of standard retrieval measures, the details of which can be seen [here](http://www.rafaelglater.com/en/post/learn-how-to-use-trec_eval-to-evaluate-your-information-retrieval-system).\n",
        "\n",
        "### TREC Format\n",
        "\n",
        "`trec_eval` requires the runs from various experiments to be expressed in a standard TREC format:\n",
        "\n",
        "`query_id iter docno rank similarity run_id` delimited by spaces\n",
        "\n",
        "- `query_id`: query ID\n",
        "- `iter`: constant, often either 0 or Q0 - required but ignored by `trec_eval`\n",
        "- `docno`: string values that uniquely identify a document in the collection\n",
        "- `rank`: integer, often zero indexed\n",
        "- `similarity`: float value that represents the similarity of the document to the query specified by `query_id`\n",
        "- `run_id`: string that identifies runs, used to keep track of different experiments - also ignored by `trec_eval`\n",
        "\n",
        "Evaluation also requires the ground truth in the form of relevance judgements in the qrels file.\n",
        "The qrels file follows the following format:\n",
        "\n",
        "`query_id iter docno label`\n",
        "\n",
        "- `label`: binary code (0 for not relevant and 1 for relevant)"
      ]
    },
    {
      "cell_type": "markdown",
      "metadata": {
        "id": "GnhjuvsQhrVB",
        "colab_type": "text"
      },
      "source": [
        "Convert the hits for both BM25 (tuned and untuned) and BM25+RM3 into the TREC format:"
      ]
    },
    {
      "cell_type": "code",
      "metadata": {
        "id": "P_I_F6K9kW3L",
        "colab_type": "code",
        "colab": {}
      },
      "source": [
        "def convert_to_trec_run(experiment, run_dict):\n",
        "  with open('run.{}.txt'.format(experiment), 'w') as run_file:\n",
        "    for qid in run_dict:\n",
        "      for rank, doc in enumerate(run_dict[qid]):\n",
        "        run_file.write('{} Q0 {} {} {} {}\\n'.format(qid, doc.docid, rank, doc.score, experiment))"
      ],
      "execution_count": 0,
      "outputs": []
    },
    {
      "cell_type": "code",
      "metadata": {
        "id": "nDPIwvy5iqMK",
        "colab_type": "code",
        "colab": {}
      },
      "source": [
        "convert_to_trec_run('msmarco_passage_dev_bm25', bm25_hits)\n",
        "convert_to_trec_run('msmarco_passage_dev_bm25_tuned', bm25_hits_tuned)\n",
        "convert_to_trec_run('msmarco_passage_dev_bm25_tuned_rm3', bm25_hits_tuned_rm3)"
      ],
      "execution_count": 0,
      "outputs": []
    },
    {
      "cell_type": "markdown",
      "metadata": {
        "id": "NtKO5XXWnWZi",
        "colab_type": "text"
      },
      "source": [
        "Let's pull `trec_eval` and the qrels file:"
      ]
    },
    {
      "cell_type": "code",
      "metadata": {
        "id": "SQWfpv1gnYaf",
        "colab_type": "code",
        "colab": {}
      },
      "source": [
        "%%capture\n",
        "\n",
        "!gsutil -m cp -r gs://afirm2020/trec_eval.9.0.4 .\n",
        "!chmod -R +x trec_eval.9.0.4/\n",
        "!gsutil -m cp gs://afirm2020/qrels.msmarco-passage.dev-subset.txt ."
      ],
      "execution_count": 0,
      "outputs": []
    },
    {
      "cell_type": "code",
      "metadata": {
        "id": "Emx-XR5VGlS_",
        "colab_type": "code",
        "outputId": "187e7486-af4f-4e10-9c2a-8b2d8587ea5a",
        "colab": {
          "base_uri": "https://localhost:8080/",
          "height": 187
        }
      },
      "source": [
        "!head -10 qrels.msmarco-passage.dev-subset.txt"
      ],
      "execution_count": 0,
      "outputs": [
        {
          "output_type": "stream",
          "text": [
            "300674 0 7067032 1\n",
            "125705 0 7067056 1\n",
            "94798 0 7067181 1\n",
            "9083 0 7067274 1\n",
            "174249 0 7067348 1\n",
            "320792 0 7067677 1\n",
            "1090270 0 7067796 1\n",
            "1101279 0 7067891 1\n",
            "201376 0 7068066 1\n",
            "54544 0 7068203 1\n"
          ],
          "name": "stdout"
        }
      ]
    },
    {
      "cell_type": "markdown",
      "metadata": {
        "id": "MmWLvAl7iqbz",
        "colab_type": "text"
      },
      "source": [
        "Now that we have our runs in the TREC format, we can evaluate them with `trec_eval`.\n"
      ]
    },
    {
      "cell_type": "code",
      "metadata": {
        "id": "PPNjxxLWO0X-",
        "colab_type": "code",
        "outputId": "a66c9bb4-41d1-4317-b80e-3f8a97c6d246",
        "colab": {
          "base_uri": "https://localhost:8080/",
          "height": 51
        }
      },
      "source": [
        "!trec_eval.9.0.4/trec_eval -m map -c -m recall.1000 -c qrels.msmarco-passage.dev-subset.txt run.msmarco_passage_dev_bm25.txt"
      ],
      "execution_count": 0,
      "outputs": [
        {
          "output_type": "stream",
          "text": [
            "map                   \tall\t0.1803\n",
            "recall_1000           \tall\t0.3787\n"
          ],
          "name": "stdout"
        }
      ]
    },
    {
      "cell_type": "code",
      "metadata": {
        "id": "XXWy1WHZGq_Y",
        "colab_type": "code",
        "outputId": "0452b66e-4bf4-42fd-f169-39d6941f5e50",
        "colab": {
          "base_uri": "https://localhost:8080/",
          "height": 51
        }
      },
      "source": [
        "!chmod -R +x trec_eval.9.0.4/\n",
        "!trec_eval.9.0.4/trec_eval -m map -c -m recall.1000 -c qrels.msmarco-passage.dev-subset.txt run.msmarco_passage_dev_bm25_tuned.txt"
      ],
      "execution_count": 0,
      "outputs": [
        {
          "output_type": "stream",
          "text": [
            "map                   \tall\t0.1835\n",
            "recall_1000           \tall\t0.3916\n"
          ],
          "name": "stdout"
        }
      ]
    },
    {
      "cell_type": "code",
      "metadata": {
        "id": "xQV_2o-OoDkv",
        "colab_type": "code",
        "outputId": "03419998-ad9c-4062-f118-46d59cc7ff4e",
        "colab": {
          "base_uri": "https://localhost:8080/",
          "height": 51
        }
      },
      "source": [
        "!trec_eval.9.0.4/trec_eval -m map -c -m recall.1000 -c qrels.msmarco-passage.dev-subset.txt run.msmarco_passage_dev_bm25_tuned_rm3.txt"
      ],
      "execution_count": 0,
      "outputs": [
        {
          "output_type": "stream",
          "text": [
            "map                   \tall\t0.1634\n",
            "recall_1000           \tall\t0.3713\n"
          ],
          "name": "stdout"
        }
      ]
    },
    {
      "cell_type": "markdown",
      "metadata": {
        "id": "DdX1XQfKG7QB",
        "colab_type": "text"
      },
      "source": [
        "*TODO: comments and comparisons*"
      ]
    }
  ]
}