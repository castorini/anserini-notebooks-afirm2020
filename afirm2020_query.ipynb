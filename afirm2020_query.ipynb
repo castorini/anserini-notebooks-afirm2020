{
  "nbformat": 4,
  "nbformat_minor": 0,
  "metadata": {
    "colab": {
      "name": "afirm2020_query.ipynb",
      "provenance": [],
      "collapsed_sections": [],
      "toc_visible": true,
      "include_colab_link": true
    },
    "kernelspec": {
      "display_name": "Python 3",
      "language": "python",
      "name": "python3"
    },
    "language_info": {
      "codemirror_mode": {
        "name": "ipython",
        "version": 3
      },
      "file_extension": ".py",
      "mimetype": "text/x-python",
      "name": "python",
      "nbconvert_exporter": "python",
      "pygments_lexer": "ipython3",
      "version": "3.7.2"
    }
  },
  "cells": [
    {
      "cell_type": "markdown",
      "metadata": {
        "id": "view-in-github",
        "colab_type": "text"
      },
      "source": [
        "<a href=\"https://colab.research.google.com/github/castorini/anserini-notebooks-afirm2020/blob/master/afirm2020_query.ipynb\" target=\"_parent\"><img src=\"https://colab.research.google.com/assets/colab-badge.svg\" alt=\"Open In Colab\"/></a>"
      ]
    },
    {
      "cell_type": "markdown",
      "metadata": {
        "colab_type": "text",
        "id": "URfNSXe6L8sH"
      },
      "source": [
        "# Querying\n",
        "\n",
        "In this exercise, we are going to first interactively query the index and then produce a TREC run with [Pyserini](https://github.com/castorini/pyserini), the Python interface to Anserini."
      ]
    },
    {
      "cell_type": "markdown",
      "metadata": {
        "colab_type": "text",
        "id": "m1y2srQHdOA3"
      },
      "source": [
        "## Setup"
      ]
    },
    {
      "cell_type": "markdown",
      "metadata": {
        "colab_type": "text",
        "id": "hoP7jph2d78z"
      },
      "source": [
        "Install Python dependencies (again - remember that each notebook instantiates a virtual machine of its own):"
      ]
    },
    {
      "cell_type": "code",
      "metadata": {
        "colab_type": "code",
        "id": "IFGfQRYFMO2A",
        "outputId": "cf50199c-674d-4fe4-fe7b-ae2de9e3bc37",
        "colab": {
          "base_uri": "https://localhost:8080/",
          "height": 292
        }
      },
      "source": [
        "!pip install pyjnius==1.2.1\n",
        "!pip install pyserini\n",
        "\n",
        "import os\n",
        "os.environ['JAVA_HOME'] = '/usr/lib/jvm/java-11-openjdk-amd64'"
      ],
      "execution_count": 1,
      "outputs": [
        {
          "output_type": "stream",
          "text": [
            "Collecting pyjnius==1.2.1\n",
            "\u001b[?25l  Downloading https://files.pythonhosted.org/packages/e8/4f/e3d9f4bb53f7f1854f81a279c274c4ad8537e4d71117258515158403bc10/pyjnius-1.2.1-cp36-cp36m-manylinux2010_x86_64.whl (1.1MB)\n",
            "\r\u001b[K     |▎                               | 10kB 11.6MB/s eta 0:00:01\r\u001b[K     |▋                               | 20kB 6.9MB/s eta 0:00:01\r\u001b[K     |█                               | 30kB 7.8MB/s eta 0:00:01\r\u001b[K     |█▎                              | 40kB 6.3MB/s eta 0:00:01\r\u001b[K     |█▌                              | 51kB 6.7MB/s eta 0:00:01\r\u001b[K     |█▉                              | 61kB 7.8MB/s eta 0:00:01\r\u001b[K     |██▏                             | 71kB 7.9MB/s eta 0:00:01\r\u001b[K     |██▌                             | 81kB 7.6MB/s eta 0:00:01\r\u001b[K     |██▉                             | 92kB 8.4MB/s eta 0:00:01\r\u001b[K     |███                             | 102kB 8.9MB/s eta 0:00:01\r\u001b[K     |███▍                            | 112kB 8.9MB/s eta 0:00:01\r\u001b[K     |███▊                            | 122kB 8.9MB/s eta 0:00:01\r\u001b[K     |████                            | 133kB 8.9MB/s eta 0:00:01\r\u001b[K     |████▍                           | 143kB 8.9MB/s eta 0:00:01\r\u001b[K     |████▋                           | 153kB 8.9MB/s eta 0:00:01\r\u001b[K     |█████                           | 163kB 8.9MB/s eta 0:00:01\r\u001b[K     |█████▎                          | 174kB 8.9MB/s eta 0:00:01\r\u001b[K     |█████▋                          | 184kB 8.9MB/s eta 0:00:01\r\u001b[K     |██████                          | 194kB 8.9MB/s eta 0:00:01\r\u001b[K     |██████▏                         | 204kB 8.9MB/s eta 0:00:01\r\u001b[K     |██████▌                         | 215kB 8.9MB/s eta 0:00:01\r\u001b[K     |██████▉                         | 225kB 8.9MB/s eta 0:00:01\r\u001b[K     |███████▏                        | 235kB 8.9MB/s eta 0:00:01\r\u001b[K     |███████▍                        | 245kB 8.9MB/s eta 0:00:01\r\u001b[K     |███████▊                        | 256kB 8.9MB/s eta 0:00:01\r\u001b[K     |████████                        | 266kB 8.9MB/s eta 0:00:01\r\u001b[K     |████████▍                       | 276kB 8.9MB/s eta 0:00:01\r\u001b[K     |████████▊                       | 286kB 8.9MB/s eta 0:00:01\r\u001b[K     |█████████                       | 296kB 8.9MB/s eta 0:00:01\r\u001b[K     |█████████▎                      | 307kB 8.9MB/s eta 0:00:01\r\u001b[K     |█████████▋                      | 317kB 8.9MB/s eta 0:00:01\r\u001b[K     |██████████                      | 327kB 8.9MB/s eta 0:00:01\r\u001b[K     |██████████▎                     | 337kB 8.9MB/s eta 0:00:01\r\u001b[K     |██████████▌                     | 348kB 8.9MB/s eta 0:00:01\r\u001b[K     |██████████▉                     | 358kB 8.9MB/s eta 0:00:01\r\u001b[K     |███████████▏                    | 368kB 8.9MB/s eta 0:00:01\r\u001b[K     |███████████▌                    | 378kB 8.9MB/s eta 0:00:01\r\u001b[K     |███████████▉                    | 389kB 8.9MB/s eta 0:00:01\r\u001b[K     |████████████                    | 399kB 8.9MB/s eta 0:00:01\r\u001b[K     |████████████▍                   | 409kB 8.9MB/s eta 0:00:01\r\u001b[K     |████████████▊                   | 419kB 8.9MB/s eta 0:00:01\r\u001b[K     |█████████████                   | 430kB 8.9MB/s eta 0:00:01\r\u001b[K     |█████████████▎                  | 440kB 8.9MB/s eta 0:00:01\r\u001b[K     |█████████████▋                  | 450kB 8.9MB/s eta 0:00:01\r\u001b[K     |██████████████                  | 460kB 8.9MB/s eta 0:00:01\r\u001b[K     |██████████████▎                 | 471kB 8.9MB/s eta 0:00:01\r\u001b[K     |██████████████▋                 | 481kB 8.9MB/s eta 0:00:01\r\u001b[K     |██████████████▉                 | 491kB 8.9MB/s eta 0:00:01\r\u001b[K     |███████████████▏                | 501kB 8.9MB/s eta 0:00:01\r\u001b[K     |███████████████▌                | 512kB 8.9MB/s eta 0:00:01\r\u001b[K     |███████████████▉                | 522kB 8.9MB/s eta 0:00:01\r\u001b[K     |████████████████▏               | 532kB 8.9MB/s eta 0:00:01\r\u001b[K     |████████████████▍               | 542kB 8.9MB/s eta 0:00:01\r\u001b[K     |████████████████▊               | 552kB 8.9MB/s eta 0:00:01\r\u001b[K     |█████████████████               | 563kB 8.9MB/s eta 0:00:01\r\u001b[K     |█████████████████▍              | 573kB 8.9MB/s eta 0:00:01\r\u001b[K     |█████████████████▊              | 583kB 8.9MB/s eta 0:00:01\r\u001b[K     |██████████████████              | 593kB 8.9MB/s eta 0:00:01\r\u001b[K     |██████████████████▎             | 604kB 8.9MB/s eta 0:00:01\r\u001b[K     |██████████████████▋             | 614kB 8.9MB/s eta 0:00:01\r\u001b[K     |███████████████████             | 624kB 8.9MB/s eta 0:00:01\r\u001b[K     |███████████████████▎            | 634kB 8.9MB/s eta 0:00:01\r\u001b[K     |███████████████████▌            | 645kB 8.9MB/s eta 0:00:01\r\u001b[K     |███████████████████▉            | 655kB 8.9MB/s eta 0:00:01\r\u001b[K     |████████████████████▏           | 665kB 8.9MB/s eta 0:00:01\r\u001b[K     |████████████████████▌           | 675kB 8.9MB/s eta 0:00:01\r\u001b[K     |████████████████████▊           | 686kB 8.9MB/s eta 0:00:01\r\u001b[K     |█████████████████████           | 696kB 8.9MB/s eta 0:00:01\r\u001b[K     |█████████████████████▍          | 706kB 8.9MB/s eta 0:00:01\r\u001b[K     |█████████████████████▊          | 716kB 8.9MB/s eta 0:00:01\r\u001b[K     |██████████████████████          | 727kB 8.9MB/s eta 0:00:01\r\u001b[K     |██████████████████████▎         | 737kB 8.9MB/s eta 0:00:01\r\u001b[K     |██████████████████████▋         | 747kB 8.9MB/s eta 0:00:01\r\u001b[K     |███████████████████████         | 757kB 8.9MB/s eta 0:00:01\r\u001b[K     |███████████████████████▎        | 768kB 8.9MB/s eta 0:00:01\r\u001b[K     |███████████████████████▋        | 778kB 8.9MB/s eta 0:00:01\r\u001b[K     |███████████████████████▉        | 788kB 8.9MB/s eta 0:00:01\r\u001b[K     |████████████████████████▏       | 798kB 8.9MB/s eta 0:00:01\r\u001b[K     |████████████████████████▌       | 808kB 8.9MB/s eta 0:00:01\r\u001b[K     |████████████████████████▉       | 819kB 8.9MB/s eta 0:00:01\r\u001b[K     |█████████████████████████▏      | 829kB 8.9MB/s eta 0:00:01\r\u001b[K     |█████████████████████████▍      | 839kB 8.9MB/s eta 0:00:01\r\u001b[K     |█████████████████████████▊      | 849kB 8.9MB/s eta 0:00:01\r\u001b[K     |██████████████████████████      | 860kB 8.9MB/s eta 0:00:01\r\u001b[K     |██████████████████████████▍     | 870kB 8.9MB/s eta 0:00:01\r\u001b[K     |██████████████████████████▋     | 880kB 8.9MB/s eta 0:00:01\r\u001b[K     |███████████████████████████     | 890kB 8.9MB/s eta 0:00:01\r\u001b[K     |███████████████████████████▎    | 901kB 8.9MB/s eta 0:00:01\r\u001b[K     |███████████████████████████▋    | 911kB 8.9MB/s eta 0:00:01\r\u001b[K     |████████████████████████████    | 921kB 8.9MB/s eta 0:00:01\r\u001b[K     |████████████████████████████▏   | 931kB 8.9MB/s eta 0:00:01\r\u001b[K     |████████████████████████████▌   | 942kB 8.9MB/s eta 0:00:01\r\u001b[K     |████████████████████████████▉   | 952kB 8.9MB/s eta 0:00:01\r\u001b[K     |█████████████████████████████▏  | 962kB 8.9MB/s eta 0:00:01\r\u001b[K     |█████████████████████████████▌  | 972kB 8.9MB/s eta 0:00:01\r\u001b[K     |█████████████████████████████▊  | 983kB 8.9MB/s eta 0:00:01\r\u001b[K     |██████████████████████████████  | 993kB 8.9MB/s eta 0:00:01\r\u001b[K     |██████████████████████████████▍ | 1.0MB 8.9MB/s eta 0:00:01\r\u001b[K     |██████████████████████████████▊ | 1.0MB 8.9MB/s eta 0:00:01\r\u001b[K     |███████████████████████████████ | 1.0MB 8.9MB/s eta 0:00:01\r\u001b[K     |███████████████████████████████▎| 1.0MB 8.9MB/s eta 0:00:01\r\u001b[K     |███████████████████████████████▋| 1.0MB 8.9MB/s eta 0:00:01\r\u001b[K     |████████████████████████████████| 1.1MB 8.9MB/s eta 0:00:01\r\u001b[K     |████████████████████████████████| 1.1MB 8.9MB/s \n",
            "\u001b[?25hRequirement already satisfied: six>=1.7.0 in /usr/local/lib/python3.6/dist-packages (from pyjnius==1.2.1) (1.12.0)\n",
            "Requirement already satisfied: cython in /usr/local/lib/python3.6/dist-packages (from pyjnius==1.2.1) (0.29.14)\n",
            "Installing collected packages: pyjnius\n",
            "Successfully installed pyjnius-1.2.1\n",
            "Collecting pyserini\n",
            "\u001b[?25l  Downloading https://files.pythonhosted.org/packages/a9/3c/6402b3aceb2a8c69b2409e5d66f39fcabc99a12cbb5b75400778d41f35e3/pyserini-0.7.2.0-py3-none-any.whl (53.7MB)\n",
            "\u001b[K     |████████████████████████████████| 53.7MB 78kB/s \n",
            "\u001b[?25hRequirement already satisfied: pyjnius in /usr/local/lib/python3.6/dist-packages (from pyserini) (1.2.1)\n",
            "Requirement already satisfied: Cython in /usr/local/lib/python3.6/dist-packages (from pyserini) (0.29.14)\n",
            "Requirement already satisfied: six>=1.7.0 in /usr/local/lib/python3.6/dist-packages (from pyjnius->pyserini) (1.12.0)\n",
            "Installing collected packages: pyserini\n",
            "Successfully installed pyserini-0.7.2.0\n"
          ],
          "name": "stdout"
        }
      ]
    },
    {
      "cell_type": "markdown",
      "metadata": {
        "colab_type": "text",
        "id": "z0HQz3QLd-9_"
      },
      "source": [
        "Fix known issue with pyjnius (see [this explanation](https://github.com/castorini/pyserini/blob/master/README.md#known-issues) for details):"
      ]
    },
    {
      "cell_type": "code",
      "metadata": {
        "colab_type": "code",
        "id": "eKT2WWp2eEJy",
        "colab": {}
      },
      "source": [
        "!mkdir -p /usr/lib/jvm/java-1.11.0-openjdk-amd64/jre/lib/amd64/server/\n",
        "!ln -s /usr/lib/jvm/java-1.11.0-openjdk-amd64/lib/server/libjvm.so /usr/lib/jvm/java-1.11.0-openjdk-amd64/jre/lib/amd64/server/libjvm.so"
      ],
      "execution_count": 0,
      "outputs": []
    },
    {
      "cell_type": "markdown",
      "metadata": {
        "colab_type": "text",
        "id": "lnqt7w1sU4Dv"
      },
      "source": [
        "We have already made the Anserini jar that we built in the previous exercise available in a Google bucket.\n",
        "Let's pull it directly:"
      ]
    },
    {
      "cell_type": "code",
      "metadata": {
        "colab_type": "code",
        "id": "h4xSZLdsVS3-",
        "outputId": "f9621637-9d34-4d1f-96f1-d0631055f434",
        "colab": {
          "base_uri": "https://localhost:8080/",
          "height": 68
        }
      },
      "source": [
        "!gsutil -m cp gs://afirm2020/anserini-0.7.2-SNAPSHOT-fatjar.jar ."
      ],
      "execution_count": 3,
      "outputs": [
        {
          "output_type": "stream",
          "text": [
            "Copying gs://afirm2020/anserini-0.7.2-SNAPSHOT-fatjar.jar...\n",
            "\\ [1/1 files][ 58.0 MiB/ 58.0 MiB] 100% Done                                    \n",
            "Operation completed over 1 objects/58.0 MiB.                                     \n"
          ],
          "name": "stdout"
        }
      ]
    },
    {
      "cell_type": "markdown",
      "metadata": {
        "colab_type": "text",
        "id": "1Wcr7BpfVgSg"
      },
      "source": [
        "Let's point Pyserini to the Anserini jar that we have just pulled:"
      ]
    },
    {
      "cell_type": "code",
      "metadata": {
        "colab_type": "code",
        "id": "VuAwdnkpViBH",
        "colab": {}
      },
      "source": [
        "os.environ['ANSERINI_CLASSPATH'] = '.'"
      ],
      "execution_count": 0,
      "outputs": []
    },
    {
      "cell_type": "markdown",
      "metadata": {
        "colab_type": "text",
        "id": "rsEU-U3ketRL"
      },
      "source": [
        "## Interactive Querying"
      ]
    },
    {
      "cell_type": "markdown",
      "metadata": {
        "colab_type": "text",
        "id": "zK1D24DDTWcO"
      },
      "source": [
        "We will need the index for the querying experments in this exercise.\n",
        "Because Colab notebooks don't share data among themselves, i.e., each session runs on its own, we have to pull the pre-built index form GCS."
      ]
    },
    {
      "cell_type": "code",
      "metadata": {
        "colab_type": "code",
        "id": "HU6Vyp4PTY7p",
        "outputId": "0c28b143-24de-474e-a67a-e3ecf45fc750",
        "colab": {
          "base_uri": "https://localhost:8080/",
          "height": 1000
        }
      },
      "source": [
        "!gsutil -m cp -r gs://afirm2020/indexes ."
      ],
      "execution_count": 5,
      "outputs": [
        {
          "output_type": "stream",
          "text": [
            "Copying gs://afirm2020/indexes/lucene-index.msmarco-passage.pos+docvectors+rawdocs/_0.fdt...\n",
            "Copying gs://afirm2020/indexes/lucene-index.msmarco-passage.pos+docvectors+rawdocs/_0.fdx...\n",
            "/ [0 files][    0.0 B/199.1 MiB]                                                \r/ [0 files][    0.0 B/199.2 MiB]                                                \rCopying gs://afirm2020/indexes/lucene-index.msmarco-passage.pos+docvectors+rawdocs/_0.si...\n",
            "Copying gs://afirm2020/indexes/lucene-index.msmarco-passage.pos+docvectors+rawdocs/_0.fnm...\n",
            "Copying gs://afirm2020/indexes/lucene-index.msmarco-passage.pos+docvectors+rawdocs/_0.tvd...\n",
            "/ [0 files][    0.0 B/  3.3 GiB]                                                \r/ [0 files][    0.0 B/  3.3 GiB]                                                \r/ [0 files][    0.0 B/  3.3 GiB]                                                \rCopying gs://afirm2020/indexes/lucene-index.msmarco-passage.pos+docvectors+rawdocs/_0.nvd...\n",
            "Copying gs://afirm2020/indexes/lucene-index.msmarco-passage.pos+docvectors+rawdocs/_0.nvm...\n",
            "Copying gs://afirm2020/indexes/lucene-index.msmarco-passage.pos+docvectors+rawdocs/_0.tvx...\n",
            "Copying gs://afirm2020/indexes/lucene-index.msmarco-passage.pos+docvectors+rawdocs/_0_Lucene50_0.doc...\n",
            "Copying gs://afirm2020/indexes/lucene-index.msmarco-passage.pos+docvectors+rawdocs/_0_Lucene50_0.pos...\n",
            "Copying gs://afirm2020/indexes/lucene-index.msmarco-passage.pos+docvectors+rawdocs/_0_Lucene50_0.tim...\n",
            "Copying gs://afirm2020/indexes/lucene-index.msmarco-passage.pos+docvectors+rawdocs/_0_Lucene50_0.tip...\n",
            "Copying gs://afirm2020/indexes/lucene-index.msmarco-passage.pos+docvectors+rawdocs/_0_Lucene80_0.dvd...\n",
            "Copying gs://afirm2020/indexes/lucene-index.msmarco-passage.pos+docvectors+rawdocs/_0_Lucene80_0.dvm...\n",
            "Copying gs://afirm2020/indexes/lucene-index.msmarco-passage.pos+docvectors+rawdocs/_1.fdt...\n",
            "Copying gs://afirm2020/indexes/lucene-index.msmarco-passage.pos+docvectors+rawdocs/_1.fdx...\n",
            "Copying gs://afirm2020/indexes/lucene-index.msmarco-passage.pos+docvectors+rawdocs/_1.fnm...\n",
            "Copying gs://afirm2020/indexes/lucene-index.msmarco-passage.pos+docvectors+rawdocs/_1.nvd...\n",
            "Copying gs://afirm2020/indexes/lucene-index.msmarco-passage.pos+docvectors+rawdocs/_1.nvm...\n",
            "Copying gs://afirm2020/indexes/lucene-index.msmarco-passage.pos+docvectors+rawdocs/_1.si...\n",
            "Copying gs://afirm2020/indexes/lucene-index.msmarco-passage.pos+docvectors+rawdocs/_1.tvd...\n",
            "Copying gs://afirm2020/indexes/lucene-index.msmarco-passage.pos+docvectors+rawdocs/_1.tvx...\n",
            "Copying gs://afirm2020/indexes/lucene-index.msmarco-passage.pos+docvectors+rawdocs/_1_Lucene50_0.doc...\n",
            "Copying gs://afirm2020/indexes/lucene-index.msmarco-passage.pos+docvectors+rawdocs/_1_Lucene50_0.pos...\n",
            "Copying gs://afirm2020/indexes/lucene-index.msmarco-passage.pos+docvectors+rawdocs/_1_Lucene50_0.tim...\n",
            "Copying gs://afirm2020/indexes/lucene-index.msmarco-passage.pos+docvectors+rawdocs/_1_Lucene50_0.tip...\n",
            "Copying gs://afirm2020/indexes/lucene-index.msmarco-passage.pos+docvectors+rawdocs/_1_Lucene80_0.dvd...\n",
            "Copying gs://afirm2020/indexes/lucene-index.msmarco-passage.pos+docvectors+rawdocs/_1_Lucene80_0.dvm...\n",
            "Copying gs://afirm2020/indexes/lucene-index.msmarco-passage.pos+docvectors+rawdocs/_2.fdt...\n",
            "Copying gs://afirm2020/indexes/lucene-index.msmarco-passage.pos+docvectors+rawdocs/_2.fdx...\n",
            "Copying gs://afirm2020/indexes/lucene-index.msmarco-passage.pos+docvectors+rawdocs/_2.fnm...\n",
            "Copying gs://afirm2020/indexes/lucene-index.msmarco-passage.pos+docvectors+rawdocs/_2.nvd...\n",
            "Copying gs://afirm2020/indexes/lucene-index.msmarco-passage.pos+docvectors+rawdocs/_2.nvm...\n",
            "Copying gs://afirm2020/indexes/lucene-index.msmarco-passage.pos+docvectors+rawdocs/_2.si...\n",
            "Copying gs://afirm2020/indexes/lucene-index.msmarco-passage.pos+docvectors+rawdocs/_2.tvd...\n",
            "Copying gs://afirm2020/indexes/lucene-index.msmarco-passage.pos+docvectors+rawdocs/_2.tvx...\n",
            "Copying gs://afirm2020/indexes/lucene-index.msmarco-passage.pos+docvectors+rawdocs/_2_Lucene50_0.doc...\n",
            "Copying gs://afirm2020/indexes/lucene-index.msmarco-passage.pos+docvectors+rawdocs/_2_Lucene50_0.pos...\n",
            "Copying gs://afirm2020/indexes/lucene-index.msmarco-passage.pos+docvectors+rawdocs/_2_Lucene50_0.tim...\n",
            "Copying gs://afirm2020/indexes/lucene-index.msmarco-passage.pos+docvectors+rawdocs/_2_Lucene50_0.tip...\n",
            "Copying gs://afirm2020/indexes/lucene-index.msmarco-passage.pos+docvectors+rawdocs/_2_Lucene80_0.dvd...\n",
            "Copying gs://afirm2020/indexes/lucene-index.msmarco-passage.pos+docvectors+rawdocs/_2_Lucene80_0.dvm...\n",
            "Copying gs://afirm2020/indexes/lucene-index.msmarco-passage.pos+docvectors+rawdocs/_3.fdt...\n",
            "Copying gs://afirm2020/indexes/lucene-index.msmarco-passage.pos+docvectors+rawdocs/_3.fdx...\n",
            "Copying gs://afirm2020/indexes/lucene-index.msmarco-passage.pos+docvectors+rawdocs/_3.fnm...\n",
            "Copying gs://afirm2020/indexes/lucene-index.msmarco-passage.pos+docvectors+rawdocs/_3.nvd...\n",
            "Copying gs://afirm2020/indexes/lucene-index.msmarco-passage.pos+docvectors+rawdocs/_3.nvm...\n",
            "Copying gs://afirm2020/indexes/lucene-index.msmarco-passage.pos+docvectors+rawdocs/_3.si...\n",
            "Copying gs://afirm2020/indexes/lucene-index.msmarco-passage.pos+docvectors+rawdocs/_3.tvd...\n",
            "Copying gs://afirm2020/indexes/lucene-index.msmarco-passage.pos+docvectors+rawdocs/_3.tvx...\n",
            "Copying gs://afirm2020/indexes/lucene-index.msmarco-passage.pos+docvectors+rawdocs/_3_Lucene50_0.doc...\n",
            "Copying gs://afirm2020/indexes/lucene-index.msmarco-passage.pos+docvectors+rawdocs/_3_Lucene50_0.pos...\n",
            "Copying gs://afirm2020/indexes/lucene-index.msmarco-passage.pos+docvectors+rawdocs/_3_Lucene50_0.tim...\n",
            "Copying gs://afirm2020/indexes/lucene-index.msmarco-passage.pos+docvectors+rawdocs/_3_Lucene50_0.tip...\n",
            "Copying gs://afirm2020/indexes/lucene-index.msmarco-passage.pos+docvectors+rawdocs/_3_Lucene80_0.dvd...\n",
            "Copying gs://afirm2020/indexes/lucene-index.msmarco-passage.pos+docvectors+rawdocs/_3_Lucene80_0.dvm...\n",
            "Copying gs://afirm2020/indexes/lucene-index.msmarco-passage.pos+docvectors+rawdocs/_4.fdt...\n",
            "Copying gs://afirm2020/indexes/lucene-index.msmarco-passage.pos+docvectors+rawdocs/_4.fdx...\n",
            "Copying gs://afirm2020/indexes/lucene-index.msmarco-passage.pos+docvectors+rawdocs/_4.fnm...\n",
            "Copying gs://afirm2020/indexes/lucene-index.msmarco-passage.pos+docvectors+rawdocs/_4.nvd...\n",
            "Copying gs://afirm2020/indexes/lucene-index.msmarco-passage.pos+docvectors+rawdocs/_4.nvm...\n",
            "Copying gs://afirm2020/indexes/lucene-index.msmarco-passage.pos+docvectors+rawdocs/_4.si...\n",
            "Copying gs://afirm2020/indexes/lucene-index.msmarco-passage.pos+docvectors+rawdocs/_4.tvd...\n",
            "Copying gs://afirm2020/indexes/lucene-index.msmarco-passage.pos+docvectors+rawdocs/_4.tvx...\n",
            "Copying gs://afirm2020/indexes/lucene-index.msmarco-passage.pos+docvectors+rawdocs/_4_Lucene50_0.doc...\n",
            "Copying gs://afirm2020/indexes/lucene-index.msmarco-passage.pos+docvectors+rawdocs/_4_Lucene50_0.pos...\n",
            "Copying gs://afirm2020/indexes/lucene-index.msmarco-passage.pos+docvectors+rawdocs/_4_Lucene50_0.tim...\n",
            "Copying gs://afirm2020/indexes/lucene-index.msmarco-passage.pos+docvectors+rawdocs/_4_Lucene50_0.tip...\n",
            "Copying gs://afirm2020/indexes/lucene-index.msmarco-passage.pos+docvectors+rawdocs/_4_Lucene80_0.dvd...\n",
            "Copying gs://afirm2020/indexes/lucene-index.msmarco-passage.pos+docvectors+rawdocs/_4_Lucene80_0.dvm...\n",
            "Copying gs://afirm2020/indexes/lucene-index.msmarco-passage.pos+docvectors+rawdocs/_5.fdt...\n",
            "Copying gs://afirm2020/indexes/lucene-index.msmarco-passage.pos+docvectors+rawdocs/_5.fdx...\n",
            "Copying gs://afirm2020/indexes/lucene-index.msmarco-passage.pos+docvectors+rawdocs/_5.fnm...\n",
            "Copying gs://afirm2020/indexes/lucene-index.msmarco-passage.pos+docvectors+rawdocs/_5.nvd...\n",
            "Copying gs://afirm2020/indexes/lucene-index.msmarco-passage.pos+docvectors+rawdocs/_5.nvm...\n",
            "Copying gs://afirm2020/indexes/lucene-index.msmarco-passage.pos+docvectors+rawdocs/_5.si...\n",
            "Copying gs://afirm2020/indexes/lucene-index.msmarco-passage.pos+docvectors+rawdocs/_5.tvd...\n",
            "Copying gs://afirm2020/indexes/lucene-index.msmarco-passage.pos+docvectors+rawdocs/_5.tvx...\n",
            "Copying gs://afirm2020/indexes/lucene-index.msmarco-passage.pos+docvectors+rawdocs/_5_Lucene50_0.doc...\n",
            "Copying gs://afirm2020/indexes/lucene-index.msmarco-passage.pos+docvectors+rawdocs/_5_Lucene50_0.pos...\n",
            "Copying gs://afirm2020/indexes/lucene-index.msmarco-passage.pos+docvectors+rawdocs/_5_Lucene50_0.tim...\n",
            "Copying gs://afirm2020/indexes/lucene-index.msmarco-passage.pos+docvectors+rawdocs/_5_Lucene50_0.tip...\n",
            "Copying gs://afirm2020/indexes/lucene-index.msmarco-passage.pos+docvectors+rawdocs/_5_Lucene80_0.dvd...\n",
            "Copying gs://afirm2020/indexes/lucene-index.msmarco-passage.pos+docvectors+rawdocs/_5_Lucene80_0.dvm...\n",
            "Copying gs://afirm2020/indexes/lucene-index.msmarco-passage.pos+docvectors+rawdocs/_6.fdt...\n",
            "Copying gs://afirm2020/indexes/lucene-index.msmarco-passage.pos+docvectors+rawdocs/_6.fdx...\n",
            "Copying gs://afirm2020/indexes/lucene-index.msmarco-passage.pos+docvectors+rawdocs/_6.fnm...\n",
            "Copying gs://afirm2020/indexes/lucene-index.msmarco-passage.pos+docvectors+rawdocs/_6.nvd...\n",
            "Copying gs://afirm2020/indexes/lucene-index.msmarco-passage.pos+docvectors+rawdocs/_6.nvm...\n",
            "Copying gs://afirm2020/indexes/lucene-index.msmarco-passage.pos+docvectors+rawdocs/_6.si...\n",
            "Copying gs://afirm2020/indexes/lucene-index.msmarco-passage.pos+docvectors+rawdocs/_6.tvd...\n",
            "Copying gs://afirm2020/indexes/lucene-index.msmarco-passage.pos+docvectors+rawdocs/_6_Lucene50_0.doc...\n",
            "Copying gs://afirm2020/indexes/lucene-index.msmarco-passage.pos+docvectors+rawdocs/_6.tvx...\n",
            "Copying gs://afirm2020/indexes/lucene-index.msmarco-passage.pos+docvectors+rawdocs/_6_Lucene50_0.pos...\n",
            "Copying gs://afirm2020/indexes/lucene-index.msmarco-passage.pos+docvectors+rawdocs/_6_Lucene50_0.tim...\n",
            "Copying gs://afirm2020/indexes/lucene-index.msmarco-passage.pos+docvectors+rawdocs/_6_Lucene50_0.tip...\n",
            "Copying gs://afirm2020/indexes/lucene-index.msmarco-passage.pos+docvectors+rawdocs/_6_Lucene80_0.dvd...\n",
            "Copying gs://afirm2020/indexes/lucene-index.msmarco-passage.pos+docvectors+rawdocs/_6_Lucene80_0.dvm...\n",
            "Copying gs://afirm2020/indexes/lucene-index.msmarco-passage.pos+docvectors+rawdocs/_7.fdt...\n",
            "Copying gs://afirm2020/indexes/lucene-index.msmarco-passage.pos+docvectors+rawdocs/_7.fdx...\n",
            "Copying gs://afirm2020/indexes/lucene-index.msmarco-passage.pos+docvectors+rawdocs/_7.fnm...\n",
            "Copying gs://afirm2020/indexes/lucene-index.msmarco-passage.pos+docvectors+rawdocs/_7.nvd...\n",
            "Copying gs://afirm2020/indexes/lucene-index.msmarco-passage.pos+docvectors+rawdocs/_7.nvm...\n",
            "Copying gs://afirm2020/indexes/lucene-index.msmarco-passage.pos+docvectors+rawdocs/_7.si...\n",
            "Copying gs://afirm2020/indexes/lucene-index.msmarco-passage.pos+docvectors+rawdocs/_7.tvd...\n",
            "Copying gs://afirm2020/indexes/lucene-index.msmarco-passage.pos+docvectors+rawdocs/_7.tvx...\n",
            "Copying gs://afirm2020/indexes/lucene-index.msmarco-passage.pos+docvectors+rawdocs/_7_Lucene50_0.doc...\n",
            "Copying gs://afirm2020/indexes/lucene-index.msmarco-passage.pos+docvectors+rawdocs/_7_Lucene50_0.pos...\n",
            "Copying gs://afirm2020/indexes/lucene-index.msmarco-passage.pos+docvectors+rawdocs/_7_Lucene50_0.tim...\n",
            "Copying gs://afirm2020/indexes/lucene-index.msmarco-passage.pos+docvectors+rawdocs/_7_Lucene50_0.tip...\n",
            "Copying gs://afirm2020/indexes/lucene-index.msmarco-passage.pos+docvectors+rawdocs/_7_Lucene80_0.dvd...\n",
            "Copying gs://afirm2020/indexes/lucene-index.msmarco-passage.pos+docvectors+rawdocs/_7_Lucene80_0.dvm...\n",
            "Copying gs://afirm2020/indexes/lucene-index.msmarco-passage.pos+docvectors+rawdocs/_8.fdt...\n",
            "Copying gs://afirm2020/indexes/lucene-index.msmarco-passage.pos+docvectors+rawdocs/_8.fdx...\n",
            "Copying gs://afirm2020/indexes/lucene-index.msmarco-passage.pos+docvectors+rawdocs/_8.fnm...\n",
            "Copying gs://afirm2020/indexes/lucene-index.msmarco-passage.pos+docvectors+rawdocs/_8.nvd...\n",
            "Copying gs://afirm2020/indexes/lucene-index.msmarco-passage.pos+docvectors+rawdocs/_8.nvm...\n",
            "Copying gs://afirm2020/indexes/lucene-index.msmarco-passage.pos+docvectors+rawdocs/_8.si...\n",
            "Copying gs://afirm2020/indexes/lucene-index.msmarco-passage.pos+docvectors+rawdocs/_8.tvd...\n",
            "Copying gs://afirm2020/indexes/lucene-index.msmarco-passage.pos+docvectors+rawdocs/_8.tvx...\n",
            "Copying gs://afirm2020/indexes/lucene-index.msmarco-passage.pos+docvectors+rawdocs/_8_Lucene50_0.doc...\n",
            "Copying gs://afirm2020/indexes/lucene-index.msmarco-passage.pos+docvectors+rawdocs/_8_Lucene50_0.pos...\n",
            "Copying gs://afirm2020/indexes/lucene-index.msmarco-passage.pos+docvectors+rawdocs/_8_Lucene50_0.tim...\n",
            "Copying gs://afirm2020/indexes/lucene-index.msmarco-passage.pos+docvectors+rawdocs/_8_Lucene50_0.tip...\n",
            "Copying gs://afirm2020/indexes/lucene-index.msmarco-passage.pos+docvectors+rawdocs/_8_Lucene80_0.dvd...\n",
            "Copying gs://afirm2020/indexes/lucene-index.msmarco-passage.pos+docvectors+rawdocs/_8_Lucene80_0.dvm...\n",
            "Copying gs://afirm2020/indexes/lucene-index.msmarco-passage.pos+docvectors+rawdocs/segments_1...\n",
            "Copying gs://afirm2020/indexes/lucene-index.msmarco-passage.pos+docvectors+rawdocs/write.lock...\n",
            "/ [128/128 files][  4.1 GiB/  4.1 GiB] 100% Done  49.8 MiB/s ETA 00:00:00       \n",
            "Operation completed over 128 objects/4.1 GiB.                                    \n"
          ],
          "name": "stdout"
        }
      ]
    },
    {
      "cell_type": "code",
      "metadata": {
        "colab_type": "code",
        "id": "wokA-RljLy0V",
        "colab": {}
      },
      "source": [
        "\n",
        "from pyserini.search import pysearch\n",
        "import itertools"
      ],
      "execution_count": 0,
      "outputs": []
    },
    {
      "cell_type": "markdown",
      "metadata": {
        "colab_type": "text",
        "id": "FO8CncEOcbjq"
      },
      "source": [
        "First, let's see grab the queries that are defined for our collection:"
      ]
    },
    {
      "cell_type": "code",
      "metadata": {
        "colab_type": "code",
        "id": "oY0Ls72U3GSc",
        "outputId": "990649ca-ed38-440d-e16d-4a083f45e490",
        "colab": {
          "base_uri": "https://localhost:8080/",
          "height": 68
        }
      },
      "source": [
        "!mkdir data\n",
        "!gsutil -m cp gs://afirm2020/msmarco_passage/queries.dev.small.tsv data/queries.dev.small.tsv"
      ],
      "execution_count": 7,
      "outputs": [
        {
          "output_type": "stream",
          "text": [
            "Copying gs://afirm2020/msmarco_passage/queries.dev.small.tsv...\n",
            "/ [0/1 files][    0.0 B/283.4 KiB]   0% Done                                    \r/ [1/1 files][283.4 KiB/283.4 KiB] 100% Done                                    \r\n",
            "Operation completed over 1 objects/283.4 KiB.                                    \n"
          ],
          "name": "stdout"
        }
      ]
    },
    {
      "cell_type": "markdown",
      "metadata": {
        "colab_type": "text",
        "id": "4xMlOOqhe5xp"
      },
      "source": [
        "The hits data structure holds the docid, the retrieval score, as well as the document content.\n",
        "Let's look at the top 10 passages for the query `south african football teams`:"
      ]
    },
    {
      "cell_type": "code",
      "metadata": {
        "colab_type": "code",
        "id": "IpsnrIaoMYg_",
        "outputId": "98b53b13-2da1-4d44-c3c7-456710401a1f",
        "colab": {
          "base_uri": "https://localhost:8080/",
          "height": 695
        }
      },
      "source": [
        "from IPython.core.display import display, HTML\n",
        "\n",
        "searcher = pysearch.SimpleSearcher('indexes/lucene-index.msmarco-passage.pos+docvectors+rawdocs')\n",
        "interactive_hits = searcher.search('south african football teams')\n",
        "\n",
        "for i in range(0, 10):\n",
        "    print('Rank: {} | Passage ID: {} | BM25 Score: {}'.format(i+1, interactive_hits[i].docid, interactive_hits[i].score))\n",
        "    display(HTML('<div style=\"font-family: Times New Roman; padding-bottom:10px\">' + interactive_hits[i].content + '</div>'))"
      ],
      "execution_count": 8,
      "outputs": [
        {
          "output_type": "stream",
          "text": [
            "Rank: 1 | Passage ID: 2225931 | BM25 Score: 11.718600273132324\n"
          ],
          "name": "stdout"
        },
        {
          "output_type": "display_data",
          "data": {
            "text/html": [
              "<div style=\"font-family: Times New Roman; padding-bottom:10px\">The South Africa national rugby union team, commonly known by their nickname of the Springboks, is the South African international rugby union team and is governed by the South African Rugby Union. The Springboks play in green and gold jerseys with white shorts, and their emblems are the Springbok and the King Protea.he South Africa national rugby union team, commonly known by their nickname of the Springboks, is the South African international rugby union team and is governed by the South African Rugby Union. The Springboks play in green and gold jerseys with white shorts, and their emblems are the Springbok and the King Protea.</div>"
            ],
            "text/plain": [
              "<IPython.core.display.HTML object>"
            ]
          },
          "metadata": {
            "tags": []
          }
        },
        {
          "output_type": "stream",
          "text": [
            "Rank: 2 | Passage ID: 4959087 | BM25 Score: 11.63599967956543\n"
          ],
          "name": "stdout"
        },
        {
          "output_type": "display_data",
          "data": {
            "text/html": [
              "<div style=\"font-family: Times New Roman; padding-bottom:10px\">Carolina Panthers Net Worth is 1,048 $Million. The Carolina Panthers are a professional American football team based in Charlotte, North Carolina. They are currently members of the South Division of t. The Carolina Panthers are a professional American football team based in Charl... Carolina Panthers Net Worth is 1,048 $Million. The Carolina Panthers are a professional American football team based in Charlotte, North Carolina. They are currently members of the South Division of t The Carolina Panthers are a professional American football team based in Charlotte, North Carolina. They are currently members of the South Division of t. The Carolina Panthers are a professional American football team based in Charl...</div>"
            ],
            "text/plain": [
              "<IPython.core.display.HTML object>"
            ]
          },
          "metadata": {
            "tags": []
          }
        },
        {
          "output_type": "stream",
          "text": [
            "Rank: 3 | Passage ID: 2646484 | BM25 Score: 11.590800285339355\n"
          ],
          "name": "stdout"
        },
        {
          "output_type": "display_data",
          "data": {
            "text/html": [
              "<div style=\"font-family: Times New Roman; padding-bottom:10px\">6 William H. Lewis, LL.B. 1895, was the first African American named to a College Football All-America Team. He was the first African American to be honored as an All-American. Lewis was hired as a football coach at Harvard, where he served from 1895 to 1906. This Varsity Football Team fall season photograph shows a close-up of Lewis in 1892.</div>"
            ],
            "text/plain": [
              "<IPython.core.display.HTML object>"
            ]
          },
          "metadata": {
            "tags": []
          }
        },
        {
          "output_type": "stream",
          "text": [
            "Rank: 4 | Passage ID: 2646489 | BM25 Score: 11.526900291442871\n"
          ],
          "name": "stdout"
        },
        {
          "output_type": "display_data",
          "data": {
            "text/html": [
              "<div style=\"font-family: Times New Roman; padding-bottom:10px\">5 William H. Lewis, LL.B. 1895, was the first African American named to a College Football All-America Team. He was the first African American to be honored as an All-American. Lewis was hired as a football coach at Harvard, where he served from 1895 to 1906. This Varsity Football Team fall season photograph shows Lewis (third from right, seated) in 1892.</div>"
            ],
            "text/plain": [
              "<IPython.core.display.HTML object>"
            ]
          },
          "metadata": {
            "tags": []
          }
        },
        {
          "output_type": "stream",
          "text": [
            "Rank: 5 | Passage ID: 474761 | BM25 Score: 11.50059986114502\n"
          ],
          "name": "stdout"
        },
        {
          "output_type": "display_data",
          "data": {
            "text/html": [
              "<div style=\"font-family: Times New Roman; padding-bottom:10px\">Since the 1996 Olympic Games in Atlanta, African and South American teams have won all the gold medals. Also in 1996, womenâs football was introduced into the Olympic programme. Three times, the USA has been on the highest step of the podium - in 1996, in 2004 in Athens and in 2008 in Beijing. But this team was beaten by the Norwegians in the final of the 2000 Games in Sydney.</div>"
            ],
            "text/plain": [
              "<IPython.core.display.HTML object>"
            ]
          },
          "metadata": {
            "tags": []
          }
        },
        {
          "output_type": "stream",
          "text": [
            "Rank: 6 | Passage ID: 4834928 | BM25 Score: 11.328499794006348\n"
          ],
          "name": "stdout"
        },
        {
          "output_type": "display_data",
          "data": {
            "text/html": [
              "<div style=\"font-family: Times New Roman; padding-bottom:10px\">The payment from the South African Football Association had been intended to support the development of football in the Caribbean. $1.6 million of the South African payment was used by Warner to pay personal loans and credit cards and a further $360,000 was withdrawn by people connected to Warner.</div>"
            ],
            "text/plain": [
              "<IPython.core.display.HTML object>"
            ]
          },
          "metadata": {
            "tags": []
          }
        },
        {
          "output_type": "stream",
          "text": [
            "Rank: 7 | Passage ID: 7619756 | BM25 Score: 11.165300369262695\n"
          ],
          "name": "stdout"
        },
        {
          "output_type": "display_data",
          "data": {
            "text/html": [
              "<div style=\"font-family: Times New Roman; padding-bottom:10px\">The Port Adelaide Football Club is a professional Australian rules football club based in Alberton, Port Adelaide, South Australia. The clubs senior team plays in the Australian Football League (AFL) whilst its reserves and development teams compete in the South Australian National Football League (SANFL).</div>"
            ],
            "text/plain": [
              "<IPython.core.display.HTML object>"
            ]
          },
          "metadata": {
            "tags": []
          }
        },
        {
          "output_type": "stream",
          "text": [
            "Rank: 8 | Passage ID: 830813 | BM25 Score: 11.10509967803955\n"
          ],
          "name": "stdout"
        },
        {
          "output_type": "display_data",
          "data": {
            "text/html": [
              "<div style=\"font-family: Times New Roman; padding-bottom:10px\">Freebase(0.00 / 0 votes)Rate this definition: The Lions, known as the Cats between the 1998 and 2006 seasons, are a South African professional Rugby union football team who competed in the Super Rugby competition. They have not achieved great success in the competition, finishing at the bottom of the table six times.</div>"
            ],
            "text/plain": [
              "<IPython.core.display.HTML object>"
            ]
          },
          "metadata": {
            "tags": []
          }
        },
        {
          "output_type": "stream",
          "text": [
            "Rank: 9 | Passage ID: 5660817 | BM25 Score: 11.051400184631348\n"
          ],
          "name": "stdout"
        },
        {
          "output_type": "display_data",
          "data": {
            "text/html": [
              "<div style=\"font-family: Times New Roman; padding-bottom:10px\">For other people of the same name, see Gary Anderson (disambiguation). Gary Allan Anderson (born 16 July 1959) is a former National Football League (NFL) placekicker. The first South African to appear in a NFL regular season game, Anderson played in the league for 23 seasons with six teams.</div>"
            ],
            "text/plain": [
              "<IPython.core.display.HTML object>"
            ]
          },
          "metadata": {
            "tags": []
          }
        },
        {
          "output_type": "stream",
          "text": [
            "Rank: 10 | Passage ID: 830809 | BM25 Score: 11.051399230957031\n"
          ],
          "name": "stdout"
        },
        {
          "output_type": "display_data",
          "data": {
            "text/html": [
              "<div style=\"font-family: Times New Roman; padding-bottom:10px\">Freebase(0.00 / 0 votes)Rate this definition: Lions. The Lions, known as the Cats between the 1998 and 2006 seasons, are a South African professional Rugby union football team who competed in the Super Rugby competition. They have not achieved great success in the competition, finishing at the bottom of the table six times.</div>"
            ],
            "text/plain": [
              "<IPython.core.display.HTML object>"
            ]
          },
          "metadata": {
            "tags": []
          }
        }
      ]
    },
    {
      "cell_type": "markdown",
      "metadata": {
        "colab_type": "text",
        "id": "ogrmRRfobshT"
      },
      "source": [
        "The above example uses default parameters.\n",
        "Let's try setting tuned parameters for this collection:"
      ]
    },
    {
      "cell_type": "code",
      "metadata": {
        "colab_type": "code",
        "id": "XIP34ZtsCaB5",
        "outputId": "7825b24d-b775-4505-f3a7-adbc3837412c",
        "colab": {
          "base_uri": "https://localhost:8080/",
          "height": 695
        }
      },
      "source": [
        "searcher.set_bm25_similarity(0.82, 0.68)\n",
        "interactive_hits_tuned = searcher.search('south african football teams')\n",
        "\n",
        "for i in range(0, 10):\n",
        "    print('Rank: {} | Passage ID: {} | BM25 Score: {}'.format(i+1, interactive_hits_tuned[i].docid, interactive_hits_tuned[i].score))\n",
        "    display(HTML('<div style=\"font-family: Times New Roman; padding-bottom:10px\">' + interactive_hits[i].content + '</div>'))"
      ],
      "execution_count": 9,
      "outputs": [
        {
          "output_type": "stream",
          "text": [
            "Rank: 1 | Passage ID: 474761 | BM25 Score: 11.889699935913086\n"
          ],
          "name": "stdout"
        },
        {
          "output_type": "display_data",
          "data": {
            "text/html": [
              "<div style=\"font-family: Times New Roman; padding-bottom:10px\">The South Africa national rugby union team, commonly known by their nickname of the Springboks, is the South African international rugby union team and is governed by the South African Rugby Union. The Springboks play in green and gold jerseys with white shorts, and their emblems are the Springbok and the King Protea.he South Africa national rugby union team, commonly known by their nickname of the Springboks, is the South African international rugby union team and is governed by the South African Rugby Union. The Springboks play in green and gold jerseys with white shorts, and their emblems are the Springbok and the King Protea.</div>"
            ],
            "text/plain": [
              "<IPython.core.display.HTML object>"
            ]
          },
          "metadata": {
            "tags": []
          }
        },
        {
          "output_type": "stream",
          "text": [
            "Rank: 2 | Passage ID: 4834928 | BM25 Score: 11.848899841308594\n"
          ],
          "name": "stdout"
        },
        {
          "output_type": "display_data",
          "data": {
            "text/html": [
              "<div style=\"font-family: Times New Roman; padding-bottom:10px\">Carolina Panthers Net Worth is 1,048 $Million. The Carolina Panthers are a professional American football team based in Charlotte, North Carolina. They are currently members of the South Division of t. The Carolina Panthers are a professional American football team based in Charl... Carolina Panthers Net Worth is 1,048 $Million. The Carolina Panthers are a professional American football team based in Charlotte, North Carolina. They are currently members of the South Division of t The Carolina Panthers are a professional American football team based in Charlotte, North Carolina. They are currently members of the South Division of t. The Carolina Panthers are a professional American football team based in Charl...</div>"
            ],
            "text/plain": [
              "<IPython.core.display.HTML object>"
            ]
          },
          "metadata": {
            "tags": []
          }
        },
        {
          "output_type": "stream",
          "text": [
            "Rank: 3 | Passage ID: 2646484 | BM25 Score: 11.805800437927246\n"
          ],
          "name": "stdout"
        },
        {
          "output_type": "display_data",
          "data": {
            "text/html": [
              "<div style=\"font-family: Times New Roman; padding-bottom:10px\">6 William H. Lewis, LL.B. 1895, was the first African American named to a College Football All-America Team. He was the first African American to be honored as an All-American. Lewis was hired as a football coach at Harvard, where he served from 1895 to 1906. This Varsity Football Team fall season photograph shows a close-up of Lewis in 1892.</div>"
            ],
            "text/plain": [
              "<IPython.core.display.HTML object>"
            ]
          },
          "metadata": {
            "tags": []
          }
        },
        {
          "output_type": "stream",
          "text": [
            "Rank: 4 | Passage ID: 830813 | BM25 Score: 11.76449966430664\n"
          ],
          "name": "stdout"
        },
        {
          "output_type": "display_data",
          "data": {
            "text/html": [
              "<div style=\"font-family: Times New Roman; padding-bottom:10px\">5 William H. Lewis, LL.B. 1895, was the first African American named to a College Football All-America Team. He was the first African American to be honored as an All-American. Lewis was hired as a football coach at Harvard, where he served from 1895 to 1906. This Varsity Football Team fall season photograph shows Lewis (third from right, seated) in 1892.</div>"
            ],
            "text/plain": [
              "<IPython.core.display.HTML object>"
            ]
          },
          "metadata": {
            "tags": []
          }
        },
        {
          "output_type": "stream",
          "text": [
            "Rank: 5 | Passage ID: 2646489 | BM25 Score: 11.703499794006348\n"
          ],
          "name": "stdout"
        },
        {
          "output_type": "display_data",
          "data": {
            "text/html": [
              "<div style=\"font-family: Times New Roman; padding-bottom:10px\">Since the 1996 Olympic Games in Atlanta, African and South American teams have won all the gold medals. Also in 1996, womenâs football was introduced into the Olympic programme. Three times, the USA has been on the highest step of the podium - in 1996, in 2004 in Athens and in 2008 in Beijing. But this team was beaten by the Norwegians in the final of the 2000 Games in Sydney.</div>"
            ],
            "text/plain": [
              "<IPython.core.display.HTML object>"
            ]
          },
          "metadata": {
            "tags": []
          }
        },
        {
          "output_type": "stream",
          "text": [
            "Rank: 6 | Passage ID: 5660817 | BM25 Score: 11.671299934387207\n"
          ],
          "name": "stdout"
        },
        {
          "output_type": "display_data",
          "data": {
            "text/html": [
              "<div style=\"font-family: Times New Roman; padding-bottom:10px\">The payment from the South African Football Association had been intended to support the development of football in the Caribbean. $1.6 million of the South African payment was used by Warner to pay personal loans and credit cards and a further $360,000 was withdrawn by people connected to Warner.</div>"
            ],
            "text/plain": [
              "<IPython.core.display.HTML object>"
            ]
          },
          "metadata": {
            "tags": []
          }
        },
        {
          "output_type": "stream",
          "text": [
            "Rank: 7 | Passage ID: 830809 | BM25 Score: 11.67129898071289\n"
          ],
          "name": "stdout"
        },
        {
          "output_type": "display_data",
          "data": {
            "text/html": [
              "<div style=\"font-family: Times New Roman; padding-bottom:10px\">The Port Adelaide Football Club is a professional Australian rules football club based in Alberton, Port Adelaide, South Australia. The clubs senior team plays in the Australian Football League (AFL) whilst its reserves and development teams compete in the South Australian National Football League (SANFL).</div>"
            ],
            "text/plain": [
              "<IPython.core.display.HTML object>"
            ]
          },
          "metadata": {
            "tags": []
          }
        },
        {
          "output_type": "stream",
          "text": [
            "Rank: 8 | Passage ID: 2225931 | BM25 Score: 11.636099815368652\n"
          ],
          "name": "stdout"
        },
        {
          "output_type": "display_data",
          "data": {
            "text/html": [
              "<div style=\"font-family: Times New Roman; padding-bottom:10px\">Freebase(0.00 / 0 votes)Rate this definition: The Lions, known as the Cats between the 1998 and 2006 seasons, are a South African professional Rugby union football team who competed in the Super Rugby competition. They have not achieved great success in the competition, finishing at the bottom of the table six times.</div>"
            ],
            "text/plain": [
              "<IPython.core.display.HTML object>"
            ]
          },
          "metadata": {
            "tags": []
          }
        },
        {
          "output_type": "stream",
          "text": [
            "Rank: 9 | Passage ID: 7619756 | BM25 Score: 11.509300231933594\n"
          ],
          "name": "stdout"
        },
        {
          "output_type": "display_data",
          "data": {
            "text/html": [
              "<div style=\"font-family: Times New Roman; padding-bottom:10px\">For other people of the same name, see Gary Anderson (disambiguation). Gary Allan Anderson (born 16 July 1959) is a former National Football League (NFL) placekicker. The first South African to appear in a NFL regular season game, Anderson played in the league for 23 seasons with six teams.</div>"
            ],
            "text/plain": [
              "<IPython.core.display.HTML object>"
            ]
          },
          "metadata": {
            "tags": []
          }
        },
        {
          "output_type": "stream",
          "text": [
            "Rank: 10 | Passage ID: 4959087 | BM25 Score: 11.47029972076416\n"
          ],
          "name": "stdout"
        },
        {
          "output_type": "display_data",
          "data": {
            "text/html": [
              "<div style=\"font-family: Times New Roman; padding-bottom:10px\">Freebase(0.00 / 0 votes)Rate this definition: Lions. The Lions, known as the Cats between the 1998 and 2006 seasons, are a South African professional Rugby union football team who competed in the Super Rugby competition. They have not achieved great success in the competition, finishing at the bottom of the table six times.</div>"
            ],
            "text/plain": [
              "<IPython.core.display.HTML object>"
            ]
          },
          "metadata": {
            "tags": []
          }
        }
      ]
    },
    {
      "cell_type": "markdown",
      "metadata": {
        "colab_type": "text",
        "id": "tJpEXdsx3uBJ"
      },
      "source": [
        "**Exercise:**\n",
        "Compare the rankings with and without tuned parameters.\n",
        "Add a new cell to query the index with a different query of your choice, both with untuned and tuned parameters."
      ]
    },
    {
      "cell_type": "markdown",
      "metadata": {
        "colab_type": "text",
        "id": "mdZeRTf3ClAR"
      },
      "source": [
        "Note how the ranking has changed.\n",
        "We can also enable RM3 query expansion to see if it helps with our collection:"
      ]
    },
    {
      "cell_type": "code",
      "metadata": {
        "colab_type": "code",
        "id": "LH3EVKaTMcgg",
        "outputId": "fbf5459c-60f4-40d9-962b-4cf9d2891702",
        "colab": {
          "base_uri": "https://localhost:8080/",
          "height": 695
        }
      },
      "source": [
        "searcher.set_rm3_reranker(10, 10, 0.5)\n",
        "interactive_hits_tuned_rm3 = searcher.search('south african football teams')\n",
        "\n",
        "for i in range(0, 10):\n",
        "    print('Rank: {} | Passage ID: {} | BM25 Score: {}'.format(i+1, interactive_hits_tuned_rm3[i].docid, interactive_hits_tuned_rm3[i].score))\n",
        "    display(HTML('<div style=\"font-family: Times New Roman; padding-bottom:10px\">' + interactive_hits_tuned_rm3[i].content + '</div>'))"
      ],
      "execution_count": 10,
      "outputs": [
        {
          "output_type": "stream",
          "text": [
            "Rank: 1 | Passage ID: 830813 | BM25 Score: 2.879300117492676\n"
          ],
          "name": "stdout"
        },
        {
          "output_type": "display_data",
          "data": {
            "text/html": [
              "<div style=\"font-family: Times New Roman; padding-bottom:10px\">Freebase(0.00 / 0 votes)Rate this definition: The Lions, known as the Cats between the 1998 and 2006 seasons, are a South African professional Rugby union football team who competed in the Super Rugby competition. They have not achieved great success in the competition, finishing at the bottom of the table six times.</div>"
            ],
            "text/plain": [
              "<IPython.core.display.HTML object>"
            ]
          },
          "metadata": {
            "tags": []
          }
        },
        {
          "output_type": "stream",
          "text": [
            "Rank: 2 | Passage ID: 830809 | BM25 Score: 2.857800006866455\n"
          ],
          "name": "stdout"
        },
        {
          "output_type": "display_data",
          "data": {
            "text/html": [
              "<div style=\"font-family: Times New Roman; padding-bottom:10px\">Freebase(0.00 / 0 votes)Rate this definition: Lions. The Lions, known as the Cats between the 1998 and 2006 seasons, are a South African professional Rugby union football team who competed in the Super Rugby competition. They have not achieved great success in the competition, finishing at the bottom of the table six times.</div>"
            ],
            "text/plain": [
              "<IPython.core.display.HTML object>"
            ]
          },
          "metadata": {
            "tags": []
          }
        },
        {
          "output_type": "stream",
          "text": [
            "Rank: 3 | Passage ID: 2646484 | BM25 Score: 2.726300001144409\n"
          ],
          "name": "stdout"
        },
        {
          "output_type": "display_data",
          "data": {
            "text/html": [
              "<div style=\"font-family: Times New Roman; padding-bottom:10px\">6 William H. Lewis, LL.B. 1895, was the first African American named to a College Football All-America Team. He was the first African American to be honored as an All-American. Lewis was hired as a football coach at Harvard, where he served from 1895 to 1906. This Varsity Football Team fall season photograph shows a close-up of Lewis in 1892.</div>"
            ],
            "text/plain": [
              "<IPython.core.display.HTML object>"
            ]
          },
          "metadata": {
            "tags": []
          }
        },
        {
          "output_type": "stream",
          "text": [
            "Rank: 4 | Passage ID: 2646489 | BM25 Score: 2.7032999992370605\n"
          ],
          "name": "stdout"
        },
        {
          "output_type": "display_data",
          "data": {
            "text/html": [
              "<div style=\"font-family: Times New Roman; padding-bottom:10px\">5 William H. Lewis, LL.B. 1895, was the first African American named to a College Football All-America Team. He was the first African American to be honored as an All-American. Lewis was hired as a football coach at Harvard, where he served from 1895 to 1906. This Varsity Football Team fall season photograph shows Lewis (third from right, seated) in 1892.</div>"
            ],
            "text/plain": [
              "<IPython.core.display.HTML object>"
            ]
          },
          "metadata": {
            "tags": []
          }
        },
        {
          "output_type": "stream",
          "text": [
            "Rank: 5 | Passage ID: 4959087 | BM25 Score: 2.6442999839782715\n"
          ],
          "name": "stdout"
        },
        {
          "output_type": "display_data",
          "data": {
            "text/html": [
              "<div style=\"font-family: Times New Roman; padding-bottom:10px\">Carolina Panthers Net Worth is 1,048 $Million. The Carolina Panthers are a professional American football team based in Charlotte, North Carolina. They are currently members of the South Division of t. The Carolina Panthers are a professional American football team based in Charl... Carolina Panthers Net Worth is 1,048 $Million. The Carolina Panthers are a professional American football team based in Charlotte, North Carolina. They are currently members of the South Division of t The Carolina Panthers are a professional American football team based in Charlotte, North Carolina. They are currently members of the South Division of t. The Carolina Panthers are a professional American football team based in Charl...</div>"
            ],
            "text/plain": [
              "<IPython.core.display.HTML object>"
            ]
          },
          "metadata": {
            "tags": []
          }
        },
        {
          "output_type": "stream",
          "text": [
            "Rank: 6 | Passage ID: 8831689 | BM25 Score: 2.6310999393463135\n"
          ],
          "name": "stdout"
        },
        {
          "output_type": "display_data",
          "data": {
            "text/html": [
              "<div style=\"font-family: Times New Roman; padding-bottom:10px\">The 1908 NSWRFL season was the inaugural season of the New South Wales Rugby Football League 's premiership, Australia's first rugby league football club competition, which was based in Sydney.ight teams contested the first round of the season; seven teams from Sydney and one team from Newcastle. Another Sydney team, Cumberland, joined the competition in the second round, making it nine teams in total, however the club exited the League at the end of the season.</div>"
            ],
            "text/plain": [
              "<IPython.core.display.HTML object>"
            ]
          },
          "metadata": {
            "tags": []
          }
        },
        {
          "output_type": "stream",
          "text": [
            "Rank: 7 | Passage ID: 4528472 | BM25 Score: 2.6001999378204346\n"
          ],
          "name": "stdout"
        },
        {
          "output_type": "display_data",
          "data": {
            "text/html": [
              "<div style=\"font-family: Times New Roman; padding-bottom:10px\">Uruguay national under-20 football team. Uruguay national under-20 football team represents Uruguay in international football competitions such as FIFA U-20 World Cup and the South American Youth Football Championship.</div>"
            ],
            "text/plain": [
              "<IPython.core.display.HTML object>"
            ]
          },
          "metadata": {
            "tags": []
          }
        },
        {
          "output_type": "stream",
          "text": [
            "Rank: 8 | Passage ID: 7619756 | BM25 Score: 2.5982000827789307\n"
          ],
          "name": "stdout"
        },
        {
          "output_type": "display_data",
          "data": {
            "text/html": [
              "<div style=\"font-family: Times New Roman; padding-bottom:10px\">The Port Adelaide Football Club is a professional Australian rules football club based in Alberton, Port Adelaide, South Australia. The clubs senior team plays in the Australian Football League (AFL) whilst its reserves and development teams compete in the South Australian National Football League (SANFL).</div>"
            ],
            "text/plain": [
              "<IPython.core.display.HTML object>"
            ]
          },
          "metadata": {
            "tags": []
          }
        },
        {
          "output_type": "stream",
          "text": [
            "Rank: 9 | Passage ID: 3812886 | BM25 Score: 2.5480000972747803\n"
          ],
          "name": "stdout"
        },
        {
          "output_type": "display_data",
          "data": {
            "text/html": [
              "<div style=\"font-family: Times New Roman; padding-bottom:10px\">Tennessee Titans. The Tennessee Titans are a professional American football team based in Nashville, Tennessee. The Titans compete in the National Football League (NFL) as a member club of the American Football Conference (AFC) South division. Previously known as the Houston Oilers, the team began play in 1960 in Houston, Texas, as a charter member of the American Football League (AFL).</div>"
            ],
            "text/plain": [
              "<IPython.core.display.HTML object>"
            ]
          },
          "metadata": {
            "tags": []
          }
        },
        {
          "output_type": "stream",
          "text": [
            "Rank: 10 | Passage ID: 1554969 | BM25 Score: 2.5302000045776367\n"
          ],
          "name": "stdout"
        },
        {
          "output_type": "display_data",
          "data": {
            "text/html": [
              "<div style=\"font-family: Times New Roman; padding-bottom:10px\">For the 1970s WFL team once called Houston Texans, see Shreveport Steamer. The Houston Texans are a professional American football team based in Houston, Texas. The team competes in the National Football League (NFL) as a member club of the American Football Conference (AFC) South division. The Texans first played in 2002 as an expansion team, making them the youngest franchise in the NFL currently.</div>"
            ],
            "text/plain": [
              "<IPython.core.display.HTML object>"
            ]
          },
          "metadata": {
            "tags": []
          }
        }
      ]
    },
    {
      "cell_type": "markdown",
      "metadata": {
        "colab_type": "text",
        "id": "fHX_l-5jKZ3P"
      },
      "source": [
        "## Batch Retrieval"
      ]
    },
    {
      "cell_type": "markdown",
      "metadata": {
        "colab_type": "text",
        "id": "k08tEtsmDCyv"
      },
      "source": [
        "Previously we interactively queried the index.\n",
        "However, in a typical experimental setting, you would evaluate over a larger number of queries to test different information needs.\n",
        "\n",
        "Let's begin by constructing the dev queries and corresponding query IDs:"
      ]
    },
    {
      "cell_type": "code",
      "metadata": {
        "colab_type": "code",
        "id": "RSlbbOMecd2d",
        "outputId": "af26bb7e-0b16-410a-ef82-c2d2d9c0c10f",
        "colab": {
          "base_uri": "https://localhost:8080/",
          "height": 34
        }
      },
      "source": [
        "topics = {}\n",
        "with open('data/queries.dev.small.tsv') as file:\n",
        "    for line in file:\n",
        "       id, q = line.strip().split('\\t')\n",
        "       topics[int(id)] = q\n",
        "\n",
        "print('{} queries total'.format(len(topics)))"
      ],
      "execution_count": 11,
      "outputs": [
        {
          "output_type": "stream",
          "text": [
            "6980 queries total\n"
          ],
          "name": "stdout"
        }
      ]
    },
    {
      "cell_type": "code",
      "metadata": {
        "colab_type": "code",
        "id": "LpSWU35Bd9Bp",
        "colab": {}
      },
      "source": [
        "queries = list(topics.values())\n",
        "qids = list([str(t) for t in topics.keys()])"
      ],
      "execution_count": 0,
      "outputs": []
    },
    {
      "cell_type": "markdown",
      "metadata": {
        "colab_type": "text",
        "id": "mtYICC936IMU"
      },
      "source": [
        "**Exercise:**\n",
        "We have previously looked at these queries in the last activity.\n",
        "Again find the queries that contain `football`."
      ]
    },
    {
      "cell_type": "code",
      "metadata": {
        "colab_type": "code",
        "id": "fW6cX15t5cGd",
        "outputId": "ce836735-d0bc-4960-88e2-37598d751253",
        "colab": {
          "base_uri": "https://localhost:8080/",
          "height": 85
        }
      },
      "source": [
        "[q for q in queries if 'football' in q]"
      ],
      "execution_count": 13,
      "outputs": [
        {
          "output_type": "execute_result",
          "data": {
            "text/plain": [
              "['what conference is bryant for football',\n",
              " 'what are the leagues of football in rockford il',\n",
              " 'average pay for nfl football players',\n",
              " 'who is statesboro new football coach']"
            ]
          },
          "metadata": {
            "tags": []
          },
          "execution_count": 13
        }
      ]
    },
    {
      "cell_type": "markdown",
      "metadata": {
        "colab_type": "text",
        "id": "F37KoOfsfCSe"
      },
      "source": [
        "Now, let's run all the queries from the dev set.\n",
        "For the sake of speed, let's again only retrieve the top 5 documents for each query.\n",
        "Note that this step may still take a while."
      ]
    },
    {
      "cell_type": "code",
      "metadata": {
        "colab_type": "code",
        "id": "C74qogSKfFtD",
        "colab": {}
      },
      "source": [
        "searcher = pysearch.SimpleSearcher('indexes/lucene-index.msmarco-passage.pos+docvectors+rawdocs')\n",
        "bm25_hits = searcher.batch_search(queries, qids, k=5)"
      ],
      "execution_count": 0,
      "outputs": []
    },
    {
      "cell_type": "markdown",
      "metadata": {
        "colab_type": "text",
        "id": "0HTohrkIO5N2"
      },
      "source": [
        "Note that the above runs batch retrieval with untuned BM25.\n",
        "We can repeat with tuned parameters, just like we did for the interactive queries:"
      ]
    },
    {
      "cell_type": "code",
      "metadata": {
        "colab_type": "code",
        "id": "R6clfMWkD3ZU",
        "colab": {}
      },
      "source": [
        "searcher.set_bm25_similarity(0.82, 0.68)\n",
        "bm25_hits_tuned = searcher.batch_search(queries, qids, k=5)"
      ],
      "execution_count": 0,
      "outputs": []
    },
    {
      "cell_type": "markdown",
      "metadata": {
        "colab_type": "text",
        "id": "mNMa1DKsD1fc"
      },
      "source": [
        "Now let's repeat with RM3 query expansion:"
      ]
    },
    {
      "cell_type": "code",
      "metadata": {
        "colab_type": "code",
        "id": "j9o_IXRTk5mf",
        "colab": {}
      },
      "source": [
        "searcher.set_rm3_reranker(10, 10, 0.5)\n",
        "bm25_hits_tuned_rm3 = searcher.batch_search(queries, qids, k=5)"
      ],
      "execution_count": 0,
      "outputs": []
    },
    {
      "cell_type": "markdown",
      "metadata": {
        "id": "RZbakkgXiPSO",
        "colab_type": "text"
      },
      "source": [
        "**Exercise:**\n",
        "Produce a run for untuned BM25 with RM3."
      ]
    },
    {
      "cell_type": "markdown",
      "metadata": {
        "colab_type": "text",
        "id": "6J-CuGlz9hjc"
      },
      "source": [
        "**Exercise:**\n",
        "So far we have downloaded and retrieved the top passages for the dev queries.\n",
        "Now pull the eval queries and repeat the process for eval queries."
      ]
    },
    {
      "cell_type": "code",
      "metadata": {
        "colab_type": "code",
        "id": "7npsIcEU91Ji",
        "outputId": "c56cc9c5-5fa7-48d2-920b-53b2661b9d49",
        "colab": {
          "base_uri": "https://localhost:8080/",
          "height": 68
        }
      },
      "source": [
        "!gsutil -m cp gs://afirm2020/msmarco_passage/queries.eval.small.tsv data/queries.eval.small.tsv"
      ],
      "execution_count": 17,
      "outputs": [
        {
          "output_type": "stream",
          "text": [
            "Copying gs://afirm2020/msmarco_passage/queries.eval.small.tsv...\n",
            "/ [0/1 files][    0.0 B/274.3 KiB]   0% Done                                    \r/ [1/1 files][274.3 KiB/274.3 KiB] 100% Done                                    \r\n",
            "Operation completed over 1 objects/274.3 KiB.                                    \n"
          ],
          "name": "stdout"
        }
      ]
    },
    {
      "cell_type": "code",
      "metadata": {
        "colab_type": "code",
        "id": "kRxS0rzG--tB",
        "colab": {}
      },
      "source": [
        "eval_topics = {}\n",
        "with open('data/queries.eval.small.tsv') as file:\n",
        "    for line in file:\n",
        "       id, q = line.strip().split('\\t')\n",
        "       eval_topics[int(id)] = q\n",
        "\n",
        "eval_queries = list(eval_topics.values())\n",
        "eval_qids = list([str(t) for t in eval_topics.keys()])"
      ],
      "execution_count": 0,
      "outputs": []
    },
    {
      "cell_type": "code",
      "metadata": {
        "colab_type": "code",
        "id": "nYeEGpfs_myX",
        "colab": {}
      },
      "source": [
        "eval_searcher = pysearch.SimpleSearcher('indexes/lucene-index.msmarco-passage.pos+docvectors+rawdocs')\n",
        "bm25_eval_hits = eval_searcher.batch_search(eval_queries, eval_qids, k=5)"
      ],
      "execution_count": 0,
      "outputs": []
    },
    {
      "cell_type": "markdown",
      "metadata": {
        "colab_type": "text",
        "id": "tU1jjvYfKYgA"
      },
      "source": [
        "## Evaluation\n",
        "\n",
        "A crucial component of information retrieval research is evaluation and metrics.\n",
        "The most common tool used to achieve this goal is `trec_eval` developed by [NIST](https://www.nist.gov/).\n",
        "\n",
        "`trec_eval` defines a number of standard retrieval measures, the details of which can be seen [here](http://www.rafaelglater.com/en/post/learn-how-to-use-trec_eval-to-evaluate-your-information-retrieval-system).\n",
        "\n",
        "### TREC Format\n",
        "\n",
        "`trec_eval` requires the runs from various experiments to be expressed in a standard TREC format:\n",
        "\n",
        "`query_id iter docno rank similarity run_id` delimited by spaces\n",
        "\n",
        "- `query_id`: query ID\n",
        "- `iter`: constant, often either 0 or Q0 - required but ignored by `trec_eval`\n",
        "- `docno`: string values that uniquely identify a document in the collection\n",
        "- `rank`: integer, often zero indexed\n",
        "- `similarity`: float value that represents the similarity of the document to the query specified by `query_id`\n",
        "- `run_id`: string that identifies runs, used to keep track of different experiments - also ignored by `trec_eval`\n",
        "\n",
        "Evaluation also requires the ground truth in the form of relevance judgements in the qrels file.\n",
        "The qrels file follows the following format:\n",
        "\n",
        "`query_id iter docno label`\n",
        "\n",
        "- `label`: binary code (0 for not relevant and 1 for relevant)"
      ]
    },
    {
      "cell_type": "markdown",
      "metadata": {
        "colab_type": "text",
        "id": "GnhjuvsQhrVB"
      },
      "source": [
        "Convert the hits for both BM25 (tuned and untuned) and BM25+RM3 runs into the TREC format:"
      ]
    },
    {
      "cell_type": "code",
      "metadata": {
        "colab_type": "code",
        "id": "P_I_F6K9kW3L",
        "colab": {}
      },
      "source": [
        "def convert_to_trec_run(experiment, run_dict):\n",
        "  with open('run.{}.txt'.format(experiment), 'w') as run_file:\n",
        "    for qid in run_dict:\n",
        "      for rank, doc in enumerate(run_dict[qid]):\n",
        "        run_file.write('{} Q0 {} {} {} {}\\n'.format(qid, doc.docid, rank, doc.score, experiment))"
      ],
      "execution_count": 0,
      "outputs": []
    },
    {
      "cell_type": "code",
      "metadata": {
        "colab_type": "code",
        "id": "nDPIwvy5iqMK",
        "colab": {}
      },
      "source": [
        "convert_to_trec_run('msmarco_passage_dev_bm25', bm25_hits)\n",
        "convert_to_trec_run('msmarco_passage_dev_bm25_tuned', bm25_hits_tuned)\n",
        "convert_to_trec_run('msmarco_passage_dev_bm25_tuned_rm3', bm25_hits_tuned_rm3)"
      ],
      "execution_count": 0,
      "outputs": []
    },
    {
      "cell_type": "markdown",
      "metadata": {
        "colab_type": "text",
        "id": "NtKO5XXWnWZi"
      },
      "source": [
        "Let's pull `trec_eval` and the qrels file:"
      ]
    },
    {
      "cell_type": "code",
      "metadata": {
        "colab_type": "code",
        "id": "SQWfpv1gnYaf",
        "outputId": "62e4b25c-de01-43bc-cd38-348350b4b468",
        "colab": {
          "base_uri": "https://localhost:8080/",
          "height": 1000
        }
      },
      "source": [
        "!gsutil -m cp -r gs://afirm2020/trec_eval.9.0.4 .\n",
        "!chmod -R +x trec_eval.9.0.4/\n",
        "!gsutil -m cp gs://afirm2020/msmarco_passage/qrels.dev.small.tsv data/qrels.dev.small.tsv"
      ],
      "execution_count": 22,
      "outputs": [
        {
          "output_type": "stream",
          "text": [
            "Copying gs://afirm2020/trec_eval.9.0.4/CHANGELOG...\n",
            "Copying gs://afirm2020/trec_eval.9.0.4/Makefile...\n",
            "Copying gs://afirm2020/trec_eval.9.0.4/README...\n",
            "Copying gs://afirm2020/trec_eval.9.0.4/README.windows.md...\n",
            "Copying gs://afirm2020/trec_eval.9.0.4/bpref_bug...\n",
            "/ [0 files][    0.0 B/  1.3 MiB]                                                \r/ [0 files][    0.0 B/  1.3 MiB]                                                \r/ [0 files][    0.0 B/  1.3 MiB]                                                \r/ [0 files][    0.0 B/  1.3 MiB]                                                \r/ [0 files][    0.0 B/  1.3 MiB]                                                \rCopying gs://afirm2020/trec_eval.9.0.4/convert_zscores.c...\n",
            "Copying gs://afirm2020/trec_eval.9.0.4/common.h...\n",
            "Copying gs://afirm2020/trec_eval.9.0.4/form_prefs_counts.c...\n",
            "Copying gs://afirm2020/trec_eval.9.0.4/form_res_rels.c...\n",
            "Copying gs://afirm2020/trec_eval.9.0.4/form_res_rels_jg.c...\n",
            "Copying gs://afirm2020/trec_eval.9.0.4/formats.c...\n",
            "Copying gs://afirm2020/trec_eval.9.0.4/functions.h...\n",
            "Copying gs://afirm2020/trec_eval.9.0.4/get_prefs.c...\n",
            "Copying gs://afirm2020/trec_eval.9.0.4/get_qrels.c...\n",
            "Copying gs://afirm2020/trec_eval.9.0.4/get_qrels_jg.c...\n",
            "Copying gs://afirm2020/trec_eval.9.0.4/get_qrels_prefs.c...\n",
            "Copying gs://afirm2020/trec_eval.9.0.4/get_trec_results.c...\n",
            "Copying gs://afirm2020/trec_eval.9.0.4/get_zscores.c...\n",
            "Copying gs://afirm2020/trec_eval.9.0.4/m_11pt_avg.c...\n",
            "Copying gs://afirm2020/trec_eval.9.0.4/m_G.c...\n",
            "Copying gs://afirm2020/trec_eval.9.0.4/m_P.c...\n",
            "Copying gs://afirm2020/trec_eval.9.0.4/m_P_avgjg.c...\n",
            "Copying gs://afirm2020/trec_eval.9.0.4/m_Rndcg.c...\n",
            "Copying gs://afirm2020/trec_eval.9.0.4/m_Rprec.c...\n",
            "Copying gs://afirm2020/trec_eval.9.0.4/m_Rprec_mult.c...\n",
            "Copying gs://afirm2020/trec_eval.9.0.4/m_Rprec_mult_avgjg.c...\n",
            "Copying gs://afirm2020/trec_eval.9.0.4/m_binG.c...\n",
            "Copying gs://afirm2020/trec_eval.9.0.4/m_bpref.c...\n",
            "Copying gs://afirm2020/trec_eval.9.0.4/m_gm_bpref.c...\n",
            "Copying gs://afirm2020/trec_eval.9.0.4/m_gm_map.c...\n",
            "Copying gs://afirm2020/trec_eval.9.0.4/m_infap.c...\n",
            "Copying gs://afirm2020/trec_eval.9.0.4/m_iprec_at_recall.c...\n",
            "Copying gs://afirm2020/trec_eval.9.0.4/m_map.c...\n",
            "Copying gs://afirm2020/trec_eval.9.0.4/m_map_avgjg.c...\n",
            "Copying gs://afirm2020/trec_eval.9.0.4/m_map_cut.c...\n",
            "Copying gs://afirm2020/trec_eval.9.0.4/m_ndcg.c...\n",
            "Copying gs://afirm2020/trec_eval.9.0.4/m_ndcg_cut.c...\n",
            "Copying gs://afirm2020/trec_eval.9.0.4/m_ndcg_p.c...\n",
            "Copying gs://afirm2020/trec_eval.9.0.4/m_ndcg_rel.c...\n",
            "Copying gs://afirm2020/trec_eval.9.0.4/m_num_nonrel_judged_ret.c...\n",
            "Copying gs://afirm2020/trec_eval.9.0.4/m_num_q.c...\n",
            "Copying gs://afirm2020/trec_eval.9.0.4/m_num_rel.c...\n",
            "Copying gs://afirm2020/trec_eval.9.0.4/m_num_rel_ret.c...\n",
            "Copying gs://afirm2020/trec_eval.9.0.4/m_num_ret.c...\n",
            "Copying gs://afirm2020/trec_eval.9.0.4/m_prefs_avgjg.c...\n",
            "Copying gs://afirm2020/trec_eval.9.0.4/m_prefs_avgjg_Rnonrel.c...\n",
            "Copying gs://afirm2020/trec_eval.9.0.4/m_prefs_avgjg_Rnonrel_ret.c...\n",
            "Copying gs://afirm2020/trec_eval.9.0.4/m_prefs_avgjg_imp.c...\n",
            "Copying gs://afirm2020/trec_eval.9.0.4/m_prefs_avgjg_ret.c...\n",
            "Copying gs://afirm2020/trec_eval.9.0.4/m_prefs_num_prefs_ful.c...\n",
            "Copying gs://afirm2020/trec_eval.9.0.4/m_prefs_num_prefs_poss.c...\n",
            "Copying gs://afirm2020/trec_eval.9.0.4/m_prefs_num_prefs_ful_ret.c...\n",
            "Copying gs://afirm2020/trec_eval.9.0.4/m_prefs_pair.c...\n",
            "Copying gs://afirm2020/trec_eval.9.0.4/m_prefs_pair_imp.c...\n",
            "Copying gs://afirm2020/trec_eval.9.0.4/m_prefs_pair_ret.c...\n",
            "Copying gs://afirm2020/trec_eval.9.0.4/m_prefs_simp.c...\n",
            "Copying gs://afirm2020/trec_eval.9.0.4/m_prefs_simp_imp.c...\n",
            "Copying gs://afirm2020/trec_eval.9.0.4/m_prefs_simp_ret.c...\n",
            "Copying gs://afirm2020/trec_eval.9.0.4/m_recall.c...\n",
            "Copying gs://afirm2020/trec_eval.9.0.4/m_recip_rank.c...\n",
            "Copying gs://afirm2020/trec_eval.9.0.4/m_rel_P.c...\n",
            "Copying gs://afirm2020/trec_eval.9.0.4/m_relstring.c...\n",
            "Copying gs://afirm2020/trec_eval.9.0.4/m_runid.c...\n",
            "Copying gs://afirm2020/trec_eval.9.0.4/m_set_F.c...\n",
            "Copying gs://afirm2020/trec_eval.9.0.4/m_set_P.c...\n",
            "Copying gs://afirm2020/trec_eval.9.0.4/m_set_map.c...\n",
            "Copying gs://afirm2020/trec_eval.9.0.4/m_set_recall.c...\n",
            "Copying gs://afirm2020/trec_eval.9.0.4/m_set_rel_P.c...\n",
            "Copying gs://afirm2020/trec_eval.9.0.4/m_success.c...\n",
            "Copying gs://afirm2020/trec_eval.9.0.4/m_utility.c...\n",
            "Copying gs://afirm2020/trec_eval.9.0.4/m_yaap.c...\n",
            "Copying gs://afirm2020/trec_eval.9.0.4/meas_acc.c...\n",
            "Copying gs://afirm2020/trec_eval.9.0.4/meas_avg.c...\n",
            "Copying gs://afirm2020/trec_eval.9.0.4/meas_init.c...\n",
            "Copying gs://afirm2020/trec_eval.9.0.4/meas_print_final.c...\n",
            "Copying gs://afirm2020/trec_eval.9.0.4/meas_print_single.c...\n",
            "Copying gs://afirm2020/trec_eval.9.0.4/measures.c...\n",
            "Copying gs://afirm2020/trec_eval.9.0.4/sysfunc.h...\n",
            "Copying gs://afirm2020/trec_eval.9.0.4/test/out.test...\n",
            "Copying gs://afirm2020/trec_eval.9.0.4/test/out.test.a...\n",
            "Copying gs://afirm2020/trec_eval.9.0.4/test/out.test.aq...\n",
            "Copying gs://afirm2020/trec_eval.9.0.4/test/out.test.aqZ...\n",
            "Copying gs://afirm2020/trec_eval.9.0.4/test/out.test.aqc...\n",
            "Copying gs://afirm2020/trec_eval.9.0.4/test/out.test.aqcM...\n",
            "Copying gs://afirm2020/trec_eval.9.0.4/test/out.test.aql...\n",
            "Copying gs://afirm2020/trec_eval.9.0.4/test/out.test.meas_params...\n",
            "Copying gs://afirm2020/trec_eval.9.0.4/test/out.test.prefs...\n",
            "Copying gs://afirm2020/trec_eval.9.0.4/test/out.test.qrels_jg...\n",
            "Copying gs://afirm2020/trec_eval.9.0.4/test/out.test.qrels_prefs...\n",
            "Copying gs://afirm2020/trec_eval.9.0.4/test/prefs.rank20...\n",
            "Copying gs://afirm2020/trec_eval.9.0.4/test/prefs.results.test...\n",
            "Copying gs://afirm2020/trec_eval.9.0.4/test/prefs.test...\n",
            "Copying gs://afirm2020/trec_eval.9.0.4/test/qrels.123...\n",
            "Copying gs://afirm2020/trec_eval.9.0.4/test/qrels.rel_level...\n",
            "Copying gs://afirm2020/trec_eval.9.0.4/test/qrels.test...\n",
            "Copying gs://afirm2020/trec_eval.9.0.4/test/results.test...\n",
            "Copying gs://afirm2020/trec_eval.9.0.4/test/results.trunc...\n",
            "Copying gs://afirm2020/trec_eval.9.0.4/test/zscores_file...\n",
            "Copying gs://afirm2020/trec_eval.9.0.4/trec_eval...\n",
            "Copying gs://afirm2020/trec_eval.9.0.4/trec_eval.c...\n",
            "Copying gs://afirm2020/trec_eval.9.0.4/trec_eval.h...\n",
            "Copying gs://afirm2020/trec_eval.9.0.4/trec_format.h...\n",
            "Copying gs://afirm2020/trec_eval.9.0.4/utility_pool.c...\n",
            "/ [103/103 files][  1.4 MiB/  1.4 MiB] 100% Done                                \n",
            "Operation completed over 103 objects/1.4 MiB.                                    \n",
            "Copying gs://afirm2020/msmarco_passage/qrels.dev.small.tsv...\n",
            "/ [1/1 files][139.9 KiB/139.9 KiB] 100% Done                                    \n",
            "Operation completed over 1 objects/139.9 KiB.                                    \n"
          ],
          "name": "stdout"
        }
      ]
    },
    {
      "cell_type": "markdown",
      "metadata": {
        "colab_type": "text",
        "id": "J8dRwjl3aGsn"
      },
      "source": [
        "\n",
        "\n",
        "---\n",
        "\n"
      ]
    },
    {
      "cell_type": "markdown",
      "metadata": {
        "colab_type": "text",
        "id": "MmWLvAl7iqbz"
      },
      "source": [
        "Now that we have our runs in the TREC format, we can evaluate them with `trec_eval`.\n"
      ]
    },
    {
      "cell_type": "code",
      "metadata": {
        "colab_type": "code",
        "id": "5QWvGHiXVx0V",
        "outputId": "cb2877fd-6266-4e30-a707-542f44f0fe6e",
        "colab": {
          "base_uri": "https://localhost:8080/",
          "height": 102
        }
      },
      "source": [
        "!head -5 run.msmarco_passage_dev_bm25.txt"
      ],
      "execution_count": 23,
      "outputs": [
        {
          "output_type": "stream",
          "text": [
            "901007 Q0 4446100 0 17.485200881958008 msmarco_passage_dev_bm25\n",
            "901007 Q0 3570493 1 16.313400268554688 msmarco_passage_dev_bm25\n",
            "901007 Q0 5268062 2 15.82390022277832 msmarco_passage_dev_bm25\n",
            "901007 Q0 3989753 3 15.741399765014648 msmarco_passage_dev_bm25\n",
            "901007 Q0 1719770 4 15.68179988861084 msmarco_passage_dev_bm25\n"
          ],
          "name": "stdout"
        }
      ]
    },
    {
      "cell_type": "code",
      "metadata": {
        "colab_type": "code",
        "id": "PPNjxxLWO0X-",
        "outputId": "11303129-6dae-4db3-d80b-9afcb1b30f6e",
        "colab": {
          "base_uri": "https://localhost:8080/",
          "height": 51
        }
      },
      "source": [
        "!chmod -R +x trec_eval.9.0.4/\n",
        "!trec_eval.9.0.4/trec_eval -m ndcg_cut.20 -c -m recall.1000 -c data/qrels.dev.small.tsv run.msmarco_passage_dev_bm25.txt"
      ],
      "execution_count": 34,
      "outputs": [
        {
          "output_type": "stream",
          "text": [
            "recall_1000           \tall\t0.2846\n",
            "ndcg_cut_20           \tall\t0.1974\n"
          ],
          "name": "stdout"
        }
      ]
    },
    {
      "cell_type": "code",
      "metadata": {
        "colab_type": "code",
        "id": "XXWy1WHZGq_Y",
        "outputId": "70635748-19f8-4499-c97c-e2ebac678cbe",
        "colab": {
          "base_uri": "https://localhost:8080/",
          "height": 51
        }
      },
      "source": [
        "!trec_eval.9.0.4/trec_eval -m ndcg_cut.20 -c -m recall.1000 -c data/qrels.dev.small.tsv run.msmarco_passage_dev_bm25_tuned.txt"
      ],
      "execution_count": 25,
      "outputs": [
        {
          "output_type": "stream",
          "text": [
            "recall_1000           \tall\t0.2944\n",
            "ndcg_cut_20           \tall\t0.2021\n"
          ],
          "name": "stdout"
        }
      ]
    },
    {
      "cell_type": "code",
      "metadata": {
        "colab_type": "code",
        "id": "xQV_2o-OoDkv",
        "outputId": "5f805b66-54cf-478f-ff83-b16ef5ea0600",
        "colab": {
          "base_uri": "https://localhost:8080/",
          "height": 51
        }
      },
      "source": [
        "!trec_eval.9.0.4/trec_eval -m ndcg_cut.20 -c -m recall.1000 -c data/qrels.dev.small.tsv run.msmarco_passage_dev_bm25_tuned_rm3.txt"
      ],
      "execution_count": 35,
      "outputs": [
        {
          "output_type": "stream",
          "text": [
            "recall_1000           \tall\t0.2680\n",
            "ndcg_cut_20           \tall\t0.1796\n"
          ],
          "name": "stdout"
        }
      ]
    },
    {
      "cell_type": "markdown",
      "metadata": {
        "colab_type": "text",
        "id": "DdX1XQfKG7QB"
      },
      "source": [
        "**Exercise:**\n",
        "What can you infer based on these result?"
      ]
    },
    {
      "cell_type": "markdown",
      "metadata": {
        "colab_type": "text",
        "id": "uedB2S4jY9Ka"
      },
      "source": [
        "**Exercise:**\n",
        "We obtained the run file for the eval queries in the previous exercise.\n",
        "Now evaluate it with `trec_tool`."
      ]
    }
  ]
}