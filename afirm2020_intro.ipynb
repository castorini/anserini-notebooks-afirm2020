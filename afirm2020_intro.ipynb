{
  "nbformat": 4,
  "nbformat_minor": 0,
  "metadata": {
    "colab": {
      "name": "afirm2020_intro.ipynb",
      "provenance": [],
      "collapsed_sections": [],
      "include_colab_link": true
    },
    "kernelspec": {
      "display_name": "Python 3",
      "language": "python",
      "name": "python3"
    },
    "language_info": {
      "codemirror_mode": {
        "name": "ipython",
        "version": 3
      },
      "file_extension": ".py",
      "mimetype": "text/x-python",
      "name": "python",
      "nbconvert_exporter": "python",
      "pygments_lexer": "ipython3",
      "version": "3.7.2"
    }
  },
  "cells": [
    {
      "cell_type": "markdown",
      "metadata": {
        "id": "view-in-github",
        "colab_type": "text"
      },
      "source": [
        "<a href=\"https://colab.research.google.com/github/castorini/anserini-notebooks-afirm2020/blob/master/afirm2020_intro.ipynb\" target=\"_parent\"><img src=\"https://colab.research.google.com/assets/colab-badge.svg\" alt=\"Open In Colab\"/></a>"
      ]
    },
    {
      "cell_type": "markdown",
      "metadata": {
        "colab_type": "text",
        "id": "_t_PXQgXiABV"
      },
      "source": [
        "# Quick Introduction to Google Colaboratory\n",
        "\n",
        "The Google Colaboratory (commmonly abbreviated as Google Colab) is a development environment that runs in the browser using Google Cloud.\n",
        "\n",
        "The [official notebooks](https://colab.research.google.com/notebooks/) provided by Google Colab are a good place to start learning.\n",
        "\n",
        "## Notebooks\n",
        "\n",
        "A notebook represents the source file in Colab.\n",
        "It is essentially a web application that contains live code, equations, visualizations or text.\n",
        "The Colab kernel officially supports Python and Swift.\n",
        "Kernels can also be installed for other languages such as Scala or R.\n",
        "\n",
        "A Colab notebook constitutes two types of `cells`: `run` and `markdown`.\n",
        "A run cell is an executable unit that expresses the action to be carried out.\n",
        "\n",
        "You may run a cell either by clicking the button on the far left of the cell or with `SHIFT + Enter`.\n",
        "The button on the left also signifies whether a cell is currently running, or if it has finished, its running order.\n",
        "\n",
        "Here is a Python cell that outputs `Hello world!`:"
      ]
    },
    {
      "cell_type": "code",
      "metadata": {
        "colab_type": "code",
        "id": "4hGXtteM1YZf",
        "outputId": "41f7908e-6986-49af-ea2a-c2a4d6f7e9e2",
        "colab": {
          "base_uri": "https://localhost:8080/",
          "height": 34
        }
      },
      "source": [
        "print('Hello world!')"
      ],
      "execution_count": 0,
      "outputs": [
        {
          "output_type": "stream",
          "text": [
            "Hello world!\n"
          ],
          "name": "stdout"
        }
      ]
    },
    {
      "cell_type": "markdown",
      "metadata": {
        "colab_type": "text",
        "id": "mU4j9xukf-ei"
      },
      "source": [
        "**Exercise:**\n",
        "Change `world` in the above line with your name and re-run the cell."
      ]
    },
    {
      "cell_type": "markdown",
      "metadata": {
        "colab_type": "text",
        "id": "uZo5L-B52jNs"
      },
      "source": [
        "### Shell\n",
        "\n",
        "Check out this [interactive tutorial](https://www.learnshell.org/) or consult the cheatsheet in the suggested reading to brush up on shell scripting.\n",
        "\n",
        "Shell scripts/commands can also be executed in a cell.\n",
        "However, unlike Python code, each line has to be prepended with an exclamation mark, `!`, so that the notebook recognizes the Shell command.\n",
        "\n",
        "For example, let's check our working directory:"
      ]
    },
    {
      "cell_type": "code",
      "metadata": {
        "colab_type": "code",
        "id": "6c3jeY5j2p85",
        "outputId": "b033ba4e-7e76-49d8-cb62-f0132fa4d151",
        "colab": {
          "base_uri": "https://localhost:8080/",
          "height": 51
        }
      },
      "source": [
        "!pwd\n",
        "!ls"
      ],
      "execution_count": 0,
      "outputs": [
        {
          "output_type": "stream",
          "text": [
            "/content\n",
            "sample_data\n"
          ],
          "name": "stdout"
        }
      ]
    },
    {
      "cell_type": "markdown",
      "metadata": {
        "colab_type": "text",
        "id": "TDKAXzNbfaN8"
      },
      "source": [
        "As you can see, we are currently in `/content`, which only contains the `sample_data` directory."
      ]
    },
    {
      "cell_type": "markdown",
      "metadata": {
        "colab_type": "text",
        "id": "0P1AxzxxdYnM"
      },
      "source": [
        "**Exercise:**\n",
        "Create a file called `your_name.txt` that contains your name with `echo`.\n",
        "Make sure to change the filename as you need a unique identifier to create a file in the bucket.\n",
        "Confirm the creation of the file in your environment."
      ]
    },
    {
      "cell_type": "code",
      "metadata": {
        "colab_type": "code",
        "id": "vTpua9BcesM4",
        "colab": {}
      },
      "source": [
        "!echo \"Name\" > your_name.txt\n",
        "!ls"
      ],
      "execution_count": 0,
      "outputs": []
    },
    {
      "cell_type": "markdown",
      "metadata": {
        "colab_type": "text",
        "id": "koBQ_o130ZMl"
      },
      "source": [
        "### Magics\n",
        "\n",
        "Notebooks define a set of system commands called `magics`.\n",
        "Line magics are prepended with a single `%` character and only affect the line that they are on.\n",
        "More commonly, cell magics are expressed with `%%` and govern the whole cell that they precede.\n",
        "\n",
        "A cell magic that is going to come up often in the following notebooks is `%%capture`, which suppresses the output of the respective cell.\n",
        "It is especially useful when running a cell with verbose logging, e.g., downloading or extracting files.\n",
        "\n",
        "Some of the other magics include:\n",
        "- `%timeit`: automatically determines the execution time of a single-line Python statement\n",
        "- `%%html`: treats the entire cell as an HTML block\n",
        "- `%%bash`: treats the entire cell as a Bash script\n",
        "\n",
        "For others, check out the [Jupyter documentation](https://nbviewer.jupyter.org/github/ipython/ipython/blob/1.x/examples/notebooks/Cell%20Magics.ipynb)."
      ]
    },
    {
      "cell_type": "markdown",
      "metadata": {
        "colab_type": "text",
        "id": "pCbNxnAihJPr"
      },
      "source": [
        "**Exercise:**\n",
        "Suppress the output of the `Hello World` Python example with `%%capture`."
      ]
    },
    {
      "cell_type": "code",
      "metadata": {
        "colab_type": "code",
        "id": "HWsrW9Z91tvN",
        "colab": {}
      },
      "source": [
        "%%capture\n",
        "\n",
        "print('Hello world!')"
      ],
      "execution_count": 0,
      "outputs": []
    },
    {
      "cell_type": "markdown",
      "metadata": {
        "colab_type": "text",
        "id": "WdL7Vnit1Zv6"
      },
      "source": [
        "### Data\n",
        "\n",
        "Colab keeps a temporary storage space for data and other intermediate files.\n",
        "However, it is also possible to persist external data stored on your local file system, Google Drive or Google Cloud Storage (GCS).\n",
        "To learn more about different storage options, please visit [this webpage](https://colab.research.google.com/notebooks/io.ipynb).\n",
        "\n",
        "We have already created a [bucket](https://cloud.google.com/storage/docs/json_api/v1/buckets) on GCS for the tutorial.\n",
        "Let's check its contents with the `gsutil` commandline tool:"
      ]
    },
    {
      "cell_type": "code",
      "metadata": {
        "colab_type": "code",
        "id": "F8YYACoqylOf",
        "outputId": "b9f27fec-6dd0-4c84-ad34-d9ce96619fd1",
        "colab": {
          "base_uri": "https://localhost:8080/",
          "height": 204
        }
      },
      "source": [
        "!gsutil ls gs://afirm2020"
      ],
      "execution_count": 0,
      "outputs": [
        {
          "output_type": "stream",
          "text": [
            "gs://afirm2020/anserini-0.7.2-SNAPSHOT-fatjar.jar\n",
            "gs://afirm2020/collection.tsv\n",
            "gs://afirm2020/qrels.dev.small.tsv\n",
            "gs://afirm2020/queries.dev.small.tsv\n",
            "gs://afirm2020/queries.eval.small.tsv\n",
            "gs://afirm2020/saved.msmarco_mb_1\n",
            "gs://afirm2020/indexes/\n",
            "gs://afirm2020/msmarco_passage/\n",
            "gs://afirm2020/tfrecord/\n",
            "gs://afirm2020/trec_eval.9.0.4/\n",
            "gs://afirm2020/unique_name/\n"
          ],
          "name": "stdout"
        }
      ]
    },
    {
      "cell_type": "markdown",
      "metadata": {
        "colab_type": "text",
        "id": "ncYYJAU4yi55"
      },
      "source": [
        "`gs://...` means that our bucket, `afirm2020`, is located in the Google filesystem.\n",
        "\n",
        "Colab notebooks are automatically saved in a folder named `Colab Notebooks` in your Google Drive.\n",
        "You may also trigger this action at any time with the keyboard shortcut `CTRL+S`.\n",
        "It is also possible to save a copy of your notebook to a Github repo through the Colab interface: `File -> Save a copy in Github...`\n",
        "\n",
        "**Exercise:**\n",
        "Copy the file `your_name.txt` that you created earlier to the Google bucket."
      ]
    },
    {
      "cell_type": "code",
      "metadata": {
        "colab_type": "code",
        "id": "e6dGIEWHh0_t",
        "outputId": "ffbf27e0-6dde-40c2-ee18-8b6ec8dd7b24",
        "colab": {
          "base_uri": "https://localhost:8080/",
          "height": 68
        }
      },
      "source": [
        "!gsutil cp your_name.txt gs://afirm2020/your_name.txt"
      ],
      "execution_count": 0,
      "outputs": [
        {
          "output_type": "stream",
          "text": [
            "Copying file://name.txt [Content-Type=text/plain]...\n",
            "/ [1 files][    5.0 B/    5.0 B]                                                \n",
            "Operation completed over 1 objects/5.0 B.                                        \n"
          ],
          "name": "stdout"
        }
      ]
    },
    {
      "cell_type": "markdown",
      "metadata": {
        "colab_type": "text",
        "id": "BHrQ4LUWydFQ"
      },
      "source": [
        "### Restarting the Shell\n",
        "\n",
        "Sometimes you may want to revert an unintended side-effect or simply start from scratch.\n",
        "In this case, you may reset the Python shell through: `Runtime -> Restart runtime...`.\n",
        "To reset the Colab image completely, do `Runtime -> Restart all runtimes...`.\n",
        "\n",
        "### Using GPUs\n",
        "\n",
        "Colab gives access to a GPU (or TPU, for more compute-intensive tasks).\n",
        "Unfortunately, it is common for your session to time out after ~12 hours.\n",
        "For this reason, a good practice is to save your checkpoints to GCS so that you can resume your training easily.\n",
        "\n",
        "You may enable the GPU runtime through `Runtime -> Change runtime type -> Hardware accelerator -> GPU`.\n",
        "We will need the TPU runtime for the final activity, and learn how to enable it programmatically."
      ]
    },
    {
      "cell_type": "markdown",
      "metadata": {
        "colab_type": "text",
        "id": "zVMO1KWthSZB"
      },
      "source": [
        "# Text Processing with Python\n",
        "\n",
        "[Python]() is an interpreted, high level programming language:\n",
        "\n",
        "- **Strongly typed:** types are enforced\n",
        "- **Dynamically implicitly typed:** you don't have to explicitly specify the type of a variable (unlike languages like Java or C)\n",
        "- **Case sensitive:** `afirm` and `AFIRM` represent different variables\n",
        "- **Object-oriented:** everything is an object!\n",
        "\n",
        "Now we will go through basic a few basic steps of text processing to introduce Python.\n",
        "As you will see, the Python syntax is quite clean and intuitive, which makes it the ideal choice for data manipulation.\n"
      ]
    },
    {
      "cell_type": "markdown",
      "metadata": {
        "colab_type": "text",
        "id": "z9r8Zwir_RCE"
      },
      "source": [
        "For the purposes of this activity, let's take a sample query and passage pair from the [MS MARCO passage ranking collection](http://www.msmarco.org/):"
      ]
    },
    {
      "cell_type": "code",
      "metadata": {
        "colab_type": "code",
        "id": "puVYdaXy4agr",
        "colab": {}
      },
      "source": [
        "query = 'Why did the US make the atomic bomb?'\n",
        "passage = '''\n",
        "The presence of communication amid scientific minds was equally important \\\n",
        "to the success of the Manhattan Project as scientific intellect was. The \\\n",
        "only cloud hanging over the impressive achievement of the atomic researchers \\\n",
        "and engineers is what their success truly meant; hundreds of thousands of \\\n",
        "innocent lives obliterated.\n",
        "'''"
      ],
      "execution_count": 0,
      "outputs": []
    },
    {
      "cell_type": "markdown",
      "metadata": {
        "colab_type": "text",
        "id": "mjvnVqdv4hC3"
      },
      "source": [
        "Comments start with the pound sign, `#`, and are ignored during interpretation.\n",
        "\n",
        "A string in Python are enclosed in single or double quotes.\n",
        "On the other hand, a multiline string has triplel quotes around it.\n",
        "If it is too long, a multiline string can be dispersed over multiple lines with the `\\` character."
      ]
    },
    {
      "cell_type": "markdown",
      "metadata": {
        "colab_type": "text",
        "id": "O9Z9z68y7JUB"
      },
      "source": [
        "Let's first normalize the case with the built-in Python function `lower()`:"
      ]
    },
    {
      "cell_type": "code",
      "metadata": {
        "colab_type": "code",
        "id": "Xiiy_VeF5UCP",
        "outputId": "b779e173-b45c-4068-964e-956e3f7aab71",
        "colab": {
          "base_uri": "https://localhost:8080/",
          "height": 88
        }
      },
      "source": [
        "query = query.lower()\n",
        "passage = passage.lower()\n",
        "\n",
        "print('{query}: {passage}'.format(query=query, passage=passage))"
      ],
      "execution_count": 0,
      "outputs": [
        {
          "output_type": "stream",
          "text": [
            "why did the us make the atomic bomb?: \n",
            "the presence of communication amid scientific minds was equally important to the success of the manhattan project as scientific intellect was. the only cloud hanging over the impressive achievement of the atomic researchers and engineers is what their success truly meant; hundreds of thousands of innocent lives obliterated.\n",
            "\n"
          ],
          "name": "stdout"
        }
      ]
    },
    {
      "cell_type": "markdown",
      "metadata": {
        "colab_type": "text",
        "id": "HD-V2C_1ixrz"
      },
      "source": [
        "**Exercise:**\n",
        "Note that `query` and `passage` are attached to the variables in the formatted print statement.\n",
        "Try reversing the order of variables inside `format` and see if the output changes."
      ]
    },
    {
      "cell_type": "markdown",
      "metadata": {
        "colab_type": "text",
        "id": "LxH2cSCsBFut"
      },
      "source": [
        "The output of `print` can be formatted as above where curly braces denote the variables inside parantheses.\n",
        "\n",
        "Now, let's split `passage` into individual tokens."
      ]
    },
    {
      "cell_type": "code",
      "metadata": {
        "colab_type": "code",
        "id": "sIZw9g-OCCt5",
        "outputId": "7e7fa7ce-618f-4732-860c-f8788609021b",
        "colab": {
          "base_uri": "https://localhost:8080/",
          "height": 54
        }
      },
      "source": [
        "tokens = passage.split()\n",
        "print(tokens)"
      ],
      "execution_count": 0,
      "outputs": [
        {
          "output_type": "stream",
          "text": [
            "['the', 'presence', 'of', 'communication', 'amid', 'scientific', 'minds', 'was', 'equally', 'important', 'to', 'the', 'success', 'of', 'the', 'manhattan', 'project', 'as', 'scientific', 'intellect', 'was.', 'the', 'only', 'cloud', 'hanging', 'over', 'the', 'impressive', 'achievement', 'of', 'the', 'atomic', 'researchers', 'and', 'engineers', 'is', 'what', 'their', 'success', 'truly', 'meant;', 'hundreds', 'of', 'thousands', 'of', 'innocent', 'lives', 'obliterated.']\n"
          ],
          "name": "stdout"
        }
      ]
    },
    {
      "cell_type": "markdown",
      "metadata": {
        "colab_type": "text",
        "id": "ggwCk2KOj175"
      },
      "source": [
        "**Exercise:**\n",
        "Split query into tokens.\n",
        "Find the tokens shared between the query and the passage."
      ]
    },
    {
      "cell_type": "code",
      "metadata": {
        "colab_type": "code",
        "id": "8wFe-P33kCrz",
        "outputId": "fa380c47-df90-42ea-c226-43452bb8ab53",
        "colab": {
          "base_uri": "https://localhost:8080/",
          "height": 34
        }
      },
      "source": [
        "query_tokens = query.split()\n",
        "set(tokens) & set(query_tokens)"
      ],
      "execution_count": 0,
      "outputs": [
        {
          "output_type": "execute_result",
          "data": {
            "text/plain": [
              "{'atomic', 'the'}"
            ]
          },
          "metadata": {
            "tags": []
          },
          "execution_count": 10
        }
      ]
    },
    {
      "cell_type": "markdown",
      "metadata": {
        "colab_type": "text",
        "id": "8M1pBqEAC2kp"
      },
      "source": [
        "The resulting variable is a Python list.\n",
        "Let's check the number of tokens (equivalent to the length of the list):"
      ]
    },
    {
      "cell_type": "code",
      "metadata": {
        "colab_type": "code",
        "id": "XS67ccJsC-UE",
        "outputId": "596c430c-5cfa-47aa-c81e-fb6606d86349",
        "colab": {
          "base_uri": "https://localhost:8080/",
          "height": 34
        }
      },
      "source": [
        "len(tokens)"
      ],
      "execution_count": 0,
      "outputs": [
        {
          "output_type": "execute_result",
          "data": {
            "text/plain": [
              "48"
            ]
          },
          "metadata": {
            "tags": []
          },
          "execution_count": 11
        }
      ]
    },
    {
      "cell_type": "markdown",
      "metadata": {
        "colab_type": "text",
        "id": "NtUoQCoU5FYE"
      },
      "source": [
        "Indexing in Python starts with 0.\n",
        "Let's search for the 7th (index 6) token of the query in the passage:"
      ]
    },
    {
      "cell_type": "code",
      "metadata": {
        "colab_type": "code",
        "id": "0TUdAaZO5XQj",
        "outputId": "96120902-f3cb-4980-8b50-a27644857cd1",
        "colab": {
          "base_uri": "https://localhost:8080/",
          "height": 34
        }
      },
      "source": [
        "query[6]\n",
        "query[6] in passage"
      ],
      "execution_count": 0,
      "outputs": [
        {
          "output_type": "execute_result",
          "data": {
            "text/plain": [
              "True"
            ]
          },
          "metadata": {
            "tags": []
          },
          "execution_count": 12
        }
      ]
    },
    {
      "cell_type": "markdown",
      "metadata": {
        "colab_type": "text",
        "id": "IZiBsmB-kaUP"
      },
      "source": [
        "**Exercise:**\n",
        "Extract the first 5 tokens of the passage."
      ]
    },
    {
      "cell_type": "code",
      "metadata": {
        "colab_type": "code",
        "id": "QvFhQH8Ikl8b",
        "outputId": "a2af189e-179e-4c39-eecd-c77c7dfd2009",
        "colab": {
          "base_uri": "https://localhost:8080/",
          "height": 34
        }
      },
      "source": [
        "tokens[:5]"
      ],
      "execution_count": 0,
      "outputs": [
        {
          "output_type": "execute_result",
          "data": {
            "text/plain": [
              "['the', 'presence', 'of', 'communication', 'amid']"
            ]
          },
          "metadata": {
            "tags": []
          },
          "execution_count": 13
        }
      ]
    },
    {
      "cell_type": "markdown",
      "metadata": {
        "colab_type": "text",
        "id": "xZcEJXGaCbfq"
      },
      "source": [
        "We can count the frequency of each token with `Counter`.\n",
        "This function is defined in the `collections` module, which we need to import before using `Counter`.\n",
        "Note that the output of `Counter` is a Python dictionary where the key is the token and the value is the number of occurrences."
      ]
    },
    {
      "cell_type": "code",
      "metadata": {
        "colab_type": "code",
        "id": "b1XK1HvRCIo1",
        "outputId": "78e836af-33fa-482b-eb46-677e2a43d5c7",
        "colab": {
          "base_uri": "https://localhost:8080/",
          "height": 646
        }
      },
      "source": [
        "import collections\n",
        "\n",
        "counts = collections.Counter(tokens)\n",
        "counts"
      ],
      "execution_count": 0,
      "outputs": [
        {
          "output_type": "execute_result",
          "data": {
            "text/plain": [
              "Counter({'achievement': 1,\n",
              "         'amid': 1,\n",
              "         'and': 1,\n",
              "         'as': 1,\n",
              "         'atomic': 1,\n",
              "         'cloud': 1,\n",
              "         'communication': 1,\n",
              "         'engineers': 1,\n",
              "         'equally': 1,\n",
              "         'hanging': 1,\n",
              "         'hundreds': 1,\n",
              "         'important': 1,\n",
              "         'impressive': 1,\n",
              "         'innocent': 1,\n",
              "         'intellect': 1,\n",
              "         'is': 1,\n",
              "         'lives': 1,\n",
              "         'manhattan': 1,\n",
              "         'meant;': 1,\n",
              "         'minds': 1,\n",
              "         'obliterated.': 1,\n",
              "         'of': 5,\n",
              "         'only': 1,\n",
              "         'over': 1,\n",
              "         'presence': 1,\n",
              "         'project': 1,\n",
              "         'researchers': 1,\n",
              "         'scientific': 2,\n",
              "         'success': 2,\n",
              "         'the': 6,\n",
              "         'their': 1,\n",
              "         'thousands': 1,\n",
              "         'to': 1,\n",
              "         'truly': 1,\n",
              "         'was': 1,\n",
              "         'was.': 1,\n",
              "         'what': 1})"
            ]
          },
          "metadata": {
            "tags": []
          },
          "execution_count": 14
        }
      ]
    },
    {
      "cell_type": "markdown",
      "metadata": {
        "colab_type": "text",
        "id": "G3mMWlDPe9K8"
      },
      "source": [
        "Note that Python does not have a statement termination character, such as `;`.\n",
        "Instead, blocks are specified by indentation.\n",
        "\n",
        "Let's traverse the dictionary and only output terms that appear more than once:"
      ]
    },
    {
      "cell_type": "code",
      "metadata": {
        "colab_type": "code",
        "id": "PfbmH6cMCWii",
        "outputId": "f989965e-c379-4abe-e9dc-edf8e0856cc4",
        "colab": {
          "base_uri": "https://localhost:8080/",
          "height": 85
        }
      },
      "source": [
        "for (k, v) in counts.items():\n",
        "  if v > 1:\n",
        "    print(k)"
      ],
      "execution_count": 0,
      "outputs": [
        {
          "output_type": "stream",
          "text": [
            "the\n",
            "of\n",
            "scientific\n",
            "success\n"
          ],
          "name": "stdout"
        }
      ]
    },
    {
      "cell_type": "markdown",
      "metadata": {
        "colab_type": "text",
        "id": "pl9kIB_viUPv"
      },
      "source": [
        "**Exercise:**\n",
        "Combine query and passage into a single text, and count its tokens."
      ]
    },
    {
      "cell_type": "markdown",
      "metadata": {
        "id": "tBMI7PD10UzC",
        "colab_type": "text"
      },
      "source": [
        "**Exercise:**\n",
        "Implement [TF-IDF](http://www.tfidf.com/) in Python over the toy collection provided below (corresponding to the first 10 passages of MS MARCO).\n",
        "For the purposes of this exercise, assume that a token is case-insensitive, i.e., normalize the case.\n",
        "\n",
        "```\n",
        "0\tThe presence of communication amid scientific minds was equally important to the success of the Manhattan Project as scientific intellect was. The only cloud hanging over the impressive achievement of the atomic researchers and engineers is what their success truly meant; hundreds of thousands of innocent lives obliterated.\n",
        "1\tThe Manhattan Project and its atomic bomb helped bring an end to World War II. Its legacy of peaceful uses of atomic energy continues to have an impact on history and science.\n",
        "2\tEssay on The Manhattan Project - The Manhattan Project The Manhattan Project was to see if making an atomic bomb possible. The success of this project would forever change the world forever making it known that something this powerful can be manmade.\n",
        "3\tThe Manhattan Project was the name for a project conducted during World War II, to develop the first atomic bomb. It refers specifically to the period of the project from 194 â¦ 2-1946 under the control of the U.S. Army Corps of Engineers, under the administration of General Leslie R. Groves.\n",
        "4\tversions of each volume as well as complementary websites. The first websiteâThe Manhattan Project: An Interactive Historyâis available on the Office of History and Heritage Resources website, http://www.cfo. doe.gov/me70/history. The Office of History and Heritage Resources and the National Nuclear Security\n",
        "5\tThe Manhattan Project. This once classified photograph features the first atomic bomb â a weapon that atomic scientists had nicknamed Gadget.. The nuclear age began on July 16, 1945, when it was detonated in the New Mexico desert.\n",
        "6\tNor will it attempt to substitute for the extraordinarily rich literature on the atomic bombs and the end of World War II. This collection does not attempt to document the origins and development of the Manhattan Project.\n",
        "7\tManhattan Project. The Manhattan Project was a research and development undertaking during World War II that produced the first nuclear weapons. It was led by the United States with the support of the United Kingdom and Canada. From 1942 to 1946, the project was under the direction of Major General Leslie Groves of the U.S. Army Corps of Engineers. Nuclear physicist Robert Oppenheimer was the director of the Los Alamos Laboratory that designed the actual bombs. The Army component of the project was designated the\n",
        "8\tIn June 1942, the United States Army Corps of Engineersbegan the Manhattan Project- The secret name for the 2 atomic bombs.\n",
        "9\tOne of the main reasons Hanford was selected as a site for the Manhattan Project's B Reactor was its proximity to the Columbia River, the largest river flowing into the Pacific Ocean from the North American coast.\n",
        "```\n",
        "\n",
        "Build a dictionary where each key, e.g., a term in the collection, is mapped to pairs of passage IDs and term frequencies.\n",
        "For example:\n",
        "\n",
        "`manhattan -> (0, 1), (1, 1), (2, 3), (3, 1), (4, 1), (5, 1), (6, 1), (7, 2), (8, 1), (9, 1)`"
      ]
    },
    {
      "cell_type": "markdown",
      "metadata": {
        "colab_type": "text",
        "id": "NaC_xUHP_LMI"
      },
      "source": [
        "## Packages\n",
        "\n",
        "Many Python packages come pre-installed in a new Colab notebook.\n",
        "You may install any additional packages that you need through [pip](https://pypi.org/project/pip/), Python's de facto package management system.\n",
        "\n",
        "Let's install `matplotlib` and `numpy` to plot the histogram of tokens in `passage`:"
      ]
    },
    {
      "cell_type": "code",
      "metadata": {
        "colab_type": "code",
        "id": "tBZaOBmxiBcd",
        "outputId": "7f984716-f52e-4af5-cdd5-7c33a5f22c39",
        "colab": {
          "base_uri": "https://localhost:8080/",
          "height": 170
        }
      },
      "source": [
        "!pip install matplotlib\n",
        "!pip install numpy"
      ],
      "execution_count": 0,
      "outputs": [
        {
          "output_type": "stream",
          "text": [
            "Requirement already satisfied: matplotlib in /usr/local/lib/python3.6/dist-packages (3.1.2)\n",
            "Requirement already satisfied: kiwisolver>=1.0.1 in /usr/local/lib/python3.6/dist-packages (from matplotlib) (1.1.0)\n",
            "Requirement already satisfied: python-dateutil>=2.1 in /usr/local/lib/python3.6/dist-packages (from matplotlib) (2.6.1)\n",
            "Requirement already satisfied: pyparsing!=2.0.4,!=2.1.2,!=2.1.6,>=2.0.1 in /usr/local/lib/python3.6/dist-packages (from matplotlib) (2.4.6)\n",
            "Requirement already satisfied: cycler>=0.10 in /usr/local/lib/python3.6/dist-packages (from matplotlib) (0.10.0)\n",
            "Requirement already satisfied: numpy>=1.11 in /usr/local/lib/python3.6/dist-packages (from matplotlib) (1.17.5)\n",
            "Requirement already satisfied: setuptools in /usr/local/lib/python3.6/dist-packages (from kiwisolver>=1.0.1->matplotlib) (42.0.2)\n",
            "Requirement already satisfied: six>=1.5 in /usr/local/lib/python3.6/dist-packages (from python-dateutil>=2.1->matplotlib) (1.12.0)\n",
            "Requirement already satisfied: numpy in /usr/local/lib/python3.6/dist-packages (1.17.5)\n"
          ],
          "name": "stdout"
        }
      ]
    },
    {
      "cell_type": "code",
      "metadata": {
        "colab_type": "code",
        "id": "mJwTr_2_2h93",
        "outputId": "17225cbc-3761-44c8-c59d-91db572df1fa",
        "colab": {
          "base_uri": "https://localhost:8080/",
          "height": 232
        }
      },
      "source": [
        "import matplotlib.pyplot as plt\n",
        "import numpy as np\n",
        "\n",
        "%matplotlib inline\n",
        "x = np.arange(len(counts))\n",
        "y = list(counts.values())\n",
        "\n",
        "plt.bar(x, y, align='center', alpha=0.5)\n",
        "plt.xticks(x, list(counts.keys()), rotation='vertical')\n",
        "plt.ylabel('Term Frequency')\n",
        "plt.show()"
      ],
      "execution_count": 0,
      "outputs": [
        {
          "output_type": "error",
          "ename": "NameError",
          "evalue": "ignored",
          "traceback": [
            "\u001b[0;31m---------------------------------------------------------------------------\u001b[0m",
            "\u001b[0;31mNameError\u001b[0m                                 Traceback (most recent call last)",
            "\u001b[0;32m<ipython-input-2-615519b2eb3d>\u001b[0m in \u001b[0;36m<module>\u001b[0;34m()\u001b[0m\n\u001b[1;32m      3\u001b[0m \u001b[0;34m\u001b[0m\u001b[0m\n\u001b[1;32m      4\u001b[0m \u001b[0mget_ipython\u001b[0m\u001b[0;34m(\u001b[0m\u001b[0;34m)\u001b[0m\u001b[0;34m.\u001b[0m\u001b[0mmagic\u001b[0m\u001b[0;34m(\u001b[0m\u001b[0;34m'matplotlib inline'\u001b[0m\u001b[0;34m)\u001b[0m\u001b[0;34m\u001b[0m\u001b[0;34m\u001b[0m\u001b[0m\n\u001b[0;32m----> 5\u001b[0;31m \u001b[0mx\u001b[0m \u001b[0;34m=\u001b[0m \u001b[0mnp\u001b[0m\u001b[0;34m.\u001b[0m\u001b[0marange\u001b[0m\u001b[0;34m(\u001b[0m\u001b[0mlen\u001b[0m\u001b[0;34m(\u001b[0m\u001b[0mcounts\u001b[0m\u001b[0;34m)\u001b[0m\u001b[0;34m)\u001b[0m\u001b[0;34m\u001b[0m\u001b[0;34m\u001b[0m\u001b[0m\n\u001b[0m\u001b[1;32m      6\u001b[0m \u001b[0my\u001b[0m \u001b[0;34m=\u001b[0m \u001b[0mlist\u001b[0m\u001b[0;34m(\u001b[0m\u001b[0mcounts\u001b[0m\u001b[0;34m.\u001b[0m\u001b[0mvalues\u001b[0m\u001b[0;34m(\u001b[0m\u001b[0;34m)\u001b[0m\u001b[0;34m)\u001b[0m\u001b[0;34m\u001b[0m\u001b[0;34m\u001b[0m\u001b[0m\n\u001b[1;32m      7\u001b[0m \u001b[0;34m\u001b[0m\u001b[0m\n",
            "\u001b[0;31mNameError\u001b[0m: name 'counts' is not defined"
          ]
        }
      ]
    },
    {
      "cell_type": "code",
      "metadata": {
        "id": "YjKWaYFpHNEn",
        "colab_type": "code",
        "colab": {}
      },
      "source": [
        ""
      ],
      "execution_count": 0,
      "outputs": []
    }
  ]
}