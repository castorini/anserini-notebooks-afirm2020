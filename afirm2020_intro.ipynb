{
  "cells": [
    {
      "cell_type": "markdown",
      "metadata": {
        "id": "view-in-github",
        "colab_type": "text"
      },
      "source": [
        "<a href=\"https://colab.research.google.com/github/castorini/anserini-notebooks-afirm2020/blob/master/afirm2020_intro.ipynb\" target=\"_parent\"><img src=\"https://colab.research.google.com/assets/colab-badge.svg\" alt=\"Open In Colab\"/></a>"
      ]
    },
    {
      "cell_type": "markdown",
      "metadata": {
        "colab_type": "text",
        "id": "_t_PXQgXiABV"
      },
      "source": [
        "# Quick Introduction to Google Colaboratory\n",
        "\n",
        "The Google Colaboratory (commmonly abbreviated as Google Colab) is a development environment that runs in the browser using Google Cloud.\n",
        "\n",
        "The [official notebooks](https://colab.research.google.com/notebooks/) provided by Google Colab are a good place to start learning about the functionalities.\n",
        "\n",
        "## Notebooks\n",
        "\n",
        "A notebook represents the source file in Colab.\n",
        "It is essentially a web application that contains live code, equations, visualizations or text.\n",
        "The Colab kernel officially supports Python and Swift.\n",
        "Kernels can also be installed for other languages such as Scala or R.\n",
        "\n",
        "A Colab notebook constitutes two types of `cells`: `run` and `markdown`.\n",
        "A run cell is an executable unit that expresses the action to be carried out.\n",
        "\n",
        "You may run a cell either by clicking the button on the far left of the cell or with `SHIFT + Enter`.\n",
        "The button on the left also signifies whether a cell is currently running, or if it has finished, its running order.\n",
        "\n",
        "Here is a Python cell that outputs `Hello world!`:"
      ]
    },
    {
      "cell_type": "code",
      "metadata": {
        "colab_type": "code",
        "id": "4hGXtteM1YZf",
        "colab": {}
      },
      "source": [
        "print('Hello world!')"
      ],
      "execution_count": 0,
      "outputs": []
    },
    {
      "cell_type": "markdown",
      "metadata": {
        "colab_type": "text",
        "id": "mU4j9xukf-ei"
      },
      "source": [
        "**Exercise #1:**\n",
        "Change `world` in the above line with your name and re-run the cell."
      ]
    },
    {
      "cell_type": "code",
      "metadata": {
        "id": "GrzLSt5Gb36R",
        "colab_type": "code",
        "colab": {}
      },
      "source": [
        ""
      ],
      "execution_count": 0,
      "outputs": []
    },
    {
      "cell_type": "markdown",
      "metadata": {
        "colab_type": "text",
        "id": "uZo5L-B52jNs"
      },
      "source": [
        "### Shell\n",
        "\n",
        "Check out this [interactive tutorial](https://www.learnshell.org/) to brush up on shell scripting.\n",
        "\n",
        "Shell scripts/commands can also be executed in a cell.\n",
        "However, unlike Python code, each line has to be prepended with an exclamation mark, `!`, so that the notebook recognizes the Shell command.\n",
        "\n",
        "For example, let's check our working directory:"
      ]
    },
    {
      "cell_type": "code",
      "metadata": {
        "colab_type": "code",
        "id": "6c3jeY5j2p85",
        "colab": {}
      },
      "source": [
        "!pwd\n",
        "!ls"
      ],
      "execution_count": 0,
      "outputs": []
    },
    {
      "cell_type": "markdown",
      "metadata": {
        "colab_type": "text",
        "id": "TDKAXzNbfaN8"
      },
      "source": [
        "As you can see, we are currently in `/content`, which only contains the `sample_data` directory.\n",
        "To confirm this in the user interface, click on the bottom file icon in the leftmost panel of your browser, and look at the current status of your filesystem."
      ]
    },
    {
      "cell_type": "markdown",
      "metadata": {
        "colab_type": "text",
        "id": "0P1AxzxxdYnM"
      },
      "source": [
        "**Exercise #2:**\n",
        "Create a file called `your_name.txt` that contains your name with `echo`.\n",
        "Make sure to change the filename as you need a unique identifier to create a file in the bucket.\n",
        "Confirm the creation of the file in your environment."
      ]
    },
    {
      "cell_type": "code",
      "metadata": {
        "colab_type": "code",
        "id": "vTpua9BcesM4",
        "colab": {}
      },
      "source": [
        ""
      ],
      "execution_count": 0,
      "outputs": []
    },
    {
      "cell_type": "markdown",
      "metadata": {
        "colab_type": "text",
        "id": "koBQ_o130ZMl"
      },
      "source": [
        "### Magics\n",
        "\n",
        "Notebooks define a set of system commands called `magics`.\n",
        "Line magics are prepended with a single `%` character and only affect the line that they are on.\n",
        "More commonly, cell magics are expressed with `%%` and govern the whole cell that they precede.\n",
        "\n",
        "A cell magic that is used often in the following notebooks is `%%capture`, which suppresses the output of the respective cell.\n",
        "It is especially useful when running a cell with verbose logging, e.g., downloading or processing many files.\n",
        "\n",
        "Some of the other magics include:\n",
        "- `%timeit`: automatically determines the execution time of a single-line Python statement\n",
        "- `%%html`: treats the entire cell as an HTML block\n",
        "- `%%bash`: treats the entire cell as a Bash script\n",
        "\n",
        "For others, check out the [Jupyter documentation](https://nbviewer.jupyter.org/github/ipython/ipython/blob/1.x/examples/notebooks/Cell%20Magics.ipynb)."
      ]
    },
    {
      "cell_type": "markdown",
      "metadata": {
        "colab_type": "text",
        "id": "pCbNxnAihJPr"
      },
      "source": [
        "**Exercise #3:**\n",
        "Suppress the output of the `Hello World` Python example with `%%capture`."
      ]
    },
    {
      "cell_type": "code",
      "metadata": {
        "colab_type": "code",
        "id": "HWsrW9Z91tvN",
        "colab": {}
      },
      "source": [
        ""
      ],
      "execution_count": 0,
      "outputs": []
    },
    {
      "cell_type": "markdown",
      "metadata": {
        "colab_type": "text",
        "id": "WdL7Vnit1Zv6"
      },
      "source": [
        "### Data\n",
        "\n",
        "Colab keeps a temporary storage space for data and other intermediate files.\n",
        "However, it is also possible to persist external data stored on your local file system, Google Drive or Google Cloud Storage (GCS).\n",
        "To learn more about different storage options, please visit [this webpage](https://colab.research.google.com/notebooks/io.ipynb).\n",
        "\n",
        "We have already created a [bucket](https://cloud.google.com/storage/docs/json_api/v1/buckets) on GCS for the tutorial.\n",
        "Let's check its contents with the `gsutil` commandline tool:"
      ]
    },
    {
      "cell_type": "code",
      "metadata": {
        "colab_type": "code",
        "id": "F8YYACoqylOf",
        "colab": {}
      },
      "source": [
        "!gsutil ls gs://sigir2020"
      ],
      "execution_count": 0,
      "outputs": []
    },
    {
      "cell_type": "markdown",
      "metadata": {
        "colab_type": "text",
        "id": "ncYYJAU4yi55"
      },
      "source": [
        "`gs://...` means that our bucket, `sigir2020`, is located in the Google filesystem.\n",
        "\n",
        "Colab notebooks are automatically saved in a folder named `Colab Notebooks` in your Google Drive.\n",
        "You may also trigger this action at any time with the keyboard shortcut `CTRL+S`.\n",
        "It is also possible to save a copy of your notebook to a Github repo through the Colab interface: `File -> Save a copy in Github...`\n",
        "\n",
        "**Exercise #4:**\n",
        "Copy the file `your_name.txt` that you created earlier to the Google bucket."
      ]
    },
    {
      "cell_type": "code",
      "metadata": {
        "colab_type": "code",
        "id": "e6dGIEWHh0_t",
        "colab": {}
      },
      "source": [
        ""
      ],
      "execution_count": 0,
      "outputs": []
    },
    {
      "cell_type": "markdown",
      "metadata": {
        "colab_type": "text",
        "id": "BHrQ4LUWydFQ"
      },
      "source": [
        "### Restarting the Shell\n",
        "\n",
        "Sometimes you may want to revert an unintended side-effect or simply start from scratch.\n",
        "In this case, you may reset the Python shell through: `Runtime -> Restart runtime...`.\n",
        "To reset the Colab image completely, do `Runtime -> Restart all runtimes...`.\n",
        "\n",
        "### Using GPUs\n",
        "\n",
        "Colab gives access to a GPU (or TPU, for more compute-intensive tasks).\n",
        "Unfortunately, it is common for your session to time out after ~12 hours.\n",
        "For this reason, a good practice is to save your checkpoints to GCS so that you can resume your training easily.\n",
        "\n",
        "You may enable the GPU runtime through `Runtime -> Change runtime type -> Hardware accelerator -> GPU`.\n",
        "We will need the TPU runtime for the final activity, and learn how to enable it programmatically."
      ]
    },
    {
      "cell_type": "markdown",
      "metadata": {
        "colab_type": "text",
        "id": "zVMO1KWthSZB"
      },
      "source": [
        "# Text Processing with Python\n",
        "\n",
        "[Python]() is an interpreted, high level programming language:\n",
        "\n",
        "- **Strongly typed:** types are enforced\n",
        "- **Dynamically implicitly typed:** you don't have to explicitly specify the type of a variable (unlike languages like Java or C)\n",
        "- **Case sensitive:** `afirm` and `AFIRM` represent different variables\n",
        "- **Object-oriented:** everything is an object!\n",
        "\n",
        "Now we will go through basic a few basic steps of text processing to introduce Python, and finish this notebook with a TF-IDF exercise.\n",
        "As you will see, the Python syntax is quite clean and intuitive, which makes it the ideal choice for data manipulation.\n"
      ]
    },
    {
      "cell_type": "markdown",
      "metadata": {
        "colab_type": "text",
        "id": "z9r8Zwir_RCE"
      },
      "source": [
        "For the purposes of this activity, let's take a sample query and passage pair from the [MS MARCO passage ranking collection](https://microsoft.github.io/msmarco/):"
      ]
    },
    {
      "cell_type": "code",
      "metadata": {
        "colab_type": "code",
        "id": "puVYdaXy4agr",
        "colab": {}
      },
      "source": [
        "query = 'Why did the US make the atomic bomb?'\n",
        "passage = '''\n",
        "The presence of communication amid scientific minds was equally important \\\n",
        "to the success of the Manhattan Project as scientific intellect was. The \\\n",
        "only cloud hanging over the impressive achievement of the atomic researchers \\\n",
        "and engineers is what their success truly meant; hundreds of thousands of \\\n",
        "innocent lives obliterated.\n",
        "'''"
      ],
      "execution_count": 0,
      "outputs": []
    },
    {
      "cell_type": "markdown",
      "metadata": {
        "colab_type": "text",
        "id": "mjvnVqdv4hC3"
      },
      "source": [
        "Comments start with the hash sign, `#`, and are ignored during interpretation.\n",
        "\n",
        "A string in Python are enclosed in single or double quotes.\n",
        "On the other hand, a multiline string has triple quotes around it.\n",
        "If it is too long, a multiline string can be dispersed over multiple lines with the `\\` character."
      ]
    },
    {
      "cell_type": "markdown",
      "metadata": {
        "colab_type": "text",
        "id": "O9Z9z68y7JUB"
      },
      "source": [
        "Let's first normalize the case with the built-in Python function `lower()`:"
      ]
    },
    {
      "cell_type": "code",
      "metadata": {
        "colab_type": "code",
        "id": "Xiiy_VeF5UCP",
        "colab": {}
      },
      "source": [
        "query = query.lower()\n",
        "passage = passage.lower()\n",
        "\n",
        "print('{q}: {p}'.format(q=query, p=passage))"
      ],
      "execution_count": 0,
      "outputs": []
    },
    {
      "cell_type": "markdown",
      "metadata": {
        "colab_type": "text",
        "id": "HD-V2C_1ixrz"
      },
      "source": [
        "**Exercise #5:**\n",
        "Note that `query` and `passage` are attached to the variables in the formatted print statement.\n",
        "Try reversing the order of variables inside `format` and see if the output changes."
      ]
    },
    {
      "cell_type": "code",
      "metadata": {
        "id": "hnfvZtlqb-Fs",
        "colab_type": "code",
        "colab": {}
      },
      "source": [
        ""
      ],
      "execution_count": 0,
      "outputs": []
    },
    {
      "cell_type": "markdown",
      "metadata": {
        "colab_type": "text",
        "id": "LxH2cSCsBFut"
      },
      "source": [
        "The output of `print` can be formatted as above where curly braces denote the variables inside parantheses.\n",
        "\n",
        "Now, let's split `passage` into individual tokens."
      ]
    },
    {
      "cell_type": "code",
      "metadata": {
        "colab_type": "code",
        "id": "sIZw9g-OCCt5",
        "colab": {}
      },
      "source": [
        "tokens = passage.split()\n",
        "print(tokens)"
      ],
      "execution_count": 0,
      "outputs": []
    },
    {
      "cell_type": "markdown",
      "metadata": {
        "colab_type": "text",
        "id": "ggwCk2KOj175"
      },
      "source": [
        "**Exercise #6:**\n",
        "Split query into tokens.\n",
        "Find the tokens shared between the query and the passage."
      ]
    },
    {
      "cell_type": "code",
      "metadata": {
        "colab_type": "code",
        "id": "8wFe-P33kCrz",
        "colab": {}
      },
      "source": [
        ""
      ],
      "execution_count": 0,
      "outputs": []
    },
    {
      "cell_type": "markdown",
      "metadata": {
        "colab_type": "text",
        "id": "8M1pBqEAC2kp"
      },
      "source": [
        "The resulting variable is a Python list.\n",
        "Let's check the number of tokens (equivalent to the length of the list):"
      ]
    },
    {
      "cell_type": "code",
      "metadata": {
        "colab_type": "code",
        "id": "XS67ccJsC-UE",
        "colab": {}
      },
      "source": [
        "len(tokens)"
      ],
      "execution_count": 0,
      "outputs": []
    },
    {
      "cell_type": "markdown",
      "metadata": {
        "colab_type": "text",
        "id": "NtUoQCoU5FYE"
      },
      "source": [
        "Indexing in Python starts with 0.\n",
        "Let's search for the 7th (index 6) token of the query in the passage:"
      ]
    },
    {
      "cell_type": "code",
      "metadata": {
        "colab_type": "code",
        "id": "0TUdAaZO5XQj",
        "colab": {}
      },
      "source": [
        "query[6]\n",
        "query[6] in passage"
      ],
      "execution_count": 0,
      "outputs": []
    },
    {
      "cell_type": "markdown",
      "metadata": {
        "colab_type": "text",
        "id": "IZiBsmB-kaUP"
      },
      "source": [
        "**Exercise #7:**\n",
        "Extract the first 5 tokens of the passage."
      ]
    },
    {
      "cell_type": "code",
      "metadata": {
        "colab_type": "code",
        "id": "QvFhQH8Ikl8b",
        "colab": {}
      },
      "source": [
        ""
      ],
      "execution_count": 0,
      "outputs": []
    },
    {
      "cell_type": "markdown",
      "metadata": {
        "colab_type": "text",
        "id": "xZcEJXGaCbfq"
      },
      "source": [
        "We can count the frequency of each token with `Counter`.\n",
        "This function is defined in the `collections` module, which we need to import before using `Counter`.\n",
        "Note that the output of `Counter` is a Python dictionary where the key is the token and the value is the number of occurrences."
      ]
    },
    {
      "cell_type": "code",
      "metadata": {
        "colab_type": "code",
        "id": "b1XK1HvRCIo1",
        "colab": {}
      },
      "source": [
        "import collections\n",
        "\n",
        "counts = collections.Counter(tokens)\n",
        "counts"
      ],
      "execution_count": 0,
      "outputs": []
    },
    {
      "cell_type": "markdown",
      "metadata": {
        "colab_type": "text",
        "id": "G3mMWlDPe9K8"
      },
      "source": [
        "Note that Python does not have a statement termination character, such as `;`.\n",
        "Instead, blocks are specified by indentation.\n",
        "\n",
        "Let's traverse the dictionary and only output terms that appear more than once:"
      ]
    },
    {
      "cell_type": "code",
      "metadata": {
        "colab_type": "code",
        "id": "PfbmH6cMCWii",
        "colab": {}
      },
      "source": [
        "for (k, v) in counts.items():\n",
        "  if v > 1:\n",
        "    print(k)"
      ],
      "execution_count": 0,
      "outputs": []
    },
    {
      "cell_type": "markdown",
      "metadata": {
        "colab_type": "text",
        "id": "pl9kIB_viUPv"
      },
      "source": [
        "**Exercise #8:**\n",
        "Combine query and passage into a single text, and count its tokens."
      ]
    },
    {
      "cell_type": "code",
      "metadata": {
        "id": "8cn71blRcERR",
        "colab_type": "code",
        "colab": {}
      },
      "source": [
        ""
      ],
      "execution_count": 0,
      "outputs": []
    },
    {
      "cell_type": "markdown",
      "metadata": {
        "id": "tBMI7PD10UzC",
        "colab_type": "text"
      },
      "source": [
        "**Exercise #9:**\n",
        "Implement [TF-IDF](http://www.tfidf.com/) in Python over the toy collection provided below (corresponding to the first 10 passages of MS MARCO).\n",
        "In other words, we will compute the TF-IDF scores for each unique term in the collection.\n",
        "For the purposes of this exercise, assume that a token is case-insensitive, i.e., normalize the case, and remove the stopwords (hint: you can use NLTK's `nltk.corpus.stopwords`).\n",
        "\n",
        "```\n",
        "0\tThe presence of communication amid scientific minds was equally important to the success of the Manhattan Project as scientific intellect was. The only cloud hanging over the impressive achievement of the atomic researchers and engineers is what their success truly meant; hundreds of thousands of innocent lives obliterated.\n",
        "1\tThe Manhattan Project and its atomic bomb helped bring an end to World War II. Its legacy of peaceful uses of atomic energy continues to have an impact on history and science.\n",
        "2\tEssay on The Manhattan Project - The Manhattan Project The Manhattan Project was to see if making an atomic bomb possible. The success of this project would forever change the world forever making it known that something this powerful can be manmade.\n",
        "3\tThe Manhattan Project was the name for a project conducted during World War II, to develop the first atomic bomb. It refers specifically to the period of the project from 194 â¦ 2-1946 under the control of the U.S. Army Corps of Engineers, under the administration of General Leslie R. Groves.\n",
        "4\tversions of each volume as well as complementary websites. The first websiteâThe Manhattan Project: An Interactive Historyâis available on the Office of History and Heritage Resources website, http://www.cfo. doe.gov/me70/history. The Office of History and Heritage Resources and the National Nuclear Security\n",
        "5\tThe Manhattan Project. This once classified photograph features the first atomic bomb â a weapon that atomic scientists had nicknamed Gadget.. The nuclear age began on July 16, 1945, when it was detonated in the New Mexico desert.\n",
        "6\tNor will it attempt to substitute for the extraordinarily rich literature on the atomic bombs and the end of World War II. This collection does not attempt to document the origins and development of the Manhattan Project.\n",
        "7\tManhattan Project. The Manhattan Project was a research and development undertaking during World War II that produced the first nuclear weapons. It was led by the United States with the support of the United Kingdom and Canada. From 1942 to 1946, the project was under the direction of Major General Leslie Groves of the U.S. Army Corps of Engineers. Nuclear physicist Robert Oppenheimer was the director of the Los Alamos Laboratory that designed the actual bombs. The Army component of the project was designated the\n",
        "8\tIn June 1942, the United States Army Corps of Engineersbegan the Manhattan Project- The secret name for the 2 atomic bombs.\n",
        "9\tOne of the main reasons Hanford was selected as a site for the Manhattan Project's B Reactor was its proximity to the Columbia River, the largest river flowing into the Pacific Ocean from the North American coast.\n",
        "```\n",
        "\n",
        "You may start by building a dictionary where each key, e.g., a term in the collection, is mapped to pairs of passage IDs and term frequencies.\n",
        "The keys in the dictionary will be the unique terms in the collection, and values lists of tuples; for example:\n",
        "\n",
        "`manhattan -> (0, 1), (1, 1), (2, 3), (3, 1), (4, 1), (5, 1), (6, 1), (7, 2), (8, 1), (9, 1)`"
      ]
    },
    {
      "cell_type": "code",
      "metadata": {
        "id": "Ek8TxEmqcFLF",
        "colab_type": "code",
        "colab": {}
      },
      "source": [
        "doc0 = 'The presence of communication amid scientific minds was equally important to the success of the Manhattan Project as scientific intellect was. The only cloud hanging over the impressive achievement of the atomic researchers and engineers is what their success truly meant; hundreds of thousands of innocent lives obliterated.'\n",
        "doc1 = 'The Manhattan Project and its atomic bomb helped bring an end to World War II. Its legacy of peaceful uses of atomic energy continues to have an impact on history and science.'\n",
        "doc2 = 'Essay on The Manhattan Project - The Manhattan Project The Manhattan Project was to see if making an atomic bomb possible. The success of this project would forever change the world forever making it known that something this powerful can be manmade.'\n",
        "doc3 = 'The Manhattan Project was the name for a project conducted during World War II, to develop the first atomic bomb. It refers specifically to the period of the project from 194 â¦ 2-1946 under the control of the U.S. Army Corps of Engineers, under the administration of General Leslie R. Groves.'\n",
        "doc4 = 'versions of each volume as well as complementary websites. The first websiteâThe Manhattan Project: An Interactive Historyâis available on the Office of History and Heritage Resources website, http://www.cfo. doe.gov/me70/history. The Office of History and Heritage Resources and the National Nuclear Security'\n",
        "doc5 = 'The Manhattan Project. This once classified photograph features the first atomic bomb â a weapon that atomic scientists had nicknamed Gadget.. The nuclear age began on July 16, 1945, when it was detonated in the New Mexico desert.'\n",
        "doc6 = 'Nor will it attempt to substitute for the extraordinarily rich literature on the atomic bombs and the end of World War II. This collection does not attempt to document the origins and development of the Manhattan Project.'\n",
        "doc7 = 'Manhattan Project. The Manhattan Project was a research and development undertaking during World War II that produced the first nuclear weapons. It was led by the United States with the support of the United Kingdom and Canada. From 1942 to 1946, the project was under the direction of Major General Leslie Groves of the U.S. Army Corps of Engineers. Nuclear physicist Robert Oppenheimer was the director of the Los Alamos Laboratory that designed the actual bombs. The Army component of the project was designated the'\n",
        "doc8 = 'In June 1942, the United States Army Corps of Engineersbegan the Manhattan Project- The secret name for the 2 atomic bombs.'\n",
        "doc9 = 'One of the main reasons Hanford was selected as a site for the Manhattan Project\\'s B Reactor was its proximity to the Columbia River, the largest river flowing into the Pacific Ocean from the North American coast.'"
      ],
      "execution_count": 0,
      "outputs": []
    },
    {
      "cell_type": "code",
      "metadata": {
        "id": "2jRB3dhwdfdn",
        "colab_type": "code",
        "colab": {}
      },
      "source": [
        ""
      ],
      "execution_count": 0,
      "outputs": []
    },
    {
      "cell_type": "markdown",
      "metadata": {
        "id": "83aR6YESenB9",
        "colab_type": "text"
      },
      "source": [
        "Finally transform term frequencies into TF-IDF scores.\n",
        "Now that you have the term frequency for each passage, you can compute the total term frequency for each token in the entire collection.\n",
        "Likewise, you can calculate the document frequency from the previous step."
      ]
    },
    {
      "cell_type": "code",
      "metadata": {
        "id": "DRxlCXrOhjln",
        "colab_type": "code",
        "colab": {}
      },
      "source": [
        ""
      ],
      "execution_count": 0,
      "outputs": []
    },
    {
      "cell_type": "markdown",
      "metadata": {
        "colab_type": "text",
        "id": "NaC_xUHP_LMI"
      },
      "source": [
        "## Packages\n",
        "\n",
        "Many Python packages come pre-installed in a new Colab notebook.\n",
        "You may install any additional packages that you need through [pip](https://pypi.org/project/pip/), Python's de facto package management system.\n",
        "\n",
        "Let's install `matplotlib` and `numpy` to plot the histogram of tokens in `passage`:"
      ]
    },
    {
      "cell_type": "code",
      "metadata": {
        "colab_type": "code",
        "id": "tBZaOBmxiBcd",
        "colab": {}
      },
      "source": [
        "!pip install matplotlib\n",
        "!pip install numpy"
      ],
      "execution_count": 0,
      "outputs": []
    },
    {
      "cell_type": "code",
      "metadata": {
        "colab_type": "code",
        "id": "mJwTr_2_2h93",
        "colab": {}
      },
      "source": [
        "import matplotlib.pyplot as plt\n",
        "import numpy as np\n",
        "\n",
        "%matplotlib inline\n",
        "x = np.arange(len(counts))\n",
        "y = list(counts.values())\n",
        "\n",
        "plt.bar(x, y, align='center', alpha=0.5)\n",
        "plt.xticks(x, list(counts.keys()), rotation='vertical')\n",
        "plt.ylabel('Term Frequency')\n",
        "plt.show()"
      ],
      "execution_count": 0,
      "outputs": []
    },
    {
      "cell_type": "markdown",
      "metadata": {
        "id": "kybDd4HiiDO7",
        "colab_type": "text"
      },
      "source": [
        "**Exercise #10:** Create a bar graph for the TF-IDF values that you computed earlier for the toy collection."
      ]
    },
    {
      "cell_type": "code",
      "metadata": {
        "id": "otg0XeD1MPHC",
        "colab_type": "code",
        "colab": {}
      },
      "source": [
        ""
      ],
      "execution_count": 0,
      "outputs": []
    }
  ],
  "metadata": {
    "colab": {
      "name": "afirm2020_intro.ipynb",
      "provenance": [],
      "collapsed_sections": [],
      "include_colab_link": true
    },
    "kernelspec": {
      "display_name": "Python 3",
      "language": "python",
      "name": "python3"
    },
    "language_info": {
      "codemirror_mode": {
        "name": "ipython",
        "version": 3
      },
      "file_extension": ".py",
      "mimetype": "text/x-python",
      "name": "python",
      "nbconvert_exporter": "python",
      "pygments_lexer": "ipython3",
      "version": "3.7.2"
    }
  },
  "nbformat": 4,
  "nbformat_minor": 0
}