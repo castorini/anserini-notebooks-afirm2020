{
 "cells": [
  {
   "cell_type": "markdown",
   "metadata": {
    "colab_type": "text",
    "id": "_t_PXQgXiABV"
   },
   "source": [
    "# Quick Introduction to Google Colaboratory\n",
    "\n",
    "The Google Colaboratory (commmonly abbreviated as Google Colab) is a development environment that runs in the browser using Google Cloud.\n",
    "\n",
    "The [official notebooks](https://colab.research.google.com/notebooks/) provided by Google Colab are a good place to start learning.\n",
    "\n",
    "## Notebooks\n",
    "\n",
    "A notebook represents the source file in Colab.\n",
    "A notebook is a web application that contains live code, equations, visualizations or text.\n",
    "The Colab kernel currently supports Python2/3 and Swift.\n",
    "Kernels can also be installed for other languages such as Scala or R.\n",
    "\n",
    "A Colab notebook constitutes two types of `cells`: `run` and `markdown`.\n",
    "A run cell is an executable unit that expresses the action to be carried out.\n",
    "\n",
    "You may run a cell either by clicking the button on the far left of the cell or with `SHIFT + Enter`.\n",
    "The button on the left also signifies whether a cell is currently running, or if it has finished, its running order.\n",
    "\n",
    "Here is a Python cell that outputs `Hello world!`:"
   ]
  },
  {
   "cell_type": "code",
   "execution_count": null,
   "metadata": {
    "colab": {
     "base_uri": "https://localhost:8080/",
     "height": 34
    },
    "colab_type": "code",
    "id": "4hGXtteM1YZf",
    "outputId": "fb3d91af-855e-46c6-f488-ac72fcbddd63"
   },
   "outputs": [],
   "source": [
    "print('Hello world!')"
   ]
  },
  {
   "cell_type": "markdown",
   "metadata": {
    "colab_type": "text",
    "id": "mU4j9xukf-ei"
   },
   "source": [
    "**Exercise:**\n",
    "Change `world` in the above line with your name and re-run the cell."
   ]
  },
  {
   "cell_type": "markdown",
   "metadata": {
    "colab_type": "text",
    "id": "uZo5L-B52jNs"
   },
   "source": [
    "### Shell\n",
    "\n",
    "Shell scripts/commands can also be executed in a cell.\n",
    "Here are some resources to brush up on shell scripting:\n",
    "\n",
    "- [Interactive tutorial](https://www.learnshell.org/)\n",
    "- ...\n",
    "\n",
    "However, unlike Python code, each line has to be prepended with an exclamation mark, `!`, so that the notebook recognizes the Shell command.\n",
    "\n",
    "For example, let's check our working directory:"
   ]
  },
  {
   "cell_type": "code",
   "execution_count": null,
   "metadata": {
    "colab": {
     "base_uri": "https://localhost:8080/",
     "height": 51
    },
    "colab_type": "code",
    "id": "6c3jeY5j2p85",
    "outputId": "aef024a3-347d-4b30-bef9-5e2af7548e32"
   },
   "outputs": [],
   "source": [
    "!pwd\n",
    "!ls"
   ]
  },
  {
   "cell_type": "markdown",
   "metadata": {
    "colab_type": "text",
    "id": "TDKAXzNbfaN8"
   },
   "source": [
    "As you can see, we are currently in `/content`, which only contains the `sample_data` directory."
   ]
  },
  {
   "cell_type": "markdown",
   "metadata": {
    "colab_type": "text",
    "id": "0P1AxzxxdYnM"
   },
   "source": [
    "**Exercise:**\n",
    "Create a file called `name.txt` that contains your name with `echo`."
   ]
  },
  {
   "cell_type": "code",
   "execution_count": null,
   "metadata": {
    "colab": {},
    "colab_type": "code",
    "id": "vTpua9BcesM4"
   },
   "outputs": [],
   "source": [
    "!echo \"Name\" > name.txt"
   ]
  },
  {
   "cell_type": "markdown",
   "metadata": {
    "colab_type": "text",
    "id": "koBQ_o130ZMl"
   },
   "source": [
    "### Magics\n",
    "\n",
    "Notebooks define a set of system commands called `magics`.\n",
    "Line magics are prepended with a single `%` character and only affect the line that they are on.\n",
    "More commonly, cell magics are expressed with `%%` and govern the whole cell that they precede.\n",
    "\n",
    "A cell magic that is going to come up often in the following notebooks is `%%capture`, which suppresses the output of the respective cell.\n",
    "It is especially useful when running a cell with verbose logging, e.g., downloading or extracting files.\n",
    "\n",
    "Some of the other magics include:\n",
    "- `%timeit`: automatically determines the execution time of a single-line Python statement\n",
    "- `%%html`: treats the entire cell as an HTML block\n",
    "- `%%bash`: treats the entire cell as a Bash script\n",
    "\n",
    "For others, check out the [Jupyter documentation](https://nbviewer.jupyter.org/github/ipython/ipython/blob/1.x/examples/notebooks/Cell%20Magics.ipynb)."
   ]
  },
  {
   "cell_type": "markdown",
   "metadata": {
    "colab_type": "text",
    "id": "pCbNxnAihJPr"
   },
   "source": [
    "**Exercise:**\n",
    "Suppress the output of the `Hello World` Python example with `%%capture`."
   ]
  },
  {
   "cell_type": "code",
   "execution_count": null,
   "metadata": {
    "colab": {},
    "colab_type": "code",
    "id": "HWsrW9Z91tvN"
   },
   "outputs": [],
   "source": [
    "%%capture\n",
    "\n",
    "print('Hello world!')"
   ]
  },
  {
   "cell_type": "markdown",
   "metadata": {
    "colab_type": "text",
    "id": "WdL7Vnit1Zv6"
   },
   "source": [
    "### Data\n",
    "\n",
    "Colab keeps a temporary storage space for data and other intermediate files.\n",
    "However, it is also possible to persist external data stored on your local file system, Google Drive or Google Cloud Storage (GCS).\n",
    "To learn more about different storage options, please visit [this webpage](https://colab.research.google.com/notebooks/io.ipynb).\n",
    "\n",
    "We have already created a [bucket](https://cloud.google.com/storage/docs/json_api/v1/buckets) on GCS for the tutorial.\n",
    "Let's check its contents with the `gsutil` commandline tool:"
   ]
  },
  {
   "cell_type": "code",
   "execution_count": null,
   "metadata": {
    "colab": {
     "base_uri": "https://localhost:8080/",
     "height": 102
    },
    "colab_type": "code",
    "id": "F8YYACoqylOf",
    "outputId": "7c9a1eb2-dda8-441f-d1d7-2aaa122bf914"
   },
   "outputs": [],
   "source": [
    "!gsutil ls gs://afirm2020"
   ]
  },
  {
   "cell_type": "markdown",
   "metadata": {
    "colab_type": "text",
    "id": "ncYYJAU4yi55"
   },
   "source": [
    "`gs://...` means that our bucket, `afirm2020`, is located in the Google filesystem.\n",
    "\n",
    "Colab notebooks are automatically saved in a folder named `Colab Notebooks` in your Google Drive.\n",
    "You may also trigger this action at any time with the keyboard shortcut `CTRL+S`.\n",
    "It is also possible to save a copy of your notebook to a Github repo through the Colab interface: `File -> Save a copy in Github...`\n",
    "\n",
    "**Exercise:**\n",
    "Copy the file `name.txt` that you created earlier to the Google bucket."
   ]
  },
  {
   "cell_type": "code",
   "execution_count": null,
   "metadata": {
    "colab": {},
    "colab_type": "code",
    "id": "e6dGIEWHh0_t"
   },
   "outputs": [],
   "source": [
    "!gsutil cp name.txt gs://afirm2020/name.txt"
   ]
  },
  {
   "cell_type": "markdown",
   "metadata": {
    "colab_type": "text",
    "id": "BHrQ4LUWydFQ"
   },
   "source": [
    "### Restarting the Shell\n",
    "\n",
    "Sometimes you may want to revert an unintended side-effect or simply start from scratch.\n",
    "In this case, you may reset the Python shell through: `Runtime -> Restart runtime...`.\n",
    "To reset the Colab image completely, do `Runtime -> Restart all runtimes...`.\n",
    "\n",
    "### Using GPUs\n",
    "\n",
    "Colab gives access to a GPU (or TPU, for more compute-intensive tasks).\n",
    "Unfortunately, it is common for your session to time out after ~12 hours.\n",
    "For this reason, a good practice is to save your checkpoints to GCS so that you can resume your training easily.\n",
    "\n",
    "You may enable the GPU runtime through `Runtime -> Change runtime type -> Hardware accelerator -> GPU`.\n",
    "We will need the TPU runtime for the final activity, and learn how to enable it programmatically."
   ]
  },
  {
   "cell_type": "markdown",
   "metadata": {
    "colab_type": "text",
    "id": "zVMO1KWthSZB"
   },
   "source": [
    "# Text Processing with Python\n",
    "\n",
    "Disclaimer: If you are already familiar with Python, it is probably safe to skip this section.\n",
    "\n",
    "---\n",
    "\n",
    "[Python]() is an interpreted, high level programming language:\n",
    "\n",
    "- **Strongly typed:** types are enforced\n",
    "- **Dynamically implicitly typed:** you don't have to explicitly specify the type of a variable (unlike languages like Java or C)\n",
    "- **Case sensitive:** `afirm` and `AFIRM` represent different variables\n",
    "- **Object-oriented:** everything is an object!\n",
    "\n",
    "In this tutorial, we are going to use Python 3.\n",
    "Now we will go through basic a few basic steps of text processing to introduce Python.\n",
    "As you will see, the Python syntax is quite clean and intuitive, which makes it the ideal choice for data manipulation.\n"
   ]
  },
  {
   "cell_type": "markdown",
   "metadata": {
    "colab_type": "text",
    "id": "z9r8Zwir_RCE"
   },
   "source": [
    "For the purposes of this activity, let's take a sample query and passage pair from the [MS MARCO passage ranking collection](http://www.msmarco.org/):"
   ]
  },
  {
   "cell_type": "code",
   "execution_count": null,
   "metadata": {
    "colab": {},
    "colab_type": "code",
    "id": "puVYdaXy4agr"
   },
   "outputs": [],
   "source": [
    "query = 'Why did the US make the atomic bomb?'\n",
    "passage = '''\n",
    "The presence of communication amid scientific minds was equally important \\\n",
    "to the success of the Manhattan Project as scientific intellect was. The \\\n",
    "only cloud hanging over the impressive achievement of the atomic researchers \\\n",
    "and engineers is what their success truly meant; hundreds of thousands of \\\n",
    "innocent lives obliterated.\n",
    "'''"
   ]
  },
  {
   "cell_type": "markdown",
   "metadata": {
    "colab_type": "text",
    "id": "mjvnVqdv4hC3"
   },
   "source": [
    "Comments start with the pound sign, `#`, and are ignored during interpretation.\n",
    "\n",
    "A string in Python are enclosed in single or double quotes.\n",
    "On the other hand, a multiline string has triplel quotes around it.\n",
    "If it is too long, a multiline string can be dispersed over multiple lines with the `\\` character."
   ]
  },
  {
   "cell_type": "markdown",
   "metadata": {
    "colab_type": "text",
    "id": "O9Z9z68y7JUB"
   },
   "source": [
    "Let's first normalize the case with the built-in Python function `lower()`:"
   ]
  },
  {
   "cell_type": "code",
   "execution_count": null,
   "metadata": {
    "colab": {
     "base_uri": "https://localhost:8080/",
     "height": 88
    },
    "colab_type": "code",
    "id": "Xiiy_VeF5UCP",
    "outputId": "bf0e53ff-c6f2-4c9c-e9d7-c71ebae0fa27"
   },
   "outputs": [],
   "source": [
    "query = query.lower()\n",
    "passage = passage.lower()\n",
    "\n",
    "print('{query}: {passage}'.format(query=query, passage=passage))"
   ]
  },
  {
   "cell_type": "markdown",
   "metadata": {
    "colab_type": "text",
    "id": "HD-V2C_1ixrz"
   },
   "source": [
    "**Exercise:**\n",
    "Note that `query` and `passage` are attached to the variables in the formatted print statement.\n",
    "Try reversing the order of variables inside `format` and see if the output changes."
   ]
  },
  {
   "cell_type": "markdown",
   "metadata": {
    "colab_type": "text",
    "id": "LxH2cSCsBFut"
   },
   "source": [
    "The output of `print` can be formatted as above where curly braces denote the variables inside parantheses.\n",
    "\n",
    "Now, let's split `passage` into individual tokens."
   ]
  },
  {
   "cell_type": "code",
   "execution_count": null,
   "metadata": {
    "colab": {
     "base_uri": "https://localhost:8080/",
     "height": 54
    },
    "colab_type": "code",
    "id": "sIZw9g-OCCt5",
    "outputId": "ad37c103-e8ce-4f26-c213-211f8a80a117"
   },
   "outputs": [],
   "source": [
    "tokens = passage.split()\n",
    "print(tokens)"
   ]
  },
  {
   "cell_type": "markdown",
   "metadata": {
    "colab_type": "text",
    "id": "ggwCk2KOj175"
   },
   "source": [
    "**Exercise:**\n",
    "Split query into tokens.\n",
    "Find the tokens shared between the query and the passage."
   ]
  },
  {
   "cell_type": "code",
   "execution_count": null,
   "metadata": {
    "colab": {
     "base_uri": "https://localhost:8080/",
     "height": 34
    },
    "colab_type": "code",
    "id": "8wFe-P33kCrz",
    "outputId": "2e658918-435c-4537-f40d-820c17fcbc57"
   },
   "outputs": [],
   "source": [
    "query_tokens = query.split()\n",
    "set(tokens) & set(query_tokens)"
   ]
  },
  {
   "cell_type": "markdown",
   "metadata": {
    "colab_type": "text",
    "id": "8M1pBqEAC2kp"
   },
   "source": [
    "The resulting variable is a Python list.\n",
    "Let's check the number of tokens (equivalent to the length of the list):"
   ]
  },
  {
   "cell_type": "code",
   "execution_count": null,
   "metadata": {
    "colab": {
     "base_uri": "https://localhost:8080/",
     "height": 34
    },
    "colab_type": "code",
    "id": "XS67ccJsC-UE",
    "outputId": "57bb969f-1119-4951-de50-20a301e490b3"
   },
   "outputs": [],
   "source": [
    "len(tokens)"
   ]
  },
  {
   "cell_type": "markdown",
   "metadata": {
    "colab_type": "text",
    "id": "NtUoQCoU5FYE"
   },
   "source": [
    "Indexing in Python starts with 0.\n",
    "Let's search for the 7th (index 6) token of the query in the passage:"
   ]
  },
  {
   "cell_type": "code",
   "execution_count": null,
   "metadata": {
    "colab": {
     "base_uri": "https://localhost:8080/",
     "height": 34
    },
    "colab_type": "code",
    "id": "0TUdAaZO5XQj",
    "outputId": "c1038fa8-f5b7-44c2-b464-1d148f6ef677"
   },
   "outputs": [],
   "source": [
    "query[6]\n",
    "query[6] in passage"
   ]
  },
  {
   "cell_type": "markdown",
   "metadata": {
    "colab_type": "text",
    "id": "IZiBsmB-kaUP"
   },
   "source": [
    "**Exercise:**\n",
    "Extract the first 5 tokens of the passage."
   ]
  },
  {
   "cell_type": "code",
   "execution_count": null,
   "metadata": {
    "colab": {
     "base_uri": "https://localhost:8080/",
     "height": 34
    },
    "colab_type": "code",
    "id": "QvFhQH8Ikl8b",
    "outputId": "ef687f83-7c2d-4201-8a5b-c3e22f3cecb3"
   },
   "outputs": [],
   "source": [
    "tokens[:5]"
   ]
  },
  {
   "cell_type": "markdown",
   "metadata": {
    "colab_type": "text",
    "id": "xZcEJXGaCbfq"
   },
   "source": [
    "We can count the frequency of each token with `Counter`.\n",
    "This function is defined in the `collections` module, which we need to import before using `Counter`.\n",
    "Note that the output of `Counter` is a Python dictionary where the key is the token and the value is the number of occurrences."
   ]
  },
  {
   "cell_type": "code",
   "execution_count": null,
   "metadata": {
    "colab": {
     "base_uri": "https://localhost:8080/",
     "height": 646
    },
    "colab_type": "code",
    "id": "b1XK1HvRCIo1",
    "outputId": "cb22c579-ef4f-4614-f2ce-f826d91f4377"
   },
   "outputs": [],
   "source": [
    "import collections\n",
    "\n",
    "counts = collections.Counter(tokens)\n",
    "counts"
   ]
  },
  {
   "cell_type": "markdown",
   "metadata": {
    "colab_type": "text",
    "id": "G3mMWlDPe9K8"
   },
   "source": [
    "Note that Python does not have a statement termination character, such as `;`.\n",
    "Instead, blocks are specified by indentation.\n",
    "\n",
    "Let's traverse the dictionary and only output terms that appear more than once:"
   ]
  },
  {
   "cell_type": "code",
   "execution_count": null,
   "metadata": {
    "colab": {
     "base_uri": "https://localhost:8080/",
     "height": 85
    },
    "colab_type": "code",
    "id": "PfbmH6cMCWii",
    "outputId": "1053795c-0411-4868-d125-10c4f80b4b86"
   },
   "outputs": [],
   "source": [
    "for (k, v) in counts.items():\n",
    "  if v > 1:\n",
    "    print(k)"
   ]
  },
  {
   "cell_type": "markdown",
   "metadata": {
    "colab_type": "text",
    "id": "pl9kIB_viUPv"
   },
   "source": [
    "**Exercise:**\n",
    "Combine query and passage into a single text, and count its tokens.\n",
    "\n",
    "**Exercise:**\n",
    "Implement TF-IDF in Python.\n",
    "TODO: pull entire collection?"
   ]
  },
  {
   "cell_type": "markdown",
   "metadata": {
    "colab_type": "text",
    "id": "NaC_xUHP_LMI"
   },
   "source": [
    "## Packages\n",
    "\n",
    "Many Python packages come pre-installed in a new Colab notebook.\n",
    "You may install any additional packages that you need through [pip](https://pypi.org/project/pip/), Python's de facto package management system.\n",
    "\n",
    "Let's install `matplotlib` and `numpy` to plot the histogram of tokens in `passage`:"
   ]
  },
  {
   "cell_type": "code",
   "execution_count": null,
   "metadata": {
    "colab": {
     "base_uri": "https://localhost:8080/",
     "height": 190
    },
    "colab_type": "code",
    "id": "tBZaOBmxiBcd",
    "outputId": "6ef1e8fa-c64e-4430-a902-ca822fca2c22"
   },
   "outputs": [],
   "source": [
    "!pip install matplotlib\n",
    "!pip install numpy"
   ]
  },
  {
   "cell_type": "code",
   "execution_count": null,
   "metadata": {
    "colab": {
     "base_uri": "https://localhost:8080/",
     "height": 332
    },
    "colab_type": "code",
    "id": "mJwTr_2_2h93",
    "outputId": "d20a03ef-9b61-44e4-d292-73cb25e8442d"
   },
   "outputs": [],
   "source": [
    "import matplotlib.pyplot as plt\n",
    "import numpy as np\n",
    "\n",
    "%matplotlib inline\n",
    "x = np.arange(len(counts))\n",
    "y = list(counts.values())\n",
    "\n",
    "plt.bar(x, y, align='center', alpha=0.5)\n",
    "plt.xticks(x, list(counts.keys()), rotation='vertical')\n",
    "plt.ylabel('Term Frequency')\n",
    "plt.show()"
   ]
  }
 ],
 "metadata": {
  "colab": {
   "collapsed_sections": [],
   "name": "afirm2020-intro.ipynb",
   "provenance": []
  },
  "kernelspec": {
   "display_name": "Python 3",
   "language": "python",
   "name": "python3"
  },
  "language_info": {
   "codemirror_mode": {
    "name": "ipython",
    "version": 3
   },
   "file_extension": ".py",
   "mimetype": "text/x-python",
   "name": "python",
   "nbconvert_exporter": "python",
   "pygments_lexer": "ipython3",
   "version": "3.7.2"
  }
 },
 "nbformat": 4,
 "nbformat_minor": 1
}
