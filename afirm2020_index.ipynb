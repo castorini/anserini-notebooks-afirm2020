{
 "cells": [
  {
   "cell_type": "markdown",
   "metadata": {
    "colab_type": "text",
    "id": "p4JoAhnmDwlF"
   },
   "source": [
    "# Indexing"
   ]
  },
  {
   "cell_type": "markdown",
   "metadata": {
    "colab_type": "text",
    "id": "wxJfO72PD2Re"
   },
   "source": [
    "In this activity, we are going to index the [MS MARCO](http://www.msmarco.org/) passage collection and explore some features of the index."
   ]
  },
  {
   "cell_type": "markdown",
   "metadata": {
    "colab_type": "text",
    "id": "46p_d_BWahwD"
   },
   "source": [
    "## Setup\n",
    "\n",
    "We are going to use the open-source [Anserini](https://github.com/castorini/anserini) information retrieval toolkit to run the experiment.\n",
    "Anserini provides an easy-to-use interface over the popular [Apache Lucene](https://lucene.apache.org/) search library to facilitate rapid experimentation.\n",
    "\n",
    "The `%%capture` magic is used to suppress the output of the cell.\n",
    "You may comment out this line to view the output.\n",
    "This is especially useful when debugging.\n",
    "\n",
    "Here we clone the repository from GitHub but won't be dealing with other facets of Git. If you want to dive deeper into Git, here are some good resources:\n",
    "\n",
    "- [Visual Git](http://marklodato.github.io/visual-git-guide/index-en.html)\n",
    "- [Think Like (a) Git](http://think-like-a-git.net/)\n",
    "- [Git from the bottom up](http://ftp.newartisans.com/pub/git.from.bottom.up.pdf)"
   ]
  },
  {
   "cell_type": "code",
   "execution_count": null,
   "metadata": {
    "colab": {},
    "colab_type": "code",
    "id": "SFIMhczyD0yD"
   },
   "outputs": [],
   "source": [
    "%%capture\n",
    "\n",
    "!git clone https://github.com/castorini/anserini.git"
   ]
  },
  {
   "cell_type": "markdown",
   "metadata": {
    "colab_type": "text",
    "id": "NtZfTTOqZh8C"
   },
   "source": [
    "Set up Java 11:"
   ]
  },
  {
   "cell_type": "code",
   "execution_count": null,
   "metadata": {
    "colab": {
     "base_uri": "https://localhost:8080/",
     "height": 190
    },
    "colab_type": "code",
    "id": "VLHfZ3PPZjIw",
    "outputId": "b22ebe4d-d5df-4aa5-dd8e-8450f427002e"
   },
   "outputs": [],
   "source": [
    "%%capture\n",
    "\n",
    "!apt-get install -y openjdk-11-jdk-headless\n",
    "%env JAVA_HOME=/usr/lib/jvm/java-11-openjdk-amd64"
   ]
  },
  {
   "cell_type": "markdown",
   "metadata": {
    "colab_type": "text",
    "id": "mHNC0K6mfu3I"
   },
   "source": [
    "After cloning the Anserini repo, build using Maven:"
   ]
  },
  {
   "cell_type": "code",
   "execution_count": null,
   "metadata": {
    "colab": {
     "base_uri": "https://localhost:8080/",
     "height": 1000
    },
    "colab_type": "code",
    "id": "YI0TsF0sf3qe",
    "outputId": "a9abba73-f720-4e97-feb5-e828b9828273"
   },
   "outputs": [],
   "source": [
    "%%capture\n",
    "\n",
    "# Install Maven\n",
    "!apt-get install maven\n",
    "\n",
    "# Build Anserini\n",
    "!cd anserini && mvn clean package appassembler:assemble"
   ]
  },
  {
   "cell_type": "markdown",
   "metadata": {
    "colab_type": "text",
    "id": "Lc5bS6NAVBmi"
   },
   "source": [
    "Let's upload the Anserini jar so that we can use it directly in future activities:"
   ]
  },
  {
   "cell_type": "code",
   "execution_count": null,
   "metadata": {
    "colab": {
     "base_uri": "https://localhost:8080/",
     "height": 88
    },
    "colab_type": "code",
    "id": "EBdCGfGaVDsz",
    "outputId": "809a2c46-8017-452d-b027-89fc9fe1d671"
   },
   "outputs": [],
   "source": [
    "%%capture\n",
    "\n",
    "!gsutil -m cp anserini/target/anserini-0.7.1-SNAPSHOT-fatjar.jar gs://afirm2020"
   ]
  },
  {
   "cell_type": "markdown",
   "metadata": {
    "colab_type": "text",
    "id": "fH8QRjXXaN7R"
   },
   "source": [
    "Build the `trec_eval` tool (more on this later):"
   ]
  },
  {
   "cell_type": "code",
   "execution_count": null,
   "metadata": {
    "colab": {},
    "colab_type": "code",
    "id": "32qqBId1gIfd"
   },
   "outputs": [],
   "source": [
    "%%capture\n",
    "\n",
    "!cd anserini/eval && tar xvfz trec_eval.9.0.4.tar.gz && cd trec_eval.9.0.4 && make"
   ]
  },
  {
   "cell_type": "markdown",
   "metadata": {
    "colab_type": "text",
    "id": "sOxCxt9wc9OL"
   },
   "source": [
    "## Data Preparation"
   ]
  },
  {
   "cell_type": "markdown",
   "metadata": {
    "colab_type": "text",
    "id": "Y2-J2uyKfh2D"
   },
   "source": [
    "MS MARCO (MicroSoft MAchine Reading COmprehension) is a large-scale dataset that defines many tasks from question answering to ranking.\n",
    "Here we focus on the collection designed for passage re-ranking.\n",
    "\n",
    "This collection is composed of the top 1000 most relevant passages for each query, as retrieved by BM25.\n",
    "\n",
    "First, create a directory named `data/msmarco_passage` to hold the collection.\n",
    "Download the MS MARCO passage collection."
   ]
  },
  {
   "cell_type": "code",
   "execution_count": null,
   "metadata": {
    "colab": {},
    "colab_type": "code",
    "id": "rfHF9gehf8pj"
   },
   "outputs": [],
   "source": [
    "%%capture\n",
    "\n",
    "!mkdir -p data/msmarco_passage\n",
    "!wget https://msmarco.blob.core.windows.net/msmarcoranking/collectionandqueries.tar.gz -P data/msmarco_passage"
   ]
  },
  {
   "cell_type": "markdown",
   "metadata": {
    "colab_type": "text",
    "id": "twyFrLftc_HQ"
   },
   "source": [
    "Confirm that `collectionandqueries.tar.gz` has MD5 checksum of `31644046b18952c1386cd4564ba2ae69`."
   ]
  },
  {
   "cell_type": "code",
   "execution_count": null,
   "metadata": {
    "colab": {
     "base_uri": "https://localhost:8080/",
     "height": 54
    },
    "colab_type": "code",
    "id": "EoHNf9NMgFWP",
    "outputId": "e084358d-8aef-4f53-bbf8-4dd0965d5db2"
   },
   "outputs": [],
   "source": [
    "!md5sum data/msmarco_passage/collectionandqueries.tar.gz"
   ]
  },
  {
   "cell_type": "markdown",
   "metadata": {
    "colab_type": "text",
    "id": "IB8hNDBSgD4c"
   },
   "source": [
    "Extract the files:"
   ]
  },
  {
   "cell_type": "code",
   "execution_count": null,
   "metadata": {
    "colab": {
     "base_uri": "https://localhost:8080/",
     "height": 153
    },
    "colab_type": "code",
    "id": "xMu7tVjQgHz4",
    "outputId": "733869f2-83ff-4491-eb06-c182aef3ba41"
   },
   "outputs": [],
   "source": [
    "!tar -xzvf data/msmarco_passage/collectionandqueries.tar.gz -C data/msmarco_passage"
   ]
  },
  {
   "cell_type": "markdown",
   "metadata": {
    "colab_type": "text",
    "id": "7tvrnDt_W36P"
   },
   "source": [
    "Let's first explore the collection."
   ]
  },
  {
   "cell_type": "code",
   "execution_count": null,
   "metadata": {
    "colab": {
     "base_uri": "https://localhost:8080/",
     "height": 139
    },
    "colab_type": "code",
    "id": "B7PNkiCkXEek",
    "outputId": "42a36480-3ddb-419c-9c79-90e48d428aad"
   },
   "outputs": [],
   "source": [
    "file=\"data/msmarco_passage/collection.tsv\"\n",
    "!wc -l $file\n",
    "!head -5 $file"
   ]
  },
  {
   "cell_type": "markdown",
   "metadata": {
    "colab_type": "text",
    "id": "zx6gJbW9XZt-"
   },
   "source": [
    "`collection.tsv` contains 8841823 passages, each labeled with a unique passage ID."
   ]
  },
  {
   "cell_type": "markdown",
   "metadata": {
    "colab_type": "text",
    "id": "k8EwBpcoYN9G"
   },
   "source": [
    "**Exercise:**\n",
    "Find how many passages contain the phrase \"South Africa\" using `grep`, `wc` and the pipe operator `|`.\n",
    "Also output the first 10 passages."
   ]
  },
  {
   "cell_type": "code",
   "execution_count": null,
   "metadata": {
    "colab": {
     "base_uri": "https://localhost:8080/",
     "height": 224
    },
    "colab_type": "code",
    "id": "CgajKG7OYOXQ",
    "outputId": "6b463521-680b-4c55-cd4c-b6f2357b494b"
   },
   "outputs": [],
   "source": [
    "!grep \"South Africa\" $file | wc -l\n",
    "!grep \"South Africa\" $file | head -10"
   ]
  },
  {
   "cell_type": "markdown",
   "metadata": {
    "colab_type": "text",
    "id": "_q7IcAxZZZdS"
   },
   "source": [
    "Now let's look at the development queries.\n",
    "You may realize that there are actually two sets of dev queries: `queries.dev.tsv` and `queries.dev.small.tsv`."
   ]
  },
  {
   "cell_type": "code",
   "execution_count": null,
   "metadata": {
    "colab": {
     "base_uri": "https://localhost:8080/",
     "height": 51
    },
    "colab_type": "code",
    "id": "VDTUAaI5Zln6",
    "outputId": "cd879aea-55ca-48c5-ad8d-b82a28d78078"
   },
   "outputs": [],
   "source": [
    "!wc -l data/msmarco_passage/queries.dev.tsv\n",
    "!wc -l data/msmarco_passage/queries.dev.small.tsv"
   ]
  },
  {
   "cell_type": "markdown",
   "metadata": {
    "colab_type": "text",
    "id": "p4GKPn_eabkm"
   },
   "source": [
    "The latter contains only 6,980 queries compared to the 101,093 queries of the first one.\n",
    "In this tutorial, we will be using the smaller query sets for demonstration purposes.\n",
    "\n",
    "**Exercise:**\n",
    "Output the top 3 queries that contain the term \"football\" and count the total number of words in them."
   ]
  },
  {
   "cell_type": "code",
   "execution_count": null,
   "metadata": {
    "colab": {
     "base_uri": "https://localhost:8080/",
     "height": 85
    },
    "colab_type": "code",
    "id": "FM7paOITbuyx",
    "outputId": "0a37a21c-b83a-4c5d-f51f-22721b78cfc2"
   },
   "outputs": [],
   "source": [
    "!grep \"football\" data/msmarco_passage/queries.dev.small.tsv | head -3\n",
    "!grep \"football\" data/msmarco_passage/queries.dev.small.tsv | head -3 | cut -f2 | wc -w"
   ]
  },
  {
   "cell_type": "markdown",
   "metadata": {
    "colab_type": "text",
    "id": "dAakebUMc2Hr"
   },
   "source": [
    "The final important component of the collection is the qrels files."
   ]
  },
  {
   "cell_type": "code",
   "execution_count": null,
   "metadata": {
    "colab": {
     "base_uri": "https://localhost:8080/",
     "height": 102
    },
    "colab_type": "code",
    "id": "jBtmYJu1c_mc",
    "outputId": "f44a0c10-bdcb-44d2-e365-ef7549798e37"
   },
   "outputs": [],
   "source": [
    "!head -5 data/msmarco_passage/qrels.dev.small.tsv"
   ]
  },
  {
   "cell_type": "markdown",
   "metadata": {
    "colab_type": "text",
    "id": "hoxreCJ9dHJu"
   },
   "source": [
    "**Exercise:**\n",
    "Get the query ID of the query `average pay for nfl football players (39908)` from the previous exercise and see how many passages it is associated with."
   ]
  },
  {
   "cell_type": "code",
   "execution_count": null,
   "metadata": {
    "colab": {
     "base_uri": "https://localhost:8080/",
     "height": 34
    },
    "colab_type": "code",
    "id": "-IzufgMcdRPl",
    "outputId": "22a4b58a-e5c2-472a-fe95-7ff33451f364"
   },
   "outputs": [],
   "source": [
    "!grep \"39908\" data/msmarco_passage/qrels.dev.small.tsv"
   ]
  },
  {
   "cell_type": "markdown",
   "metadata": {
    "colab_type": "text",
    "id": "6eQO468kdwxW"
   },
   "source": [
    "**Exercise:**\n",
    "Check the first passage that the query is associated with from the `collection.tsv` file.\n",
    "Does it make sense?"
   ]
  },
  {
   "cell_type": "code",
   "execution_count": null,
   "metadata": {
    "colab": {
     "base_uri": "https://localhost:8080/",
     "height": 54
    },
    "colab_type": "code",
    "id": "3f6R5cfNdnTw",
    "outputId": "f057311a-10da-4088-c8e5-dadc8e141f1c"
   },
   "outputs": [],
   "source": [
    "!grep \"7539216\" data/msmarco_passage/collection.tsv"
   ]
  },
  {
   "cell_type": "markdown",
   "metadata": {
    "colab_type": "text",
    "id": "yGxMRIVmgKWP"
   },
   "source": [
    "As you can see, the original MS MARCO collection is a tab-separated values (TSV) file.\n",
    "We need to convert the collection into the jsonl format that can be processed by Anserini.\n",
    "jsonl files contain JSON object per line."
   ]
  },
  {
   "cell_type": "code",
   "execution_count": null,
   "metadata": {
    "colab": {},
    "colab_type": "code",
    "id": "wwl0o9R1ggZo"
   },
   "outputs": [],
   "source": [
    "%%capture\n",
    "\n",
    "!cd anserini && python ./src/main/python/msmarco/convert_collection_to_jsonl.py \\\n",
    " --collection_path ../data/msmarco_passage/collection.tsv --output_folder ../data/msmarco_passage/collection_jsonl"
   ]
  },
  {
   "cell_type": "markdown",
   "metadata": {
    "colab_type": "text",
    "id": "ap421Se6gqa7"
   },
   "source": [
    "The above command should generate 9 jsonl files in our `data/msmarco_passage/collection_jsonl` directory, each with 1M lines (except for the last one, which should have 841,823 lines)."
   ]
  },
  {
   "cell_type": "code",
   "execution_count": null,
   "metadata": {
    "colab": {
     "base_uri": "https://localhost:8080/",
     "height": 187
    },
    "colab_type": "code",
    "id": "xZR9OEVFgzpy",
    "outputId": "377d42e1-4dbf-4c36-b78c-0432666db158"
   },
   "outputs": [],
   "source": [
    "!wc -l data/msmarco_passage/collection_jsonl/*"
   ]
  },
  {
   "cell_type": "markdown",
   "metadata": {
    "colab_type": "text",
    "id": "tFmhUkUOexI-"
   },
   "source": [
    "jsonl files are JSON files with keys `id` and `contents`:"
   ]
  },
  {
   "cell_type": "code",
   "execution_count": null,
   "metadata": {
    "colab": {
     "base_uri": "https://localhost:8080/",
     "height": 122
    },
    "colab_type": "code",
    "id": "Xd62bv8bexUm",
    "outputId": "eae2d7bd-e2e2-461a-b899-ef5162fcc551"
   },
   "outputs": [],
   "source": [
    "!head -5 data/msmarco_passage/collection_jsonl/docs00.json"
   ]
  },
  {
   "cell_type": "markdown",
   "metadata": {
    "colab_type": "text",
    "id": "S7_kBEkxivcs"
   },
   "source": [
    "Let's remove the original files to make room for the index:"
   ]
  },
  {
   "cell_type": "code",
   "execution_count": null,
   "metadata": {
    "colab": {},
    "colab_type": "code",
    "id": "A7zunsLHiyMh"
   },
   "outputs": [],
   "source": [
    "!rm data/msmarco_passage/*.tsv\n",
    "!rm data/msmarco_passage/*.tar.gz\n",
    "!rm -rf sample_data"
   ]
  },
  {
   "cell_type": "markdown",
   "metadata": {
    "colab_type": "text",
    "id": "OnEa9PuhEFgT"
   },
   "source": [
    "## Indexing\n",
    "\n",
    "Some common indexing options with Anserini:\n",
    "\n",
    "- `input`: Path to collection\n",
    "- `threads`: Number of threads to run\n",
    "- `collection`: Type of Anserini Collection, e.g., LuceneDocumentGenerator, TweetGenerator (subclass of LuceneDocumentGenerator for TREC Microblog)\n",
    "- `index`: Path to index output\n",
    "- `storePositions`: Boolean flag to store positions\n",
    "- `storeDocvectors`: Boolean flag to store document vbectors\n",
    "- `storeRawDocs`: Boolean flag to store raw document text\n",
    "- `keepStopwords`: Boolean flag to keep stopwords (False by default) \n",
    "- `stemmer`: Stemmer to use ([Porter](http://snowball.tartarus.org/algorithms/porter/stemmer.html) by default)"
   ]
  },
  {
   "cell_type": "code",
   "execution_count": null,
   "metadata": {
    "colab": {
     "base_uri": "https://localhost:8080/",
     "height": 700
    },
    "colab_type": "code",
    "id": "EG0p1FrCEGh-",
    "outputId": "9d940523-61cc-4511-9a7a-e79c2c9e2723"
   },
   "outputs": [],
   "source": [
    "!cd anserini && sh target/appassembler/bin/IndexCollection -collection JsonCollection -input ../data/msmarco_passage/collection_jsonl \\\n",
    " -index ../indexes/lucene-index.msmarco-passage.pos+docvectors+rawdocs -generator LuceneDocumentGenerator -threads 9 \\\n",
    " -storePositions -storeDocvectors -storeRawDocs"
   ]
  },
  {
   "cell_type": "markdown",
   "metadata": {
    "colab_type": "text",
    "id": "EXDsGo30a7Pg"
   },
   "source": [
    "Check the index at the specified destination:"
   ]
  },
  {
   "cell_type": "code",
   "execution_count": null,
   "metadata": {
    "colab": {
     "base_uri": "https://localhost:8080/",
     "height": 34
    },
    "colab_type": "code",
    "id": "kwuGDOW-a97r",
    "outputId": "d05e277c-be1b-47e3-8957-dfdd41a19766"
   },
   "outputs": [],
   "source": [
    "!du -h indexes/lucene-index.msmarco-passage.pos+docvectors+rawdocs"
   ]
  },
  {
   "cell_type": "markdown",
   "metadata": {
    "colab_type": "text",
    "id": "CE_57JeoSHAR"
   },
   "source": [
    "Let's upload our index to a bucket on the Google Cloud Storage so that we can re-use it in later notebooks:"
   ]
  },
  {
   "cell_type": "code",
   "execution_count": null,
   "metadata": {
    "colab": {},
    "colab_type": "code",
    "id": "7lSDIbpZSN4Z"
   },
   "outputs": [],
   "source": [
    "%%capture\n",
    "\n",
    "!gsutil -m cp -r indexes gs://afirm2020"
   ]
  },
  {
   "cell_type": "markdown",
   "metadata": {
    "colab_type": "text",
    "id": "U3F97ppoz7GH"
   },
   "source": [
    "## Explore the Index"
   ]
  },
  {
   "cell_type": "markdown",
   "metadata": {
    "colab_type": "text",
    "id": "I3y-nap2bBFX"
   },
   "source": [
    "We can explore the index with [Pyserini](https://github.com/castorini/pyserini), the Python interface to Anserini."
   ]
  },
  {
   "cell_type": "markdown",
   "metadata": {
    "colab_type": "text",
    "id": "i7mfRPK8mlKv"
   },
   "source": [
    "### Setup"
   ]
  },
  {
   "cell_type": "markdown",
   "metadata": {
    "colab_type": "text",
    "id": "3AgSkzr0mobG"
   },
   "source": [
    "Install Python dependencies:"
   ]
  },
  {
   "cell_type": "code",
   "execution_count": null,
   "metadata": {
    "colab": {
     "base_uri": "https://localhost:8080/",
     "height": 292
    },
    "colab_type": "code",
    "id": "CBlm_2LwmqNS",
    "outputId": "33181cf5-a595-4ec7-a0f6-cd5b2e97fa1b"
   },
   "outputs": [],
   "source": [
    "%%capture\n",
    "\n",
    "!pip install pyjnius==1.2.1\n",
    "!pip install pyserini\n",
    "\n",
    "import os\n",
    "os.environ['JAVA_HOME'] = '/usr/lib/jvm/java-11-openjdk-amd64'"
   ]
  },
  {
   "cell_type": "markdown",
   "metadata": {
    "colab_type": "text",
    "id": "qebCOu3vmtVc"
   },
   "source": [
    "Fix known issue with pyjnius (see [this explanation](https://github.com/castorini/pyserini/blob/master/README.md#known-issues) for details):"
   ]
  },
  {
   "cell_type": "code",
   "execution_count": null,
   "metadata": {
    "colab": {},
    "colab_type": "code",
    "id": "V-9Ij-VEmy0Z"
   },
   "outputs": [],
   "source": [
    "%%capture\n",
    "\n",
    "!mkdir -p /usr/lib/jvm/java-1.11.0-openjdk-amd64/jre/lib/amd64/server/\n",
    "!ln -s /usr/lib/jvm/java-1.11.0-openjdk-amd64/lib/server/libjvm.so /usr/lib/jvm/java-1.11.0-openjdk-amd64/jre/lib/amd64/server/libjvm.so"
   ]
  },
  {
   "cell_type": "markdown",
   "metadata": {
    "colab_type": "text",
    "id": "clT0MAQ_HaU8"
   },
   "source": [
    "Let's point Pyserini to the Anserini jar that we built earlier:"
   ]
  },
  {
   "cell_type": "code",
   "execution_count": null,
   "metadata": {
    "colab": {},
    "colab_type": "code",
    "id": "liucF_AqHda1"
   },
   "outputs": [],
   "source": [
    "os.environ['ANSERINI_CLASSPATH'] = 'anserini/target'"
   ]
  },
  {
   "cell_type": "code",
   "execution_count": null,
   "metadata": {
    "colab": {},
    "colab_type": "code",
    "id": "JZz5f1CuHODJ"
   },
   "outputs": [],
   "source": [
    "from pyserini.index import pyutils\n",
    "\n",
    "index_utils = pyutils.IndexReaderUtils('indexes/lucene-index.msmarco-passage.pos+docvectors+rawdocs')"
   ]
  },
  {
   "cell_type": "markdown",
   "metadata": {
    "colab_type": "text",
    "id": "2qDr_6ITIys1"
   },
   "source": [
    "Collection frequency corresponds to the total number of times a term appears in the index.\n",
    "Document frequency, as the name implies, refers to the number of documents that contains the term.\n",
    "\n",
    "For example, consider a toy index that looks like:\n",
    "\n",
    "```\n",
    "Document 1: \"here is some text here is some more text\"\n",
    "Document 2: \"more texts\"\n",
    "Document 3: \"here is a test\"\n",
    "```\n",
    "\n",
    "The collection frequency of the term `text` is 3 (2 times in Document 1 and once in Document 2).\n",
    "However, its document frequency is 2.\n",
    "Intuitively, document frequency is always equal to or less than collection frequency."
   ]
  },
  {
   "cell_type": "markdown",
   "metadata": {
    "colab_type": "text",
    "id": "6skB5TMlHTgf"
   },
   "source": [
    "Let's choose a term, say, `played`.\n",
    "We can now compute the collection and document frequencies of the term:"
   ]
  },
  {
   "cell_type": "code",
   "execution_count": null,
   "metadata": {
    "colab": {
     "base_uri": "https://localhost:8080/",
     "height": 68
    },
    "colab_type": "code",
    "id": "O5AmhPq0Hd07",
    "outputId": "558b3725-53d0-4873-b5a9-5d75c501b5cc"
   },
   "outputs": [],
   "source": [
    "term = 'played'\n",
    "\n",
    "stemmed_form = index_utils.analyze_term(term)\n",
    "collection_freq, doc_freq = index_utils.get_term_counts(term)\n",
    "\n",
    "print('Stemmed form: {}\\nCollection frequency: {}\\nDocument frequency: {}'.format(stemmed_form, collection_freq, doc_freq))"
   ]
  },
  {
   "cell_type": "markdown",
   "metadata": {
    "colab_type": "text",
    "id": "QRqFcgDMnEnP"
   },
   "source": [
    "**Exercise:**\n",
    "Get the same statistics for the term `playing`.\n",
    "Compare the collection and document frequencies to that of the term `played`.\n",
    "Why are different/the same?"
   ]
  },
  {
   "cell_type": "code",
   "execution_count": null,
   "metadata": {
    "colab": {
     "base_uri": "https://localhost:8080/",
     "height": 68
    },
    "colab_type": "code",
    "id": "EFyle6m4nJun",
    "outputId": "43953a71-50ce-4fe0-f6a2-167dfaa461a8"
   },
   "outputs": [],
   "source": [
    "term2 = 'playing'\n",
    "\n",
    "stemmed_form = index_utils.analyze_term(term2)\n",
    "collection_freq, doc_freq = index_utils.get_term_counts(term2)\n",
    "\n",
    "print('Stemmed form: {}\\nCollection frequency: {}\\nDocument frequency: {}'.format(stemmed_form, collection_freq, doc_freq))"
   ]
  },
  {
   "cell_type": "markdown",
   "metadata": {
    "colab_type": "text",
    "id": "3-mb5NWoHgtn"
   },
   "source": [
    "In simple terms, we can think of the index as a dictionary of terms each of which is a postings list.\n",
    "A postings list includes a list of document IDs that contains a given term, and optionally the number of occurrences in that particular document.\n",
    "Because we also stored the positions while indexing the collection, we can also access the positions at which the term appears.\n",
    "\n",
    "Let's get the postings list for the term:\n",
    "\n",
    "*TODO: better visualization*"
   ]
  },
  {
   "cell_type": "code",
   "execution_count": null,
   "metadata": {
    "colab": {
     "base_uri": "https://localhost:8080/",
     "height": 1000
    },
    "colab_type": "code",
    "id": "iaYSPtJfHm8l",
    "outputId": "67a18074-14cd-41e9-d570-731c0e0e3953"
   },
   "outputs": [],
   "source": [
    "postings_list = index_utils.get_postings_list(term)\n",
    "\n",
    "for posting in postings_list:\n",
    "  print('Document ID: {} | Term frequency: {} | Positions: {}'.format(posting.docid, posting.term_freq, ','.join([str(p) for p in posting.positions])))"
   ]
  },
  {
   "cell_type": "markdown",
   "metadata": {
    "colab_type": "text",
    "id": "vWH51Cmfp4Ls"
   },
   "source": [
    "**Exercise:**\n",
    "Note that tokens are stemmed prior to indexing.\n",
    "For example, both `played` and `playing` would share the same postings list.\n",
    "Confirm this by building the postings list for `playing`."
   ]
  },
  {
   "cell_type": "markdown",
   "metadata": {
    "colab_type": "text",
    "id": "m6q8zNrQH2Bb"
   },
   "source": [
    "Let's get its document vector of two documents:"
   ]
  },
  {
   "cell_type": "code",
   "execution_count": null,
   "metadata": {
    "colab": {
     "base_uri": "https://localhost:8080/",
     "height": 71
    },
    "colab_type": "code",
    "id": "23T_OfPRHxGk",
    "outputId": "0e2335ef-3486-4165-b271-0df5b1d8ecfd"
   },
   "outputs": [],
   "source": [
    "doc_vector1 = index_utils.get_document_vector('2803')\n",
    "doc_vector2 = index_utils.get_document_vector('3983')\n",
    "\n",
    "print(doc_vector1)\n",
    "print(doc_vector2)"
   ]
  },
  {
   "cell_type": "markdown",
   "metadata": {
    "colab_type": "text",
    "id": "XFtWIIQoqbs9"
   },
   "source": [
    "Let's view the original passages:"
   ]
  },
  {
   "cell_type": "code",
   "execution_count": null,
   "metadata": {
    "colab": {
     "base_uri": "https://localhost:8080/",
     "height": 71
    },
    "colab_type": "code",
    "id": "djOfTIlAqsLS",
    "outputId": "a7a62b87-e42d-4110-b021-e52a8d8a5f91"
   },
   "outputs": [],
   "source": [
    "!grep \"{\\\"id\\\": \\\"2803\\\"\" data/msmarco_passage/collection_jsonl/*\n",
    "!grep \"{\\\"id\\\": \\\"3983\\\"\" data/msmarco_passage/collection_jsonl/*"
   ]
  },
  {
   "cell_type": "markdown",
   "metadata": {
    "colab_type": "text",
    "id": "FLwxKl9yOEJE"
   },
   "source": [
    "The document vector gives a succinct representation of the overall document.\n",
    "We can use the respective representations of two documents to judge their similarity."
   ]
  },
  {
   "cell_type": "code",
   "execution_count": null,
   "metadata": {
    "colab": {
     "base_uri": "https://localhost:8080/",
     "height": 34
    },
    "colab_type": "code",
    "id": "7HWZtyiBOSHx",
    "outputId": "50b08514-dfb4-41b5-8a99-680faa1ff99d"
   },
   "outputs": [],
   "source": [
    "import math\n",
    "\n",
    "def dot_prod(doc1, doc2):\n",
    "  tokens1 = set(doc1.keys())\n",
    "  tokens2 = set(doc2.keys())\n",
    "  all_tokens = list(tokens1 & tokens2)  # Get common tokens (otherwise different sized dicts)\n",
    "  return sum(doc1[t] * doc2[t] for t in all_tokens)\n",
    "\n",
    "def cosine_similarity(doc1, doc2):\n",
    "  return dot_prod(doc1, doc2) / (math.sqrt(dot_prod(doc1, doc1)) * dot_prod(doc2, doc2))\n",
    "\n",
    "cosine_similarity(doc_vector1, doc_vector2)"
   ]
  },
  {
   "cell_type": "markdown",
   "metadata": {
    "colab_type": "text",
    "id": "0ws2OsICu5tM"
   },
   "source": [
    "**Exercise:**\n",
    "Pick different pairs of documents, and compute the cosine similarity between them."
   ]
  },
  {
   "cell_type": "markdown",
   "metadata": {
    "colab_type": "text",
    "id": "nvLa7ppQJEcx"
   },
   "source": [
    "*TODO: Different similarities with better examples, better visualization*"
   ]
  }
 ],
 "metadata": {
  "colab": {
   "collapsed_sections": [],
   "name": "afirm2020-index.ipynb",
   "provenance": []
  },
  "kernelspec": {
   "display_name": "Python 3",
   "language": "python",
   "name": "python3"
  },
  "language_info": {
   "codemirror_mode": {
    "name": "ipython",
    "version": 3
   },
   "file_extension": ".py",
   "mimetype": "text/x-python",
   "name": "python",
   "nbconvert_exporter": "python",
   "pygments_lexer": "ipython3",
   "version": "3.7.2"
  }
 },
 "nbformat": 4,
 "nbformat_minor": 1
}
